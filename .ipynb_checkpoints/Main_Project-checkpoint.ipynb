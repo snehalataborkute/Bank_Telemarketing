{
 "cells": [
  {
   "cell_type": "markdown",
   "id": "85d3138f",
   "metadata": {},
   "source": [
    "# 1. Problem Statement"
   ]
  },
  {
   "cell_type": "code",
   "execution_count": null,
   "id": "91a18a08",
   "metadata": {},
   "outputs": [],
   "source": [
    "Dependent Variable : - response (The classification goal is to predict if the client will \n",
    "                                 subscribe (yes/no) a term deposit (variable y).)\n",
    "                        Predicting Customer Response to Telemarketing Campaigns\n",
    "    \n",
    "Independent Variables:- age, job, marital, education, default, balance, housing, loan, day, \n",
    "    month, duration, campaign, pdays, previous, poutcome"
   ]
  },
  {
   "cell_type": "markdown",
   "id": "a49c2bfb",
   "metadata": {},
   "source": [
    "# Project Background"
   ]
  },
  {
   "cell_type": "markdown",
   "id": "9253203b",
   "metadata": {},
   "source": [
    "Nowadays, marketing spending in the banking industry is massive, meaning that it is essential for banks to optimize marketing strategies and improve effectiveness. Understanding customers’ need leads to more effective marketing plans, smarter product designs and greater customer satisfaction."
   ]
  },
  {
   "cell_type": "markdown",
   "id": "29e4801c",
   "metadata": {},
   "source": [
    "## Main Objective"
   ]
  },
  {
   "cell_type": "markdown",
   "id": "eec1e095",
   "metadata": {},
   "source": [
    "Main Objective: increase the effectiveness of the bank's telemarketing campaign\n",
    "This project will enable the bank to develop a more granular understanding of its customer base, predict customers' response to its telemarketing campaign and establish a target customer profile for future marketing plans.\n",
    "\n",
    "By analyzing customer features, such as demographics and transaction history, the bank will be able to predict customer saving behaviours and identify which type of customers is more likely to make term deposits. The bank can then focus its marketing efforts on those customers. This will not only allow the bank to secure deposits more effectively but also increase customer satisfaction by reducing undesirable advertisements for certain customers."
   ]
  },
  {
   "cell_type": "markdown",
   "id": "68bfbc57",
   "metadata": {},
   "source": [
    "# Information about dataset"
   ]
  },
  {
   "cell_type": "markdown",
   "id": "3d042294",
   "metadata": {},
   "source": [
    "### Data Set Information:"
   ]
  },
  {
   "cell_type": "markdown",
   "id": "b4961fc0",
   "metadata": {},
   "source": [
    "The data is related with direct marketing campaigns of a Portuguese banking institution. \n",
    "The marketing campaigns were based on phone calls. Often, more than one contact to the \n",
    "same client was required, in order to access if the product (bank term deposit) would be ('yes') \n",
    "or not ('no') subscribed.\n",
    "\n",
    "There are four datasets:\n",
    "1) bank-additional-full.csv with all examples (41188) and 20 inputs, ordered by date (from May 2008 to November 2010)\n",
    "\n",
    "2) bank-additional.csv with 10% of the examples (4119), randomly selected from 1), and 20 inputs.\n",
    "\n",
    "3) bank-full.csv with all examples and 17 inputs, ordered by date (older version of this dataset with less inputs).\n",
    "\n",
    "4) bank.csv with 10% of the examples and 17 inputs, randomly selected from 3 (older version of this dataset with less inputs).\n",
    "The smallest datasets are provided to test more computationally demanding machine learning algorithms (e.g., SVM).\n",
    "\n",
    "The classification goal is to predict if the client will subscribe (yes/no) a term deposit (variable y).\n"
   ]
  },
  {
   "cell_type": "markdown",
   "id": "0b7cde87",
   "metadata": {},
   "source": [
    "### Attribute Information:"
   ]
  },
  {
   "cell_type": "markdown",
   "id": "93fa7fb1",
   "metadata": {},
   "source": [
    "Input variables:\n",
    "# bank client data:\n",
    "1 - age (numeric)\n",
    "\n",
    "2 - job : type of job (categorical: 'admin.','blue-collar','entrepreneur','housemaid','management','retired','self-employed','services','student','technician','unemployed','unknown')\n",
    "\n",
    "3 - marital : marital status (categorical: 'divorced','married','single','unknown'; note: 'divorced' means divorced or widowed)\n",
    "\n",
    "4 - education (categorical: 'basic.4y','basic.6y','basic.9y','high.school','illiterate','professional.course','university.degree','unknown')\n",
    "\n",
    "5 - default: has credit in default? (categorical: 'no','yes','unknown')\n",
    "\n",
    "6 - housing: has housing loan? (categorical: 'no','yes','unknown')\n",
    "\n",
    "7 - loan: has personal loan? (categorical: 'no','yes','unknown')\n",
    "\n",
    "# related with the last contact of the current campaign:\n",
    "\n",
    "8 - contact: contact communication type (categorical: 'cellular','telephone')\n",
    "\n",
    "9 - month: last contact month of year (categorical: 'jan', 'feb', 'mar', ..., 'nov', 'dec')\n",
    "\n",
    "10 - day_of_week: last contact day of the week (categorical: 'mon','tue','wed','thu','fri')\n",
    "\n",
    "11 - duration: last contact duration, in seconds (numeric). Important note: this attribute highly affects the output target (e.g., if duration=0 then y='no'). Yet, the duration is not known before a call is performed. Also, after the end of the call y is obviously known. Thus, this input should only be included for benchmark purposes and should be discarded if the intention is to have a realistic predictive model.\n",
    "\n",
    "# other attributes:\n",
    "\n",
    "12 - campaign: number of contacts performed during this campaign and for this client (numeric, includes last contact)\n",
    "\n",
    "13 - pdays: number of days that passed by after the client was last contacted from a previous campaign (numeric; 999 means client was not previously contacted)\n",
    "\n",
    "14 - previous: number of contacts performed before this campaign and for this client (numeric)\n",
    "\n",
    "15 - poutcome: outcome of the previous marketing campaign (categorical: 'failure','nonexistent','success')\n",
    "\n",
    "# social and economic context attributes\n",
    "\n",
    "16 - emp.var.rate: employment variation rate - quarterly indicator (numeric)\n",
    "\n",
    "17 - cons.price.idx: consumer price index - monthly indicator (numeric)\n",
    "\n",
    "18 - cons.conf.idx: consumer confidence index - monthly indicator (numeric)\n",
    "\n",
    "19 - euribor3m: euribor 3 month rate - daily indicator (numeric)\n",
    "\n",
    "20 - nr.employed: number of employees - quarterly indicator (numeric)\n",
    "\n",
    "Output variable (desired target):\n",
    "\n",
    "21 - y - has the client subscribed a term deposit? (binary: 'yes','no')"
   ]
  },
  {
   "cell_type": "markdown",
   "id": "c0c00245",
   "metadata": {},
   "source": [
    "# 2. Import Libraries"
   ]
  },
  {
   "cell_type": "code",
   "execution_count": 522,
   "id": "f477b4a0",
   "metadata": {},
   "outputs": [],
   "source": [
    "import pandas as pd\n",
    "import numpy as np\n",
    "\n",
    "import matplotlib.pyplot as plt\n",
    "import seaborn as sns\n",
    "\n",
    "from sklearn.linear_model import LogisticRegression\n",
    "from sklearn.neighbors import KNeighborsClassifier\n",
    "from sklearn.tree import DecisionTreeClassifier\n",
    "from sklearn.ensemble import RandomForestClassifier\n",
    "from sklearn.ensemble import AdaBoostClassifier\n",
    "\n",
    "from sklearn.model_selection import train_test_split\n",
    "from sklearn.preprocessing import LabelEncoder,OneHotEncoder,MinMaxScaler,StandardScaler\n",
    "from sklearn.model_selection import GridSearchCV,RandomizedSearchCV\n",
    "from imblearn.over_sampling import SMOTE\n",
    "\n",
    "from statsmodels.stats.outliers_influence import variance_inflation_factor\n",
    "from sklearn.feature_selection import VarianceThreshold\n",
    "from sklearn.feature_selection import mutual_info_classif\n",
    "\n",
    "from sklearn.metrics import accuracy_score,precision_score, recall_score,f1_score,plot_confusion_matrix\n",
    "from sklearn.metrics import confusion_matrix ,classification_report,accuracy_score,roc_curve\n",
    "\n",
    "import warnings\n",
    "warnings.filterwarnings('ignore')"
   ]
  },
  {
   "cell_type": "markdown",
   "id": "fe076f9d",
   "metadata": {},
   "source": [
    "# 3. Data Gathering"
   ]
  },
  {
   "cell_type": "code",
   "execution_count": 523,
   "id": "021d7bc5",
   "metadata": {},
   "outputs": [
    {
     "data": {
      "text/html": [
       "<div>\n",
       "<style scoped>\n",
       "    .dataframe tbody tr th:only-of-type {\n",
       "        vertical-align: middle;\n",
       "    }\n",
       "\n",
       "    .dataframe tbody tr th {\n",
       "        vertical-align: top;\n",
       "    }\n",
       "\n",
       "    .dataframe thead th {\n",
       "        text-align: right;\n",
       "    }\n",
       "</style>\n",
       "<table border=\"1\" class=\"dataframe\">\n",
       "  <thead>\n",
       "    <tr style=\"text-align: right;\">\n",
       "      <th></th>\n",
       "      <th>age</th>\n",
       "      <th>job</th>\n",
       "      <th>marital</th>\n",
       "      <th>education</th>\n",
       "      <th>default</th>\n",
       "      <th>balance</th>\n",
       "      <th>housing</th>\n",
       "      <th>loan</th>\n",
       "      <th>contact</th>\n",
       "      <th>day</th>\n",
       "      <th>month</th>\n",
       "      <th>duration</th>\n",
       "      <th>campaign</th>\n",
       "      <th>pdays</th>\n",
       "      <th>previous</th>\n",
       "      <th>poutcome</th>\n",
       "      <th>deposit</th>\n",
       "    </tr>\n",
       "  </thead>\n",
       "  <tbody>\n",
       "    <tr>\n",
       "      <th>0</th>\n",
       "      <td>59</td>\n",
       "      <td>admin.</td>\n",
       "      <td>married</td>\n",
       "      <td>secondary</td>\n",
       "      <td>no</td>\n",
       "      <td>2343</td>\n",
       "      <td>yes</td>\n",
       "      <td>no</td>\n",
       "      <td>unknown</td>\n",
       "      <td>5</td>\n",
       "      <td>may</td>\n",
       "      <td>1042</td>\n",
       "      <td>1</td>\n",
       "      <td>-1</td>\n",
       "      <td>0</td>\n",
       "      <td>unknown</td>\n",
       "      <td>yes</td>\n",
       "    </tr>\n",
       "    <tr>\n",
       "      <th>1</th>\n",
       "      <td>56</td>\n",
       "      <td>admin.</td>\n",
       "      <td>married</td>\n",
       "      <td>secondary</td>\n",
       "      <td>no</td>\n",
       "      <td>45</td>\n",
       "      <td>no</td>\n",
       "      <td>no</td>\n",
       "      <td>unknown</td>\n",
       "      <td>5</td>\n",
       "      <td>may</td>\n",
       "      <td>1467</td>\n",
       "      <td>1</td>\n",
       "      <td>-1</td>\n",
       "      <td>0</td>\n",
       "      <td>unknown</td>\n",
       "      <td>yes</td>\n",
       "    </tr>\n",
       "    <tr>\n",
       "      <th>2</th>\n",
       "      <td>41</td>\n",
       "      <td>technician</td>\n",
       "      <td>married</td>\n",
       "      <td>secondary</td>\n",
       "      <td>no</td>\n",
       "      <td>1270</td>\n",
       "      <td>yes</td>\n",
       "      <td>no</td>\n",
       "      <td>unknown</td>\n",
       "      <td>5</td>\n",
       "      <td>may</td>\n",
       "      <td>1389</td>\n",
       "      <td>1</td>\n",
       "      <td>-1</td>\n",
       "      <td>0</td>\n",
       "      <td>unknown</td>\n",
       "      <td>yes</td>\n",
       "    </tr>\n",
       "    <tr>\n",
       "      <th>3</th>\n",
       "      <td>55</td>\n",
       "      <td>services</td>\n",
       "      <td>married</td>\n",
       "      <td>secondary</td>\n",
       "      <td>no</td>\n",
       "      <td>2476</td>\n",
       "      <td>yes</td>\n",
       "      <td>no</td>\n",
       "      <td>unknown</td>\n",
       "      <td>5</td>\n",
       "      <td>may</td>\n",
       "      <td>579</td>\n",
       "      <td>1</td>\n",
       "      <td>-1</td>\n",
       "      <td>0</td>\n",
       "      <td>unknown</td>\n",
       "      <td>yes</td>\n",
       "    </tr>\n",
       "    <tr>\n",
       "      <th>4</th>\n",
       "      <td>54</td>\n",
       "      <td>admin.</td>\n",
       "      <td>married</td>\n",
       "      <td>tertiary</td>\n",
       "      <td>no</td>\n",
       "      <td>184</td>\n",
       "      <td>no</td>\n",
       "      <td>no</td>\n",
       "      <td>unknown</td>\n",
       "      <td>5</td>\n",
       "      <td>may</td>\n",
       "      <td>673</td>\n",
       "      <td>2</td>\n",
       "      <td>-1</td>\n",
       "      <td>0</td>\n",
       "      <td>unknown</td>\n",
       "      <td>yes</td>\n",
       "    </tr>\n",
       "    <tr>\n",
       "      <th>...</th>\n",
       "      <td>...</td>\n",
       "      <td>...</td>\n",
       "      <td>...</td>\n",
       "      <td>...</td>\n",
       "      <td>...</td>\n",
       "      <td>...</td>\n",
       "      <td>...</td>\n",
       "      <td>...</td>\n",
       "      <td>...</td>\n",
       "      <td>...</td>\n",
       "      <td>...</td>\n",
       "      <td>...</td>\n",
       "      <td>...</td>\n",
       "      <td>...</td>\n",
       "      <td>...</td>\n",
       "      <td>...</td>\n",
       "      <td>...</td>\n",
       "    </tr>\n",
       "    <tr>\n",
       "      <th>11157</th>\n",
       "      <td>33</td>\n",
       "      <td>blue-collar</td>\n",
       "      <td>single</td>\n",
       "      <td>primary</td>\n",
       "      <td>no</td>\n",
       "      <td>1</td>\n",
       "      <td>yes</td>\n",
       "      <td>no</td>\n",
       "      <td>cellular</td>\n",
       "      <td>20</td>\n",
       "      <td>apr</td>\n",
       "      <td>257</td>\n",
       "      <td>1</td>\n",
       "      <td>-1</td>\n",
       "      <td>0</td>\n",
       "      <td>unknown</td>\n",
       "      <td>no</td>\n",
       "    </tr>\n",
       "    <tr>\n",
       "      <th>11158</th>\n",
       "      <td>39</td>\n",
       "      <td>services</td>\n",
       "      <td>married</td>\n",
       "      <td>secondary</td>\n",
       "      <td>no</td>\n",
       "      <td>733</td>\n",
       "      <td>no</td>\n",
       "      <td>no</td>\n",
       "      <td>unknown</td>\n",
       "      <td>16</td>\n",
       "      <td>jun</td>\n",
       "      <td>83</td>\n",
       "      <td>4</td>\n",
       "      <td>-1</td>\n",
       "      <td>0</td>\n",
       "      <td>unknown</td>\n",
       "      <td>no</td>\n",
       "    </tr>\n",
       "    <tr>\n",
       "      <th>11159</th>\n",
       "      <td>32</td>\n",
       "      <td>technician</td>\n",
       "      <td>single</td>\n",
       "      <td>secondary</td>\n",
       "      <td>no</td>\n",
       "      <td>29</td>\n",
       "      <td>no</td>\n",
       "      <td>no</td>\n",
       "      <td>cellular</td>\n",
       "      <td>19</td>\n",
       "      <td>aug</td>\n",
       "      <td>156</td>\n",
       "      <td>2</td>\n",
       "      <td>-1</td>\n",
       "      <td>0</td>\n",
       "      <td>unknown</td>\n",
       "      <td>no</td>\n",
       "    </tr>\n",
       "    <tr>\n",
       "      <th>11160</th>\n",
       "      <td>43</td>\n",
       "      <td>technician</td>\n",
       "      <td>married</td>\n",
       "      <td>secondary</td>\n",
       "      <td>no</td>\n",
       "      <td>0</td>\n",
       "      <td>no</td>\n",
       "      <td>yes</td>\n",
       "      <td>cellular</td>\n",
       "      <td>8</td>\n",
       "      <td>may</td>\n",
       "      <td>9</td>\n",
       "      <td>2</td>\n",
       "      <td>172</td>\n",
       "      <td>5</td>\n",
       "      <td>failure</td>\n",
       "      <td>no</td>\n",
       "    </tr>\n",
       "    <tr>\n",
       "      <th>11161</th>\n",
       "      <td>34</td>\n",
       "      <td>technician</td>\n",
       "      <td>married</td>\n",
       "      <td>secondary</td>\n",
       "      <td>no</td>\n",
       "      <td>0</td>\n",
       "      <td>no</td>\n",
       "      <td>no</td>\n",
       "      <td>cellular</td>\n",
       "      <td>9</td>\n",
       "      <td>jul</td>\n",
       "      <td>628</td>\n",
       "      <td>1</td>\n",
       "      <td>-1</td>\n",
       "      <td>0</td>\n",
       "      <td>unknown</td>\n",
       "      <td>no</td>\n",
       "    </tr>\n",
       "  </tbody>\n",
       "</table>\n",
       "<p>11162 rows × 17 columns</p>\n",
       "</div>"
      ],
      "text/plain": [
       "       age          job  marital  education default  balance housing loan  \\\n",
       "0       59       admin.  married  secondary      no     2343     yes   no   \n",
       "1       56       admin.  married  secondary      no       45      no   no   \n",
       "2       41   technician  married  secondary      no     1270     yes   no   \n",
       "3       55     services  married  secondary      no     2476     yes   no   \n",
       "4       54       admin.  married   tertiary      no      184      no   no   \n",
       "...    ...          ...      ...        ...     ...      ...     ...  ...   \n",
       "11157   33  blue-collar   single    primary      no        1     yes   no   \n",
       "11158   39     services  married  secondary      no      733      no   no   \n",
       "11159   32   technician   single  secondary      no       29      no   no   \n",
       "11160   43   technician  married  secondary      no        0      no  yes   \n",
       "11161   34   technician  married  secondary      no        0      no   no   \n",
       "\n",
       "        contact  day month  duration  campaign  pdays  previous poutcome  \\\n",
       "0       unknown    5   may      1042         1     -1         0  unknown   \n",
       "1       unknown    5   may      1467         1     -1         0  unknown   \n",
       "2       unknown    5   may      1389         1     -1         0  unknown   \n",
       "3       unknown    5   may       579         1     -1         0  unknown   \n",
       "4       unknown    5   may       673         2     -1         0  unknown   \n",
       "...         ...  ...   ...       ...       ...    ...       ...      ...   \n",
       "11157  cellular   20   apr       257         1     -1         0  unknown   \n",
       "11158   unknown   16   jun        83         4     -1         0  unknown   \n",
       "11159  cellular   19   aug       156         2     -1         0  unknown   \n",
       "11160  cellular    8   may         9         2    172         5  failure   \n",
       "11161  cellular    9   jul       628         1     -1         0  unknown   \n",
       "\n",
       "      deposit  \n",
       "0         yes  \n",
       "1         yes  \n",
       "2         yes  \n",
       "3         yes  \n",
       "4         yes  \n",
       "...       ...  \n",
       "11157      no  \n",
       "11158      no  \n",
       "11159      no  \n",
       "11160      no  \n",
       "11161      no  \n",
       "\n",
       "[11162 rows x 17 columns]"
      ]
     },
     "execution_count": 523,
     "metadata": {},
     "output_type": "execute_result"
    }
   ],
   "source": [
    "df = pd.read_csv('bank.csv')\n",
    "df"
   ]
  },
  {
   "cell_type": "markdown",
   "id": "60a710a4",
   "metadata": {},
   "source": [
    "# 4. Exploratory Data Analysis"
   ]
  },
  {
   "cell_type": "code",
   "execution_count": 524,
   "id": "d89ffc02",
   "metadata": {},
   "outputs": [
    {
     "name": "stdout",
     "output_type": "stream",
     "text": [
      "<class 'pandas.core.frame.DataFrame'>\n",
      "RangeIndex: 11162 entries, 0 to 11161\n",
      "Data columns (total 17 columns):\n",
      " #   Column     Non-Null Count  Dtype \n",
      "---  ------     --------------  ----- \n",
      " 0   age        11162 non-null  int64 \n",
      " 1   job        11162 non-null  object\n",
      " 2   marital    11162 non-null  object\n",
      " 3   education  11162 non-null  object\n",
      " 4   default    11162 non-null  object\n",
      " 5   balance    11162 non-null  int64 \n",
      " 6   housing    11162 non-null  object\n",
      " 7   loan       11162 non-null  object\n",
      " 8   contact    11162 non-null  object\n",
      " 9   day        11162 non-null  int64 \n",
      " 10  month      11162 non-null  object\n",
      " 11  duration   11162 non-null  int64 \n",
      " 12  campaign   11162 non-null  int64 \n",
      " 13  pdays      11162 non-null  int64 \n",
      " 14  previous   11162 non-null  int64 \n",
      " 15  poutcome   11162 non-null  object\n",
      " 16  deposit    11162 non-null  object\n",
      "dtypes: int64(7), object(10)\n",
      "memory usage: 1.4+ MB\n"
     ]
    }
   ],
   "source": [
    "df.info()"
   ]
  },
  {
   "cell_type": "code",
   "execution_count": 525,
   "id": "950b98c9",
   "metadata": {},
   "outputs": [
    {
     "data": {
      "text/html": [
       "<div>\n",
       "<style scoped>\n",
       "    .dataframe tbody tr th:only-of-type {\n",
       "        vertical-align: middle;\n",
       "    }\n",
       "\n",
       "    .dataframe tbody tr th {\n",
       "        vertical-align: top;\n",
       "    }\n",
       "\n",
       "    .dataframe thead th {\n",
       "        text-align: right;\n",
       "    }\n",
       "</style>\n",
       "<table border=\"1\" class=\"dataframe\">\n",
       "  <thead>\n",
       "    <tr style=\"text-align: right;\">\n",
       "      <th></th>\n",
       "      <th>age</th>\n",
       "      <th>balance</th>\n",
       "      <th>day</th>\n",
       "      <th>duration</th>\n",
       "      <th>campaign</th>\n",
       "      <th>pdays</th>\n",
       "      <th>previous</th>\n",
       "    </tr>\n",
       "  </thead>\n",
       "  <tbody>\n",
       "    <tr>\n",
       "      <th>count</th>\n",
       "      <td>11162.000000</td>\n",
       "      <td>11162.000000</td>\n",
       "      <td>11162.000000</td>\n",
       "      <td>11162.000000</td>\n",
       "      <td>11162.000000</td>\n",
       "      <td>11162.000000</td>\n",
       "      <td>11162.000000</td>\n",
       "    </tr>\n",
       "    <tr>\n",
       "      <th>mean</th>\n",
       "      <td>41.231948</td>\n",
       "      <td>1528.538524</td>\n",
       "      <td>15.658036</td>\n",
       "      <td>371.993818</td>\n",
       "      <td>2.508421</td>\n",
       "      <td>51.330407</td>\n",
       "      <td>0.832557</td>\n",
       "    </tr>\n",
       "    <tr>\n",
       "      <th>std</th>\n",
       "      <td>11.913369</td>\n",
       "      <td>3225.413326</td>\n",
       "      <td>8.420740</td>\n",
       "      <td>347.128386</td>\n",
       "      <td>2.722077</td>\n",
       "      <td>108.758282</td>\n",
       "      <td>2.292007</td>\n",
       "    </tr>\n",
       "    <tr>\n",
       "      <th>min</th>\n",
       "      <td>18.000000</td>\n",
       "      <td>-6847.000000</td>\n",
       "      <td>1.000000</td>\n",
       "      <td>2.000000</td>\n",
       "      <td>1.000000</td>\n",
       "      <td>-1.000000</td>\n",
       "      <td>0.000000</td>\n",
       "    </tr>\n",
       "    <tr>\n",
       "      <th>25%</th>\n",
       "      <td>32.000000</td>\n",
       "      <td>122.000000</td>\n",
       "      <td>8.000000</td>\n",
       "      <td>138.000000</td>\n",
       "      <td>1.000000</td>\n",
       "      <td>-1.000000</td>\n",
       "      <td>0.000000</td>\n",
       "    </tr>\n",
       "    <tr>\n",
       "      <th>50%</th>\n",
       "      <td>39.000000</td>\n",
       "      <td>550.000000</td>\n",
       "      <td>15.000000</td>\n",
       "      <td>255.000000</td>\n",
       "      <td>2.000000</td>\n",
       "      <td>-1.000000</td>\n",
       "      <td>0.000000</td>\n",
       "    </tr>\n",
       "    <tr>\n",
       "      <th>75%</th>\n",
       "      <td>49.000000</td>\n",
       "      <td>1708.000000</td>\n",
       "      <td>22.000000</td>\n",
       "      <td>496.000000</td>\n",
       "      <td>3.000000</td>\n",
       "      <td>20.750000</td>\n",
       "      <td>1.000000</td>\n",
       "    </tr>\n",
       "    <tr>\n",
       "      <th>max</th>\n",
       "      <td>95.000000</td>\n",
       "      <td>81204.000000</td>\n",
       "      <td>31.000000</td>\n",
       "      <td>3881.000000</td>\n",
       "      <td>63.000000</td>\n",
       "      <td>854.000000</td>\n",
       "      <td>58.000000</td>\n",
       "    </tr>\n",
       "  </tbody>\n",
       "</table>\n",
       "</div>"
      ],
      "text/plain": [
       "                age       balance           day      duration      campaign  \\\n",
       "count  11162.000000  11162.000000  11162.000000  11162.000000  11162.000000   \n",
       "mean      41.231948   1528.538524     15.658036    371.993818      2.508421   \n",
       "std       11.913369   3225.413326      8.420740    347.128386      2.722077   \n",
       "min       18.000000  -6847.000000      1.000000      2.000000      1.000000   \n",
       "25%       32.000000    122.000000      8.000000    138.000000      1.000000   \n",
       "50%       39.000000    550.000000     15.000000    255.000000      2.000000   \n",
       "75%       49.000000   1708.000000     22.000000    496.000000      3.000000   \n",
       "max       95.000000  81204.000000     31.000000   3881.000000     63.000000   \n",
       "\n",
       "              pdays      previous  \n",
       "count  11162.000000  11162.000000  \n",
       "mean      51.330407      0.832557  \n",
       "std      108.758282      2.292007  \n",
       "min       -1.000000      0.000000  \n",
       "25%       -1.000000      0.000000  \n",
       "50%       -1.000000      0.000000  \n",
       "75%       20.750000      1.000000  \n",
       "max      854.000000     58.000000  "
      ]
     },
     "execution_count": 525,
     "metadata": {},
     "output_type": "execute_result"
    }
   ],
   "source": [
    "df.describe()"
   ]
  },
  {
   "cell_type": "raw",
   "id": "0d077506",
   "metadata": {},
   "source": [
    ">> Mean Age is aproximately 41 years old. (Minimum: 18 years old and Maximum: 95 years old.)\n",
    "\n",
    ">> The mean balance is 1,528. However, the Standard Deviation (std) is a high number so we can      understand through this that the balance is heavily distributed across the dataset.\n",
    "\n",
    ">> As the data information said it will be better to drop the duration column since duration is      highly correlated in whether a potential client will buy a term deposit. Also, duration is \n",
    "   obtained after the call is made to the potential client so if the target client has never        received calls this feature is not that useful. The reason why duration is highly correlated\n",
    "   with opening a term deposit is because the more the bank talks to a target client the higher      the probability the target client will open a term deposit since a higher duration means a \n",
    "   higher interest (commitment) from the potential client."
   ]
  },
  {
   "cell_type": "code",
   "execution_count": 526,
   "id": "38b5cd15",
   "metadata": {},
   "outputs": [
    {
     "data": {
      "text/html": [
       "<div>\n",
       "<style scoped>\n",
       "    .dataframe tbody tr th:only-of-type {\n",
       "        vertical-align: middle;\n",
       "    }\n",
       "\n",
       "    .dataframe tbody tr th {\n",
       "        vertical-align: top;\n",
       "    }\n",
       "\n",
       "    .dataframe thead th {\n",
       "        text-align: right;\n",
       "    }\n",
       "</style>\n",
       "<table border=\"1\" class=\"dataframe\">\n",
       "  <thead>\n",
       "    <tr style=\"text-align: right;\">\n",
       "      <th></th>\n",
       "      <th>job</th>\n",
       "      <th>marital</th>\n",
       "      <th>education</th>\n",
       "      <th>default</th>\n",
       "      <th>housing</th>\n",
       "      <th>loan</th>\n",
       "      <th>contact</th>\n",
       "      <th>month</th>\n",
       "      <th>poutcome</th>\n",
       "      <th>deposit</th>\n",
       "    </tr>\n",
       "  </thead>\n",
       "  <tbody>\n",
       "    <tr>\n",
       "      <th>count</th>\n",
       "      <td>11162</td>\n",
       "      <td>11162</td>\n",
       "      <td>11162</td>\n",
       "      <td>11162</td>\n",
       "      <td>11162</td>\n",
       "      <td>11162</td>\n",
       "      <td>11162</td>\n",
       "      <td>11162</td>\n",
       "      <td>11162</td>\n",
       "      <td>11162</td>\n",
       "    </tr>\n",
       "    <tr>\n",
       "      <th>unique</th>\n",
       "      <td>12</td>\n",
       "      <td>3</td>\n",
       "      <td>4</td>\n",
       "      <td>2</td>\n",
       "      <td>2</td>\n",
       "      <td>2</td>\n",
       "      <td>3</td>\n",
       "      <td>12</td>\n",
       "      <td>4</td>\n",
       "      <td>2</td>\n",
       "    </tr>\n",
       "    <tr>\n",
       "      <th>top</th>\n",
       "      <td>management</td>\n",
       "      <td>married</td>\n",
       "      <td>secondary</td>\n",
       "      <td>no</td>\n",
       "      <td>no</td>\n",
       "      <td>no</td>\n",
       "      <td>cellular</td>\n",
       "      <td>may</td>\n",
       "      <td>unknown</td>\n",
       "      <td>no</td>\n",
       "    </tr>\n",
       "    <tr>\n",
       "      <th>freq</th>\n",
       "      <td>2566</td>\n",
       "      <td>6351</td>\n",
       "      <td>5476</td>\n",
       "      <td>10994</td>\n",
       "      <td>5881</td>\n",
       "      <td>9702</td>\n",
       "      <td>8042</td>\n",
       "      <td>2824</td>\n",
       "      <td>8326</td>\n",
       "      <td>5873</td>\n",
       "    </tr>\n",
       "  </tbody>\n",
       "</table>\n",
       "</div>"
      ],
      "text/plain": [
       "               job  marital  education default housing   loan   contact  \\\n",
       "count        11162    11162      11162   11162   11162  11162     11162   \n",
       "unique          12        3          4       2       2      2         3   \n",
       "top     management  married  secondary      no      no     no  cellular   \n",
       "freq          2566     6351       5476   10994    5881   9702      8042   \n",
       "\n",
       "        month poutcome deposit  \n",
       "count   11162    11162   11162  \n",
       "unique     12        4       2  \n",
       "top       may  unknown      no  \n",
       "freq     2824     8326    5873  "
      ]
     },
     "execution_count": 526,
     "metadata": {},
     "output_type": "execute_result"
    }
   ],
   "source": [
    "df.describe(include=['O'])"
   ]
  },
  {
   "cell_type": "code",
   "execution_count": 527,
   "id": "51f9298b",
   "metadata": {},
   "outputs": [
    {
     "data": {
      "text/plain": [
       "age          0\n",
       "job          0\n",
       "marital      0\n",
       "education    0\n",
       "default      0\n",
       "balance      0\n",
       "housing      0\n",
       "loan         0\n",
       "contact      0\n",
       "day          0\n",
       "month        0\n",
       "duration     0\n",
       "campaign     0\n",
       "pdays        0\n",
       "previous     0\n",
       "poutcome     0\n",
       "deposit      0\n",
       "dtype: int64"
      ]
     },
     "execution_count": 527,
     "metadata": {},
     "output_type": "execute_result"
    }
   ],
   "source": [
    "df.isna().sum()"
   ]
  },
  {
   "cell_type": "markdown",
   "id": "b8dab785",
   "metadata": {},
   "source": [
    "we have no missing values here"
   ]
  },
  {
   "cell_type": "code",
   "execution_count": 528,
   "id": "5ee7b896",
   "metadata": {},
   "outputs": [
    {
     "data": {
      "text/plain": [
       "no     5873\n",
       "yes    5289\n",
       "Name: deposit, dtype: int64"
      ]
     },
     "execution_count": 528,
     "metadata": {},
     "output_type": "execute_result"
    }
   ],
   "source": [
    "df['deposit'].value_counts()"
   ]
  },
  {
   "cell_type": "code",
   "execution_count": 529,
   "id": "5679cb06",
   "metadata": {},
   "outputs": [
    {
     "data": {
      "text/plain": [
       "<AxesSubplot:xlabel='deposit', ylabel='count'>"
      ]
     },
     "execution_count": 529,
     "metadata": {},
     "output_type": "execute_result"
    },
    {
     "data": {
      "image/png": "[encoded data removed]",
      "text/plain": [
       "<Figure size 432x288 with 1 Axes>"
      ]
     },
     "metadata": {
      "needs_background": "light"
     },
     "output_type": "display_data"
    }
   ],
   "source": [
    "sns.countplot(x = df['deposit'])"
   ]
  },
  {
   "cell_type": "markdown",
   "id": "4f106ecf",
   "metadata": {},
   "source": [
    "From this graph we have seen this data is balanced data"
   ]
  },
  {
   "cell_type": "markdown",
   "id": "6646fc98",
   "metadata": {},
   "source": [
    "### 1. age"
   ]
  },
  {
   "cell_type": "code",
   "execution_count": 530,
   "id": "f89c6120",
   "metadata": {},
   "outputs": [
    {
     "data": {
      "text/plain": [
       "<AxesSubplot:ylabel='Frequency'>"
      ]
     },
     "execution_count": 530,
     "metadata": {},
     "output_type": "execute_result"
    },
    {
     "data": {
      "image/png": "[encoded data removed]",
      "text/plain": [
       "<Figure size 432x288 with 1 Axes>"
      ]
     },
     "metadata": {
      "needs_background": "light"
     },
     "output_type": "display_data"
    }
   ],
   "source": [
    "df['age'].plot(kind = 'hist')"
   ]
  },
  {
   "cell_type": "markdown",
   "id": "f794018a",
   "metadata": {},
   "source": [
    "From this graph we noted that 30 and 40 age have maximum count"
   ]
  },
  {
   "cell_type": "markdown",
   "id": "3870ed76",
   "metadata": {},
   "source": [
    "### 2. job"
   ]
  },
  {
   "cell_type": "code",
   "execution_count": 531,
   "id": "d13e6ac0",
   "metadata": {},
   "outputs": [
    {
     "data": {
      "text/html": [
       "<div>\n",
       "<style scoped>\n",
       "    .dataframe tbody tr th:only-of-type {\n",
       "        vertical-align: middle;\n",
       "    }\n",
       "\n",
       "    .dataframe tbody tr th {\n",
       "        vertical-align: top;\n",
       "    }\n",
       "\n",
       "    .dataframe thead th {\n",
       "        text-align: right;\n",
       "    }\n",
       "</style>\n",
       "<table border=\"1\" class=\"dataframe\">\n",
       "  <thead>\n",
       "    <tr style=\"text-align: right;\">\n",
       "      <th></th>\n",
       "      <th>job</th>\n",
       "      <th>deposit</th>\n",
       "    </tr>\n",
       "  </thead>\n",
       "  <tbody>\n",
       "    <tr>\n",
       "      <th>count</th>\n",
       "      <td>11162</td>\n",
       "      <td>11162</td>\n",
       "    </tr>\n",
       "    <tr>\n",
       "      <th>unique</th>\n",
       "      <td>12</td>\n",
       "      <td>2</td>\n",
       "    </tr>\n",
       "    <tr>\n",
       "      <th>top</th>\n",
       "      <td>management</td>\n",
       "      <td>no</td>\n",
       "    </tr>\n",
       "    <tr>\n",
       "      <th>freq</th>\n",
       "      <td>2566</td>\n",
       "      <td>5873</td>\n",
       "    </tr>\n",
       "  </tbody>\n",
       "</table>\n",
       "</div>"
      ],
      "text/plain": [
       "               job deposit\n",
       "count        11162   11162\n",
       "unique          12       2\n",
       "top     management      no\n",
       "freq          2566    5873"
      ]
     },
     "execution_count": 531,
     "metadata": {},
     "output_type": "execute_result"
    }
   ],
   "source": [
    "df_job=df[[\"job\",\"deposit\"]]\n",
    "df_job.describe()"
   ]
  },
  {
   "cell_type": "markdown",
   "id": "80a6d44e",
   "metadata": {},
   "source": [
    "### 3. marital"
   ]
  },
  {
   "cell_type": "code",
   "execution_count": 532,
   "id": "bd279ac6",
   "metadata": {},
   "outputs": [
    {
     "data": {
      "text/plain": [
       "married     6351\n",
       "single      3518\n",
       "divorced    1293\n",
       "Name: marital, dtype: int64"
      ]
     },
     "execution_count": 532,
     "metadata": {},
     "output_type": "execute_result"
    }
   ],
   "source": [
    "df['marital'].value_counts()"
   ]
  },
  {
   "cell_type": "code",
   "execution_count": 533,
   "id": "2c397ce1",
   "metadata": {},
   "outputs": [
    {
     "data": {
      "text/html": [
       "<div>\n",
       "<style scoped>\n",
       "    .dataframe tbody tr th:only-of-type {\n",
       "        vertical-align: middle;\n",
       "    }\n",
       "\n",
       "    .dataframe tbody tr th {\n",
       "        vertical-align: top;\n",
       "    }\n",
       "\n",
       "    .dataframe thead th {\n",
       "        text-align: right;\n",
       "    }\n",
       "</style>\n",
       "<table border=\"1\" class=\"dataframe\">\n",
       "  <thead>\n",
       "    <tr style=\"text-align: right;\">\n",
       "      <th></th>\n",
       "      <th>marital</th>\n",
       "      <th>deposit</th>\n",
       "    </tr>\n",
       "  </thead>\n",
       "  <tbody>\n",
       "    <tr>\n",
       "      <th>count</th>\n",
       "      <td>11162</td>\n",
       "      <td>11162</td>\n",
       "    </tr>\n",
       "    <tr>\n",
       "      <th>unique</th>\n",
       "      <td>3</td>\n",
       "      <td>2</td>\n",
       "    </tr>\n",
       "    <tr>\n",
       "      <th>top</th>\n",
       "      <td>married</td>\n",
       "      <td>no</td>\n",
       "    </tr>\n",
       "    <tr>\n",
       "      <th>freq</th>\n",
       "      <td>6351</td>\n",
       "      <td>5873</td>\n",
       "    </tr>\n",
       "  </tbody>\n",
       "</table>\n",
       "</div>"
      ],
      "text/plain": [
       "        marital deposit\n",
       "count     11162   11162\n",
       "unique        3       2\n",
       "top     married      no\n",
       "freq       6351    5873"
      ]
     },
     "execution_count": 533,
     "metadata": {},
     "output_type": "execute_result"
    }
   ],
   "source": [
    "df_marital=df[[\"marital\",\"deposit\"]]\n",
    "df_marital.describe()"
   ]
  },
  {
   "cell_type": "markdown",
   "id": "144e2482",
   "metadata": {},
   "source": [
    "### 4. education"
   ]
  },
  {
   "cell_type": "code",
   "execution_count": 534,
   "id": "c0b9d9d0",
   "metadata": {},
   "outputs": [
    {
     "data": {
      "text/plain": [
       "secondary    5476\n",
       "tertiary     3689\n",
       "primary      1500\n",
       "unknown       497\n",
       "Name: education, dtype: int64"
      ]
     },
     "execution_count": 534,
     "metadata": {},
     "output_type": "execute_result"
    }
   ],
   "source": [
    "df['education'].value_counts()"
   ]
  },
  {
   "cell_type": "markdown",
   "id": "6f94dd6f",
   "metadata": {},
   "source": [
    "### 5. default\n",
    "\n",
    "default: has credit in default? "
   ]
  },
  {
   "cell_type": "code",
   "execution_count": 535,
   "id": "3f51c471",
   "metadata": {},
   "outputs": [
    {
     "data": {
      "text/plain": [
       "no     10994\n",
       "yes      168\n",
       "Name: default, dtype: int64"
      ]
     },
     "execution_count": 535,
     "metadata": {},
     "output_type": "execute_result"
    }
   ],
   "source": [
    "df['default'].value_counts()"
   ]
  },
  {
   "cell_type": "markdown",
   "id": "a82795ff",
   "metadata": {},
   "source": [
    "### 6. balance"
   ]
  },
  {
   "cell_type": "markdown",
   "id": "16df97b8",
   "metadata": {},
   "source": [
    "Balance of the individual."
   ]
  },
  {
   "cell_type": "code",
   "execution_count": 536,
   "id": "36bdca62",
   "metadata": {},
   "outputs": [
    {
     "data": {
      "text/plain": [
       "<AxesSubplot:ylabel='Frequency'>"
      ]
     },
     "execution_count": 536,
     "metadata": {},
     "output_type": "execute_result"
    },
    {
     "data": {
      "image/png": "[encoded data removed]",
      "text/plain": [
       "<Figure size 432x288 with 1 Axes>"
      ]
     },
     "metadata": {
      "needs_background": "light"
     },
     "output_type": "display_data"
    }
   ],
   "source": [
    "df['balance'].plot(kind = 'hist')"
   ]
  },
  {
   "cell_type": "markdown",
   "id": "a4ae1237",
   "metadata": {},
   "source": [
    "The distribution of balance has large variabilities in customers' balance levels."
   ]
  },
  {
   "cell_type": "markdown",
   "id": "14b3af94",
   "metadata": {},
   "source": [
    "### 7. housing\n",
    "\n",
    "housing: has housing loan?"
   ]
  },
  {
   "cell_type": "code",
   "execution_count": 537,
   "id": "3cbb97de",
   "metadata": {},
   "outputs": [
    {
     "data": {
      "text/plain": [
       "no     5881\n",
       "yes    5281\n",
       "Name: housing, dtype: int64"
      ]
     },
     "execution_count": 537,
     "metadata": {},
     "output_type": "execute_result"
    }
   ],
   "source": [
    "df['housing'].value_counts()"
   ]
  },
  {
   "cell_type": "markdown",
   "id": "1d8fd2bd",
   "metadata": {},
   "source": [
    "### 8. loan\n",
    "\n",
    "loan: has personal loan?"
   ]
  },
  {
   "cell_type": "code",
   "execution_count": 538,
   "id": "2bc95441",
   "metadata": {},
   "outputs": [
    {
     "data": {
      "text/plain": [
       "no     9702\n",
       "yes    1460\n",
       "Name: loan, dtype: int64"
      ]
     },
     "execution_count": 538,
     "metadata": {},
     "output_type": "execute_result"
    }
   ],
   "source": [
    "df['loan'].value_counts()"
   ]
  },
  {
   "cell_type": "markdown",
   "id": "adb5c6a0",
   "metadata": {},
   "source": [
    "### 9.contact"
   ]
  },
  {
   "cell_type": "code",
   "execution_count": 539,
   "id": "42928526",
   "metadata": {},
   "outputs": [
    {
     "data": {
      "text/plain": [
       "cellular     8042\n",
       "unknown      2346\n",
       "telephone     774\n",
       "Name: contact, dtype: int64"
      ]
     },
     "execution_count": 539,
     "metadata": {},
     "output_type": "execute_result"
    }
   ],
   "source": [
    "df['contact'].value_counts()"
   ]
  },
  {
   "cell_type": "markdown",
   "id": "ef181f5e",
   "metadata": {},
   "source": [
    "### 10. day"
   ]
  },
  {
   "cell_type": "code",
   "execution_count": 540,
   "id": "3b25fdf6",
   "metadata": {},
   "outputs": [
    {
     "data": {
      "text/plain": [
       "<AxesSubplot:ylabel='Frequency'>"
      ]
     },
     "execution_count": 540,
     "metadata": {},
     "output_type": "execute_result"
    },
    {
     "data": {
      "image/png": "[encoded data removed]",
      "text/plain": [
       "<Figure size 432x288 with 1 Axes>"
      ]
     },
     "metadata": {
      "needs_background": "light"
     },
     "output_type": "display_data"
    }
   ],
   "source": [
    "df['day'].plot(kind = 'hist')"
   ]
  },
  {
   "cell_type": "markdown",
   "id": "649fb29d",
   "metadata": {},
   "source": [
    "### 11.month \n",
    "\n",
    "month: last contact month of year"
   ]
  },
  {
   "cell_type": "code",
   "execution_count": 541,
   "id": "083da11b",
   "metadata": {},
   "outputs": [
    {
     "data": {
      "text/plain": [
       "may    2824\n",
       "aug    1519\n",
       "jul    1514\n",
       "jun    1222\n",
       "nov     943\n",
       "apr     923\n",
       "feb     776\n",
       "oct     392\n",
       "jan     344\n",
       "sep     319\n",
       "mar     276\n",
       "dec     110\n",
       "Name: month, dtype: int64"
      ]
     },
     "execution_count": 541,
     "metadata": {},
     "output_type": "execute_result"
    }
   ],
   "source": [
    "df['month'].value_counts()"
   ]
  },
  {
   "cell_type": "markdown",
   "id": "576a651a",
   "metadata": {},
   "source": [
    "### 12. duration\n",
    "\n",
    "last contact duration, in seconds"
   ]
  },
  {
   "cell_type": "code",
   "execution_count": 542,
   "id": "b47ac83b",
   "metadata": {},
   "outputs": [
    {
     "data": {
      "text/plain": [
       "<AxesSubplot:ylabel='Frequency'>"
      ]
     },
     "execution_count": 542,
     "metadata": {},
     "output_type": "execute_result"
    },
    {
     "data": {
      "image/png": "[encoded data removed]",
      "text/plain": [
       "<Figure size 432x288 with 1 Axes>"
      ]
     },
     "metadata": {
      "needs_background": "light"
     },
     "output_type": "display_data"
    }
   ],
   "source": [
    "df['duration'].plot(kind = 'hist')"
   ]
  },
  {
   "cell_type": "markdown",
   "id": "1031d199",
   "metadata": {},
   "source": [
    "### 13. campaign\n",
    "\n",
    "campaign: number of contacts performed during this campaign and for this client"
   ]
  },
  {
   "cell_type": "code",
   "execution_count": 543,
   "id": "686dccf3",
   "metadata": {},
   "outputs": [
    {
     "data": {
      "text/plain": [
       "<AxesSubplot:ylabel='Frequency'>"
      ]
     },
     "execution_count": 543,
     "metadata": {},
     "output_type": "execute_result"
    },
    {
     "data": {
      "image/png": "[encoded data removed]",
      "text/plain": [
       "<Figure size 432x288 with 1 Axes>"
      ]
     },
     "metadata": {
      "needs_background": "light"
     },
     "output_type": "display_data"
    }
   ],
   "source": [
    "df['campaign'].plot(kind = 'hist')"
   ]
  },
  {
   "cell_type": "markdown",
   "id": "9cbd74b8",
   "metadata": {},
   "source": [
    "### 14. pdays\n",
    "\n",
    " pdays: number of days that passed by after the client was last contacted from a previous campaign"
   ]
  },
  {
   "cell_type": "code",
   "execution_count": 544,
   "id": "bcd09e53",
   "metadata": {},
   "outputs": [
    {
     "data": {
      "text/plain": [
       "<AxesSubplot:ylabel='Frequency'>"
      ]
     },
     "execution_count": 544,
     "metadata": {},
     "output_type": "execute_result"
    },
    {
     "data": {
      "image/png": "[encoded data removed]",
      "text/plain": [
       "<Figure size 432x288 with 1 Axes>"
      ]
     },
     "metadata": {
      "needs_background": "light"
     },
     "output_type": "display_data"
    }
   ],
   "source": [
    "df['pdays'].plot(kind = 'hist')"
   ]
  },
  {
   "cell_type": "markdown",
   "id": "c6779362",
   "metadata": {},
   "source": [
    "### 15. previous\n",
    "\n",
    " previous: number of contacts performed before this campaign and for this client"
   ]
  },
  {
   "cell_type": "code",
   "execution_count": 545,
   "id": "bd8da232",
   "metadata": {},
   "outputs": [
    {
     "data": {
      "text/plain": [
       "0        0\n",
       "1        0\n",
       "2        0\n",
       "3        0\n",
       "4        0\n",
       "        ..\n",
       "11157    0\n",
       "11158    0\n",
       "11159    0\n",
       "11160    5\n",
       "11161    0\n",
       "Name: previous, Length: 11162, dtype: int64"
      ]
     },
     "execution_count": 545,
     "metadata": {},
     "output_type": "execute_result"
    }
   ],
   "source": [
    "df['previous']"
   ]
  },
  {
   "cell_type": "markdown",
   "id": "65c405fc",
   "metadata": {},
   "source": [
    "### 16. poutcome\n",
    "\n",
    " poutcome: outcome of the previous marketing campaign"
   ]
  },
  {
   "cell_type": "code",
   "execution_count": 546,
   "id": "39a59ca3",
   "metadata": {},
   "outputs": [
    {
     "data": {
      "text/plain": [
       "unknown    8326\n",
       "failure    1228\n",
       "success    1071\n",
       "other       537\n",
       "Name: poutcome, dtype: int64"
      ]
     },
     "execution_count": 546,
     "metadata": {},
     "output_type": "execute_result"
    }
   ],
   "source": [
    "df['poutcome'].value_counts()"
   ]
  },
  {
   "cell_type": "markdown",
   "id": "fc3d5a8c",
   "metadata": {},
   "source": [
    "# Analysis of Data"
   ]
  },
  {
   "cell_type": "markdown",
   "id": "7cd11e55",
   "metadata": {},
   "source": [
    "#### Visualize the relationship between 'age' and 'balance'"
   ]
  },
  {
   "cell_type": "code",
   "execution_count": 547,
   "id": "78eb7f18",
   "metadata": {},
   "outputs": [
    {
     "data": {
      "text/plain": [
       "<AxesSubplot:xlabel='age', ylabel='balance'>"
      ]
     },
     "execution_count": 547,
     "metadata": {},
     "output_type": "execute_result"
    },
    {
     "data": {
      "image/png": "[encoded data removed]",
      "text/plain": [
       "<Figure size 432x288 with 1 Axes>"
      ]
     },
     "metadata": {
      "needs_background": "light"
     },
     "output_type": "display_data"
    }
   ],
   "source": [
    "sns.scatterplot(x = df['age'],y= df['balance'])"
   ]
  },
  {
   "cell_type": "markdown",
   "id": "475c0032",
   "metadata": {},
   "source": [
    "Based on this scatter plot, there is no clear relationship between client’s age and balance level.\n",
    "\n",
    "Nevertheless, over the age of 65, clients tend to have a significantly lower balance, mostly under 5,000 euros. This is due to the fact that most people retire after 60 and no longer have a reliable income source"
   ]
  },
  {
   "cell_type": "code",
   "execution_count": 548,
   "id": "34d56629",
   "metadata": {},
   "outputs": [
    {
     "data": {
      "image/png": "[encoded data removed]",
      "text/plain": [
       "<Figure size 1152x576 with 2 Axes>"
      ]
     },
     "metadata": {
      "needs_background": "light"
     },
     "output_type": "display_data"
    }
   ],
   "source": [
    "\n",
    "\n",
    "f,ax = plt.subplots(1,2, figsize=(16,8))\n",
    "\n",
    "labels =\"Did not Open Term Subscriptions\", \"Opened Term Subscriptions\"\n",
    "\n",
    "df[\"deposit\"].value_counts().plot.pie(explode=[0,0.25], autopct='%1.2f%%', ax=ax[0], shadow=True,\n",
    "    colors=[\"#FA5858\", \"#64FE2E\"], labels=labels, fontsize=12, startangle=25)\n",
    "ax[0].set_ylabel('% of Condition of Loans', fontsize=14)\n",
    "\n",
    "\n",
    "\n",
    "sns.barplot(x=\"education\", y=\"balance\", hue=\"deposit\", data=df, palette=[\"#64FE2E\", \"#FA5858\"])\n",
    "plt.show()"
   ]
  },
  {
   "cell_type": "markdown",
   "id": "ed5f2977",
   "metadata": {},
   "source": [
    "From this graph we have seen that 52.62 % did not open term subscription and 47.38% opened \n",
    "term subsciptions. Unknown and teritory category of education have more deposit balance than others "
   ]
  },
  {
   "cell_type": "code",
   "execution_count": 549,
   "id": "48bcf7a7",
   "metadata": {},
   "outputs": [
    {
     "data": {
      "text/plain": [
       "array([[<AxesSubplot:title={'center':'age'}>,\n",
       "        <AxesSubplot:title={'center':'balance'}>,\n",
       "        <AxesSubplot:title={'center':'day'}>],\n",
       "       [<AxesSubplot:title={'center':'duration'}>,\n",
       "        <AxesSubplot:title={'center':'campaign'}>,\n",
       "        <AxesSubplot:title={'center':'pdays'}>],\n",
       "       [<AxesSubplot:title={'center':'previous'}>, <AxesSubplot:>,\n",
       "        <AxesSubplot:>]], dtype=object)"
      ]
     },
     "execution_count": 549,
     "metadata": {},
     "output_type": "execute_result"
    },
    {
     "data": {
      "image/png": "[encoded data removed]",
      "text/plain": [
       "<Figure size 1008x720 with 9 Axes>"
      ]
     },
     "metadata": {
      "needs_background": "light"
     },
     "output_type": "display_data"
    }
   ],
   "source": [
    "df.hist(figsize=(14,10))"
   ]
  },
  {
   "cell_type": "code",
   "execution_count": 550,
   "id": "f7352795",
   "metadata": {},
   "outputs": [],
   "source": [
    "def plot_bar(column):\n",
    "    temp_1 = pd.DataFrame()\n",
    "    temp_1['No_deposit'] = df[df['deposit'] == 'no'][column].value_counts()\n",
    "    temp_1['Yes_deposit'] = df[df['deposit'] == 'yes'][column].value_counts()\n",
    "    temp_1.plot(kind='bar')\n",
    "    plt.xlabel(f'{column}')\n",
    "    plt.ylabel('Number of clients')\n",
    "    plt.title('Distribution of {} and deposit'.format(column))\n"
   ]
  },
  {
   "cell_type": "code",
   "execution_count": 551,
   "id": "24c61468",
   "metadata": {},
   "outputs": [
    {
     "data": {
      "text/plain": [
       "(None, None, None)"
      ]
     },
     "execution_count": 551,
     "metadata": {},
     "output_type": "execute_result"
    },
    {
     "data": {
      "image/png": "[encoded data removed]",
      "text/plain": [
       "<Figure size 432x288 with 1 Axes>"
      ]
     },
     "metadata": {
      "needs_background": "light"
     },
     "output_type": "display_data"
    },
    {
     "data": {
      "image/png": "[encoded data removed]",
      "text/plain": [
       "<Figure size 432x288 with 1 Axes>"
      ]
     },
     "metadata": {
      "needs_background": "light"
     },
     "output_type": "display_data"
    },
    {
     "data": {
      "image/png": "[encoded data removed]",
      "text/plain": [
       "<Figure size 432x288 with 1 Axes>"
      ]
     },
     "metadata": {
      "needs_background": "light"
     },
     "output_type": "display_data"
    },
    {
     "data": {
      "image/png": "[encoded data removed]",
      "text/plain": [
       "<Figure size 432x288 with 1 Axes>"
      ]
     },
     "metadata": {
      "needs_background": "light"
     },
     "output_type": "display_data"
    },
    {
     "data": {
      "image/png": "[encoded data removed]",
      "text/plain": [
       "<Figure size 432x288 with 1 Axes>"
      ]
     },
     "metadata": {
      "needs_background": "light"
     },
     "output_type": "display_data"
    },
    {
     "data": {
      "image/png": "[encoded data removed]",
      "text/plain": [
       "<Figure size 432x288 with 1 Axes>"
      ]
     },
     "metadata": {
      "needs_background": "light"
     },
     "output_type": "display_data"
    },
    {
     "data": {
      "image/png": "[encoded data removed]",
      "text/plain": [
       "<Figure size 432x288 with 1 Axes>"
      ]
     },
     "metadata": {
      "needs_background": "light"
     },
     "output_type": "display_data"
    }
   ],
   "source": [
    "plot_bar('job'), plot_bar('marital'), plot_bar('education'), plot_bar('contact'), \n",
    "plot_bar('loan'), plot_bar('housing'),plot_bar('month')"
   ]
  },
  {
   "cell_type": "markdown",
   "id": "9955786e",
   "metadata": {},
   "source": [
    "#### Primary analysis of several categorical features reveals:\n",
    "\n",
    "1. Management staff and technician opened the deposit most of all. Management is the occupation that is more prevalent in this dataset. \n",
    "\n",
    "2. Although in absolute terms married consumers more often agreed to the service, in relative terms the single was responded better.\n",
    "\n",
    "3. Best communication channel is cellular.\n",
    "\n",
    "4. The difference is evident between consumers who are not using services of  banks and  not        received a loan.\n",
    "\n",
    "5. It is an expected result that those with home loans do not have deposits.\n",
    "   Because these people have chosen to secure their future as homeowners instead of deposits.\n",
    "   Probably it is most correlated variable\n",
    "   \n",
    "6. Looks like monthly effect on jan,mar,sep,oct,dec."
   ]
  },
  {
   "cell_type": "markdown",
   "id": "6cfefb02",
   "metadata": {},
   "source": [
    "### Boxplot of each numerical features "
   ]
  },
  {
   "cell_type": "code",
   "execution_count": 552,
   "id": "b4d72ac4",
   "metadata": {},
   "outputs": [
    {
     "data": {
      "image/png": "[encoded data removed]",
      "text/plain": [
       "<Figure size 1080x1080 with 7 Axes>"
      ]
     },
     "metadata": {
      "needs_background": "light"
     },
     "output_type": "display_data"
    }
   ],
   "source": [
    "plt.figure(figsize=(15,15))\n",
    "\n",
    "plt.subplot(4,2,1)\n",
    "fig = df.boxplot(['age'])\n",
    "\n",
    "plt.subplot(4,2,2)\n",
    "fig = df.boxplot(['balance'])\n",
    "\n",
    "plt.subplot(4,2,3)\n",
    "fig = df.boxplot(['day'])\n",
    "\n",
    "plt.subplot(4,2,4)\n",
    "fig = df.boxplot(['duration'])\n",
    "\n",
    "plt.subplot(4,2,5)\n",
    "fig = df.boxplot(['campaign'])\n",
    "\n",
    "plt.subplot(4,2,6)\n",
    "fig = df.boxplot(['pdays'])\n",
    "\n",
    "plt.subplot(4,2,7)\n",
    "fig = df.boxplot(['previous'])\n",
    "\n"
   ]
  },
  {
   "cell_type": "markdown",
   "id": "6ac21e2d",
   "metadata": {},
   "source": [
    "# 5. Feature Engineering"
   ]
  },
  {
   "cell_type": "markdown",
   "id": "39e2c520",
   "metadata": {},
   "source": [
    "### Converting object data into Numerical format"
   ]
  },
  {
   "cell_type": "code",
   "execution_count": 553,
   "id": "b33e6e7b",
   "metadata": {},
   "outputs": [
    {
     "data": {
      "text/html": [
       "<div>\n",
       "<style scoped>\n",
       "    .dataframe tbody tr th:only-of-type {\n",
       "        vertical-align: middle;\n",
       "    }\n",
       "\n",
       "    .dataframe tbody tr th {\n",
       "        vertical-align: top;\n",
       "    }\n",
       "\n",
       "    .dataframe thead th {\n",
       "        text-align: right;\n",
       "    }\n",
       "</style>\n",
       "<table border=\"1\" class=\"dataframe\">\n",
       "  <thead>\n",
       "    <tr style=\"text-align: right;\">\n",
       "      <th></th>\n",
       "      <th>job</th>\n",
       "      <th>marital</th>\n",
       "      <th>education</th>\n",
       "      <th>default</th>\n",
       "      <th>housing</th>\n",
       "      <th>loan</th>\n",
       "      <th>contact</th>\n",
       "      <th>month</th>\n",
       "      <th>poutcome</th>\n",
       "      <th>deposit</th>\n",
       "    </tr>\n",
       "  </thead>\n",
       "  <tbody>\n",
       "    <tr>\n",
       "      <th>0</th>\n",
       "      <td>admin.</td>\n",
       "      <td>married</td>\n",
       "      <td>secondary</td>\n",
       "      <td>no</td>\n",
       "      <td>yes</td>\n",
       "      <td>no</td>\n",
       "      <td>unknown</td>\n",
       "      <td>may</td>\n",
       "      <td>unknown</td>\n",
       "      <td>yes</td>\n",
       "    </tr>\n",
       "    <tr>\n",
       "      <th>1</th>\n",
       "      <td>admin.</td>\n",
       "      <td>married</td>\n",
       "      <td>secondary</td>\n",
       "      <td>no</td>\n",
       "      <td>no</td>\n",
       "      <td>no</td>\n",
       "      <td>unknown</td>\n",
       "      <td>may</td>\n",
       "      <td>unknown</td>\n",
       "      <td>yes</td>\n",
       "    </tr>\n",
       "  </tbody>\n",
       "</table>\n",
       "</div>"
      ],
      "text/plain": [
       "      job  marital  education default housing loan  contact month poutcome  \\\n",
       "0  admin.  married  secondary      no     yes   no  unknown   may  unknown   \n",
       "1  admin.  married  secondary      no      no   no  unknown   may  unknown   \n",
       "\n",
       "  deposit  \n",
       "0     yes  \n",
       "1     yes  "
      ]
     },
     "execution_count": 553,
     "metadata": {},
     "output_type": "execute_result"
    }
   ],
   "source": [
    "df.select_dtypes(include= 'object').head(2)"
   ]
  },
  {
   "cell_type": "code",
   "execution_count": 554,
   "id": "26b2c11f",
   "metadata": {},
   "outputs": [],
   "source": [
    "le_job = LabelEncoder()\n",
    "df['job'] = le_job.fit_transform(df['job'])"
   ]
  },
  {
   "cell_type": "code",
   "execution_count": 555,
   "id": "bfc77fe1",
   "metadata": {},
   "outputs": [],
   "source": [
    "le_education = LabelEncoder()\n",
    "df['education'] = le_education.fit_transform(df['education'])"
   ]
  },
  {
   "cell_type": "code",
   "execution_count": 556,
   "id": "7c5f44e4",
   "metadata": {},
   "outputs": [],
   "source": [
    "le_marital = LabelEncoder()\n",
    "df['marital'] = le_marital.fit_transform(df['marital'])"
   ]
  },
  {
   "cell_type": "code",
   "execution_count": 557,
   "id": "78a27460",
   "metadata": {},
   "outputs": [],
   "source": [
    "le_contact = LabelEncoder()\n",
    "df['contact'] = le_contact.fit_transform(df['contact'])"
   ]
  },
  {
   "cell_type": "code",
   "execution_count": 558,
   "id": "1aac61db",
   "metadata": {},
   "outputs": [],
   "source": [
    "df['month'] = df['month'].replace({'may': 5, 'jul': 7, 'aug': 8, 'jun': 6, \n",
    "                                 'nov': 11, 'apr': 4, 'feb': 2, 'jan': 1, 'oct': 10, \n",
    "                                 'sep': 9, 'mar': 3, 'dec': 12})\n",
    "df['default'] = df['default'].replace({'no':1,'yes':0})\n",
    "df['housing'] = df['housing'].replace({'no':1,'yes':0})\n",
    "df['loan'] = df['loan'].replace({'no':1,'yes':0})\n",
    "df['deposit'] = df['deposit'].replace({'no':1,'yes':0})"
   ]
  },
  {
   "cell_type": "code",
   "execution_count": 559,
   "id": "d43c276d",
   "metadata": {},
   "outputs": [],
   "source": [
    "le_poutcome = LabelEncoder()\n",
    "df['poutcome'] = le_poutcome.fit_transform(df['poutcome'])"
   ]
  },
  {
   "cell_type": "code",
   "execution_count": 611,
   "id": "d4639495",
   "metadata": {},
   "outputs": [],
   "source": [
    "le_encoder =  [le_job,le_education,le_marital,le_contact]"
   ]
  },
  {
   "cell_type": "code",
   "execution_count": 561,
   "id": "705b7bd1",
   "metadata": {},
   "outputs": [
    {
     "name": "stdout",
     "output_type": "stream",
     "text": [
      "<class 'pandas.core.frame.DataFrame'>\n",
      "RangeIndex: 11162 entries, 0 to 11161\n",
      "Data columns (total 17 columns):\n",
      " #   Column     Non-Null Count  Dtype\n",
      "---  ------     --------------  -----\n",
      " 0   age        11162 non-null  int64\n",
      " 1   job        11162 non-null  int32\n",
      " 2   marital    11162 non-null  int32\n",
      " 3   education  11162 non-null  int32\n",
      " 4   default    11162 non-null  int64\n",
      " 5   balance    11162 non-null  int64\n",
      " 6   housing    11162 non-null  int64\n",
      " 7   loan       11162 non-null  int64\n",
      " 8   contact    11162 non-null  int32\n",
      " 9   day        11162 non-null  int64\n",
      " 10  month      11162 non-null  int64\n",
      " 11  duration   11162 non-null  int64\n",
      " 12  campaign   11162 non-null  int64\n",
      " 13  pdays      11162 non-null  int64\n",
      " 14  previous   11162 non-null  int64\n",
      " 15  poutcome   11162 non-null  int32\n",
      " 16  deposit    11162 non-null  int64\n",
      "dtypes: int32(5), int64(12)\n",
      "memory usage: 1.2 MB\n"
     ]
    }
   ],
   "source": [
    "df.info()"
   ]
  },
  {
   "cell_type": "markdown",
   "id": "5258ba39",
   "metadata": {},
   "source": [
    "### Checking Outliers count"
   ]
  },
  {
   "cell_type": "code",
   "execution_count": 562,
   "id": "611769f4",
   "metadata": {},
   "outputs": [
    {
     "data": {
      "text/plain": [
       "<AxesSubplot:xlabel='age', ylabel='Density'>"
      ]
     },
     "execution_count": 562,
     "metadata": {},
     "output_type": "execute_result"
    },
    {
     "data": {
      "image/png": "[encoded data removed]",
      "text/plain": [
       "<Figure size 432x288 with 1 Axes>"
      ]
     },
     "metadata": {
      "needs_background": "light"
     },
     "output_type": "display_data"
    }
   ],
   "source": [
    "sns.kdeplot(df['age'])"
   ]
  },
  {
   "cell_type": "code",
   "execution_count": 563,
   "id": "70fea59a",
   "metadata": {},
   "outputs": [
    {
     "name": "stdout",
     "output_type": "stream",
     "text": [
      "91.5 \n",
      " -10.5\n"
     ]
    },
    {
     "data": {
      "text/plain": [
       "1582    95\n",
       "2802    92\n",
       "3098    92\n",
       "3756    93\n",
       "3822    93\n",
       "Name: age, dtype: int64"
      ]
     },
     "execution_count": 563,
     "metadata": {},
     "output_type": "execute_result"
    }
   ],
   "source": [
    "iqr = df['age'].quantile(0.75) - df['age'].quantile(0.25)\n",
    "upper_tail = df['age'].quantile(0.75) + (iqr*2.5)\n",
    "lower_tail = df['age'].quantile(0.25) - (iqr*2.5)\n",
    "print(upper_tail,'\\n',lower_tail)\n",
    "\n",
    "df[['age']].loc[df['age'] > upper_tail,'age']\n",
    "# age can be exceptional so we are not removing outliers of age "
   ]
  },
  {
   "cell_type": "code",
   "execution_count": 564,
   "id": "3f8c9960",
   "metadata": {},
   "outputs": [
    {
     "data": {
      "text/plain": [
       "<AxesSubplot:xlabel='balance', ylabel='Density'>"
      ]
     },
     "execution_count": 564,
     "metadata": {},
     "output_type": "execute_result"
    },
    {
     "data": {
      "image/png": "[encoded data removed]",
      "text/plain": [
       "<Figure size 432x288 with 1 Axes>"
      ]
     },
     "metadata": {
      "needs_background": "light"
     },
     "output_type": "display_data"
    }
   ],
   "source": [
    "sns.kdeplot(df['balance'])"
   ]
  },
  {
   "cell_type": "code",
   "execution_count": 565,
   "id": "a4755fa5",
   "metadata": {},
   "outputs": [
    {
     "name": "stdout",
     "output_type": "stream",
     "text": [
      "6466.0 \n",
      " -4636.0\n"
     ]
    },
    {
     "data": {
      "text/plain": [
       "60        7180\n",
       "71       10576\n",
       "155       6840\n",
       "170      12956\n",
       "177       7606\n",
       "         ...  \n",
       "10983    20772\n",
       "10992     6691\n",
       "11010     8585\n",
       "11030    18777\n",
       "11073     6718\n",
       "Name: balance, Length: 511, dtype: int64"
      ]
     },
     "execution_count": 565,
     "metadata": {},
     "output_type": "execute_result"
    }
   ],
   "source": [
    "iqr = df['balance'].quantile(0.75) - df['balance'].quantile(0.25)\n",
    "upper_tail = df['balance'].quantile(0.75) + (iqr*3)\n",
    "lower_tail = df['balance'].quantile(0.25) - (iqr*3)\n",
    "print(upper_tail,'\\n',lower_tail)\n",
    "\n",
    "df[['balance']].loc[df['balance'] > upper_tail,'balance']"
   ]
  },
  {
   "cell_type": "code",
   "execution_count": 566,
   "id": "f7881d93",
   "metadata": {},
   "outputs": [
    {
     "data": {
      "text/plain": [
       "<AxesSubplot:xlabel='duration', ylabel='Density'>"
      ]
     },
     "execution_count": 566,
     "metadata": {},
     "output_type": "execute_result"
    },
    {
     "data": {
      "image/png": "[encoded data removed]",
      "text/plain": [
       "<Figure size 432x288 with 1 Axes>"
      ]
     },
     "metadata": {
      "needs_background": "light"
     },
     "output_type": "display_data"
    }
   ],
   "source": [
    "sns.kdeplot(df['duration'])"
   ]
  },
  {
   "cell_type": "code",
   "execution_count": 567,
   "id": "f65cc1a2",
   "metadata": {},
   "outputs": [
    {
     "name": "stdout",
     "output_type": "stream",
     "text": [
      "1212.0 \n",
      " -578.0\n"
     ]
    },
    {
     "data": {
      "text/plain": [
       "1        1467\n",
       "2        1389\n",
       "9        1297\n",
       "11       1574\n",
       "12       1689\n",
       "         ... \n",
       "9738     1361\n",
       "10401    1521\n",
       "10647    1504\n",
       "10802    1244\n",
       "11008    1812\n",
       "Name: duration, Length: 358, dtype: int64"
      ]
     },
     "execution_count": 567,
     "metadata": {},
     "output_type": "execute_result"
    }
   ],
   "source": [
    "iqr = df['duration'].quantile(0.75) - df['duration'].quantile(0.25)\n",
    "upper_tail = df['duration'].quantile(0.75) + (iqr*2)\n",
    "lower_tail = df['duration'].quantile(0.25) - (iqr*2)\n",
    "print(upper_tail,'\\n',lower_tail)\n",
    "\n",
    "df[['duration']].loc[df['duration'] > upper_tail,'duration']"
   ]
  },
  {
   "cell_type": "code",
   "execution_count": 568,
   "id": "22940f11",
   "metadata": {},
   "outputs": [
    {
     "data": {
      "text/plain": [
       "<AxesSubplot:xlabel='campaign', ylabel='Density'>"
      ]
     },
     "execution_count": 568,
     "metadata": {},
     "output_type": "execute_result"
    },
    {
     "data": {
      "image/png": "[encoded data removed]",
      "text/plain": [
       "<Figure size 432x288 with 1 Axes>"
      ]
     },
     "metadata": {
      "needs_background": "light"
     },
     "output_type": "display_data"
    }
   ],
   "source": [
    "sns.kdeplot(df['campaign'])"
   ]
  },
  {
   "cell_type": "code",
   "execution_count": 569,
   "id": "cd18539d",
   "metadata": {},
   "outputs": [
    {
     "name": "stdout",
     "output_type": "stream",
     "text": [
      "7.0 \n",
      " -3.0\n"
     ]
    },
    {
     "data": {
      "text/plain": [
       "125       8\n",
       "135      11\n",
       "163       9\n",
       "186      10\n",
       "187      15\n",
       "         ..\n",
       "11039     8\n",
       "11057    10\n",
       "11074    12\n",
       "11086     8\n",
       "11140    17\n",
       "Name: campaign, Length: 462, dtype: int64"
      ]
     },
     "execution_count": 569,
     "metadata": {},
     "output_type": "execute_result"
    }
   ],
   "source": [
    "iqr = df['campaign'].quantile(0.75) - df['campaign'].quantile(0.25)\n",
    "upper_tail = df['campaign'].quantile(0.75) + (iqr*2)\n",
    "lower_tail = df['campaign'].quantile(0.25) - (iqr*2)\n",
    "print(upper_tail,'\\n',lower_tail)\n",
    "\n",
    "df[['campaign']].loc[df['campaign'] > upper_tail,'campaign']"
   ]
  },
  {
   "cell_type": "code",
   "execution_count": 570,
   "id": "1738489a",
   "metadata": {},
   "outputs": [
    {
     "data": {
      "text/plain": [
       "<AxesSubplot:xlabel='pdays', ylabel='Density'>"
      ]
     },
     "execution_count": 570,
     "metadata": {},
     "output_type": "execute_result"
    },
    {
     "data": {
      "image/png": "[encoded data removed]",
      "text/plain": [
       "<Figure size 432x288 with 1 Axes>"
      ]
     },
     "metadata": {
      "needs_background": "light"
     },
     "output_type": "display_data"
    }
   ],
   "source": [
    "sns.kdeplot(df['pdays'])"
   ]
  },
  {
   "cell_type": "code",
   "execution_count": 571,
   "id": "b598dd6f",
   "metadata": {},
   "outputs": [
    {
     "name": "stdout",
     "output_type": "stream",
     "text": [
      "64.25 \n",
      " -44.5\n"
     ]
    },
    {
     "data": {
      "text/plain": [
       "890      166\n",
       "891       91\n",
       "899      147\n",
       "933      170\n",
       "951      150\n",
       "        ... \n",
       "11125    362\n",
       "11133    260\n",
       "11145    271\n",
       "11155    172\n",
       "11160    172\n",
       "Name: pdays, Length: 2720, dtype: int64"
      ]
     },
     "execution_count": 571,
     "metadata": {},
     "output_type": "execute_result"
    }
   ],
   "source": [
    "iqr = df['pdays'].quantile(0.75) - df['pdays'].quantile(0.25)\n",
    "upper_tail = df['pdays'].quantile(0.75) + (iqr*2)\n",
    "lower_tail = df['pdays'].quantile(0.25) - (iqr*2)\n",
    "print(upper_tail,'\\n',lower_tail)\n",
    "\n",
    "df[['pdays']].loc[df['pdays'] > upper_tail,'pdays']"
   ]
  },
  {
   "cell_type": "code",
   "execution_count": 572,
   "id": "b2e20df0",
   "metadata": {},
   "outputs": [
    {
     "data": {
      "text/plain": [
       "<AxesSubplot:xlabel='previous', ylabel='Density'>"
      ]
     },
     "execution_count": 572,
     "metadata": {},
     "output_type": "execute_result"
    },
    {
     "data": {
      "image/png": "[encoded data removed]",
      "text/plain": [
       "<Figure size 432x288 with 1 Axes>"
      ]
     },
     "metadata": {
      "needs_background": "light"
     },
     "output_type": "display_data"
    }
   ],
   "source": [
    "sns.kdeplot(df['previous'])"
   ]
  },
  {
   "cell_type": "code",
   "execution_count": 573,
   "id": "1a7f76a7",
   "metadata": {},
   "outputs": [
    {
     "name": "stdout",
     "output_type": "stream",
     "text": [
      "3.0 \n",
      " -2.0\n"
     ]
    },
    {
     "data": {
      "text/plain": [
       "891       4\n",
       "952       4\n",
       "1007     10\n",
       "1035      7\n",
       "1062      9\n",
       "         ..\n",
       "11054     8\n",
       "11092     4\n",
       "11133     5\n",
       "11145     4\n",
       "11160     5\n",
       "Name: previous, Length: 823, dtype: int64"
      ]
     },
     "execution_count": 573,
     "metadata": {},
     "output_type": "execute_result"
    }
   ],
   "source": [
    "iqr = df['previous'].quantile(0.75) - df['previous'].quantile(0.25)\n",
    "upper_tail = df['previous'].quantile(0.75) + (iqr*2)\n",
    "lower_tail = df['previous'].quantile(0.25) - (iqr*2)\n",
    "print(upper_tail,'\\n',lower_tail)\n",
    "\n",
    "df[['previous']].loc[df['previous'] > upper_tail,'previous']"
   ]
  },
  {
   "cell_type": "markdown",
   "id": "a31a64be",
   "metadata": {},
   "source": [
    "### Conclusion from distribution :-\n",
    "\n",
    "#### From above distribution every distribution is positively skewed"
   ]
  },
  {
   "cell_type": "markdown",
   "id": "4124afbe",
   "metadata": {},
   "source": [
    "### By using Transformation we can handle outliers"
   ]
  },
  {
   "cell_type": "markdown",
   "id": "5b2d94b5",
   "metadata": {},
   "source": [
    "#### 1. log transformation"
   ]
  },
  {
   "cell_type": "markdown",
   "id": "d5397744",
   "metadata": {},
   "source": [
    "The log transformation is, arguably, the most popular among the different types of transformations used to transform skewed data to approximately conform to normality. If the original data follows a log-normal distribution or approximately so, then the log-transformed data follows a normal or near normal distribution."
   ]
  },
  {
   "cell_type": "code",
   "execution_count": 574,
   "id": "364971ce",
   "metadata": {},
   "outputs": [
    {
     "data": {
      "image/png": "[encoded data removed]",
      "text/plain": [
       "<Figure size 144x144 with 1 Axes>"
      ]
     },
     "metadata": {
      "needs_background": "light"
     },
     "output_type": "display_data"
    },
    {
     "data": {
      "image/png": "[encoded data removed]",
      "text/plain": [
       "<Figure size 144x144 with 1 Axes>"
      ]
     },
     "metadata": {
      "needs_background": "light"
     },
     "output_type": "display_data"
    },
    {
     "data": {
      "image/png": "[encoded data removed]",
      "text/plain": [
       "<Figure size 144x144 with 1 Axes>"
      ]
     },
     "metadata": {
      "needs_background": "light"
     },
     "output_type": "display_data"
    },
    {
     "data": {
      "image/png": "[encoded data removed]",
      "text/plain": [
       "<Figure size 144x144 with 1 Axes>"
      ]
     },
     "metadata": {
      "needs_background": "light"
     },
     "output_type": "display_data"
    },
    {
     "data": {
      "image/png": "[encoded data removed]",
      "text/plain": [
       "<Figure size 144x144 with 1 Axes>"
      ]
     },
     "metadata": {
      "needs_background": "light"
     },
     "output_type": "display_data"
    }
   ],
   "source": [
    "list1 = ['balance','duration','campaign','pdays','previous']\n",
    "for i in list1:\n",
    "    plt.figure(figsize=(2,2))\n",
    "    sns.kdeplot(np.log(df[i]))\n",
    "    plt.show()\n"
   ]
  },
  {
   "cell_type": "markdown",
   "id": "b93afec2",
   "metadata": {},
   "source": [
    "Distribution doesnt seems normally distributed"
   ]
  },
  {
   "cell_type": "code",
   "execution_count": 575,
   "id": "9f586fd6",
   "metadata": {},
   "outputs": [
    {
     "data": {
      "image/png": "[encoded data removed]",
      "text/plain": [
       "<Figure size 720x144 with 1 Axes>"
      ]
     },
     "metadata": {
      "needs_background": "light"
     },
     "output_type": "display_data"
    },
    {
     "data": {
      "image/png": "[encoded data removed]",
      "text/plain": [
       "<Figure size 720x144 with 1 Axes>"
      ]
     },
     "metadata": {
      "needs_background": "light"
     },
     "output_type": "display_data"
    },
    {
     "data": {
      "image/png": "[encoded data removed]",
      "text/plain": [
       "<Figure size 720x144 with 1 Axes>"
      ]
     },
     "metadata": {
      "needs_background": "light"
     },
     "output_type": "display_data"
    },
    {
     "data": {
      "image/png": "[encoded data removed]",
      "text/plain": [
       "<Figure size 720x144 with 1 Axes>"
      ]
     },
     "metadata": {
      "needs_background": "light"
     },
     "output_type": "display_data"
    },
    {
     "data": {
      "image/png": "[encoded data removed]",
      "text/plain": [
       "<Figure size 720x144 with 1 Axes>"
      ]
     },
     "metadata": {
      "needs_background": "light"
     },
     "output_type": "display_data"
    }
   ],
   "source": [
    "list1 = ['balance','duration','campaign','pdays','previous']\n",
    "for i in list1:\n",
    "    plt.figure(figsize=(10,2))\n",
    "    sns.boxplot(x = np.log(df[i]))\n",
    "    plt.show()\n"
   ]
  },
  {
   "cell_type": "code",
   "execution_count": 576,
   "id": "508b8a21",
   "metadata": {},
   "outputs": [],
   "source": [
    "list1 = ['balance','duration','campaign','pdays','previous']"
   ]
  },
  {
   "cell_type": "markdown",
   "id": "7a81e5a1",
   "metadata": {},
   "source": [
    "### 2. Cuberoot Transformation"
   ]
  },
  {
   "cell_type": "code",
   "execution_count": 577,
   "id": "68f2648d",
   "metadata": {},
   "outputs": [
    {
     "data": {
      "image/png": "[encoded data removed]",
      "text/plain": [
       "<Figure size 720x144 with 1 Axes>"
      ]
     },
     "metadata": {
      "needs_background": "light"
     },
     "output_type": "display_data"
    },
    {
     "data": {
      "image/png": "[encoded data removed]",
      "text/plain": [
       "<Figure size 720x144 with 1 Axes>"
      ]
     },
     "metadata": {
      "needs_background": "light"
     },
     "output_type": "display_data"
    },
    {
     "data": {
      "image/png": "[encoded data removed]",
      "text/plain": [
       "<Figure size 720x144 with 1 Axes>"
      ]
     },
     "metadata": {
      "needs_background": "light"
     },
     "output_type": "display_data"
    },
    {
     "data": {
      "image/png": "[encoded data removed]",
      "text/plain": [
       "<Figure size 720x144 with 1 Axes>"
      ]
     },
     "metadata": {
      "needs_background": "light"
     },
     "output_type": "display_data"
    },
    {
     "data": {
      "image/png": "[encoded data removed]",
      "text/plain": [
       "<Figure size 720x144 with 1 Axes>"
      ]
     },
     "metadata": {
      "needs_background": "light"
     },
     "output_type": "display_data"
    }
   ],
   "source": [
    "list1 = ['balance','duration','campaign','pdays','previous']\n",
    "for i in list1:\n",
    "    plt.figure(figsize=(10,2))\n",
    "    sns.boxplot(x = np.cbrt(df[i]))\n",
    "    plt.show()"
   ]
  },
  {
   "cell_type": "code",
   "execution_count": null,
   "id": "a006c457",
   "metadata": {},
   "outputs": [],
   "source": [
    "df['balance'] = np.cbrt(diabetes_df['balance'])"
   ]
  },
  {
   "cell_type": "markdown",
   "id": "896184d7",
   "metadata": {},
   "source": [
    "# 6. Feature Selection"
   ]
  },
  {
   "cell_type": "markdown",
   "id": "9d360086",
   "metadata": {},
   "source": [
    "###  Information Gain"
   ]
  },
  {
   "cell_type": "code",
   "execution_count": 578,
   "id": "5ff31f04",
   "metadata": {},
   "outputs": [],
   "source": [
    "x = df.drop('deposit',axis = 1)\n",
    "y = df['deposit']"
   ]
  },
  {
   "cell_type": "code",
   "execution_count": 579,
   "id": "961a8932",
   "metadata": {},
   "outputs": [
    {
     "data": {
      "text/plain": [
       "<AxesSubplot:>"
      ]
     },
     "execution_count": 579,
     "metadata": {},
     "output_type": "execute_result"
    },
    {
     "data": {
      "image/png": "[encoded data removed]",
      "text/plain": [
       "<Figure size 432x288 with 1 Axes>"
      ]
     },
     "metadata": {
      "needs_background": "light"
     },
     "output_type": "display_data"
    }
   ],
   "source": [
    "array_ig = mutual_info_classif(x,y)\n",
    "s2 = pd.Series(array_ig,index=x.columns)\n",
    "s2.sort_values().plot(kind = 'barh')"
   ]
  },
  {
   "cell_type": "markdown",
   "id": "d04b86b9",
   "metadata": {},
   "source": [
    "From this we can drop duration feature "
   ]
  },
  {
   "cell_type": "markdown",
   "id": "b7e6e398",
   "metadata": {},
   "source": [
    "# 7. Train Test Split"
   ]
  },
  {
   "cell_type": "code",
   "execution_count": 580,
   "id": "264f2706",
   "metadata": {},
   "outputs": [],
   "source": [
    "x = df.drop('deposit',axis = 1)\n",
    "y = df['deposit']"
   ]
  },
  {
   "cell_type": "code",
   "execution_count": 581,
   "id": "ac1e0a77",
   "metadata": {},
   "outputs": [],
   "source": [
    "x_train,x_test,y_train,y_test = train_test_split(x,y,random_state= 0,test_size= 0.2,stratify= y)"
   ]
  },
  {
   "cell_type": "code",
   "execution_count": 585,
   "id": "df061ca3",
   "metadata": {},
   "outputs": [],
   "source": [
    "final_result_dict = {'accuracy_train':[],'accuracy_test':[],'precision':[],'recall':[],'F1':[]}\n",
    "index  = []"
   ]
  },
  {
   "cell_type": "markdown",
   "id": "d4ec487e",
   "metadata": {},
   "source": [
    "# 8. Model Training"
   ]
  },
  {
   "cell_type": "markdown",
   "id": "2966df55",
   "metadata": {},
   "source": [
    "### 1. Logistic "
   ]
  },
  {
   "cell_type": "markdown",
   "id": "2cac1c0e",
   "metadata": {},
   "source": [
    "### Assumptions of Logistic\n",
    "#### 1. Correlation"
   ]
  },
  {
   "cell_type": "code",
   "execution_count": 483,
   "id": "be6fe561",
   "metadata": {},
   "outputs": [
    {
     "data": {
      "text/plain": [
       "<AxesSubplot:>"
      ]
     },
     "execution_count": 483,
     "metadata": {},
     "output_type": "execute_result"
    },
    {
     "data": {
      "image/png": "[encoded data removed]",
      "text/plain": [
       "<Figure size 14400x720 with 2 Axes>"
      ]
     },
     "metadata": {
      "needs_background": "light"
     },
     "output_type": "display_data"
    }
   ],
   "source": [
    "corr = df.corr().tail(1)\n",
    "plt.figure(figsize=(200,10))\n",
    "sns.heatmap(corr,annot= True)"
   ]
  },
  {
   "cell_type": "markdown",
   "id": "8ad91047",
   "metadata": {},
   "source": [
    "#### 2. No multicolinearity"
   ]
  },
  {
   "cell_type": "code",
   "execution_count": 582,
   "id": "735bf9ba",
   "metadata": {},
   "outputs": [
    {
     "data": {
      "text/plain": [
       "<AxesSubplot:>"
      ]
     },
     "execution_count": 582,
     "metadata": {},
     "output_type": "execute_result"
    },
    {
     "data": {
      "image/png": "[encoded data removed]",
      "text/plain": [
       "<Figure size 432x288 with 1 Axes>"
      ]
     },
     "metadata": {
      "needs_background": "light"
     },
     "output_type": "display_data"
    }
   ],
   "source": [
    "vif_list = []\n",
    "for i in range(x.shape[1]):\n",
    "    vif = variance_inflation_factor(x.values,i)\n",
    "    vif_list.append(vif)\n",
    "s1 = pd.Series(vif_list, index= x.columns)\n",
    "s1.sort_values().plot(kind = 'barh')"
   ]
  },
  {
   "cell_type": "markdown",
   "id": "7a30553a",
   "metadata": {},
   "source": [
    "From this we have seen age,poutcome,default are highly correlated with independent variable.\n",
    "age and default have no correlation so we can drop this "
   ]
  },
  {
   "cell_type": "code",
   "execution_count": 586,
   "id": "ca12ec83",
   "metadata": {},
   "outputs": [
    {
     "data": {
      "text/html": [
       "<style>#sk-container-id-18 {color: black;background-color: white;}#sk-container-id-18 pre{padding: 0;}#sk-container-id-18 div.sk-toggleable {background-color: white;}#sk-container-id-18 label.sk-toggleable__label {cursor: pointer;display: block;width: 100%;margin-bottom: 0;padding: 0.3em;box-sizing: border-box;text-align: center;}#sk-container-id-18 label.sk-toggleable__label-arrow:before {content: \"▸\";float: left;margin-right: 0.25em;color: #696969;}#sk-container-id-18 label.sk-toggleable__label-arrow:hover:before {color: black;}#sk-container-id-18 div.sk-estimator:hover label.sk-toggleable__label-arrow:before {color: black;}#sk-container-id-18 div.sk-toggleable__content {max-height: 0;max-width: 0;overflow: hidden;text-align: left;background-color: #f0f8ff;}#sk-container-id-18 div.sk-toggleable__content pre {margin: 0.2em;color: black;border-radius: 0.25em;background-color: #f0f8ff;}#sk-container-id-18 input.sk-toggleable__control:checked~div.sk-toggleable__content {max-height: 200px;max-width: 100%;overflow: auto;}#sk-container-id-18 input.sk-toggleable__control:checked~label.sk-toggleable__label-arrow:before {content: \"▾\";}#sk-container-id-18 div.sk-estimator input.sk-toggleable__control:checked~label.sk-toggleable__label {background-color: #d4ebff;}#sk-container-id-18 div.sk-label input.sk-toggleable__control:checked~label.sk-toggleable__label {background-color: #d4ebff;}#sk-container-id-18 input.sk-hidden--visually {border: 0;clip: rect(1px 1px 1px 1px);clip: rect(1px, 1px, 1px, 1px);height: 1px;margin: -1px;overflow: hidden;padding: 0;position: absolute;width: 1px;}#sk-container-id-18 div.sk-estimator {font-family: monospace;background-color: #f0f8ff;border: 1px dotted black;border-radius: 0.25em;box-sizing: border-box;margin-bottom: 0.5em;}#sk-container-id-18 div.sk-estimator:hover {background-color: #d4ebff;}#sk-container-id-18 div.sk-parallel-item::after {content: \"\";width: 100%;border-bottom: 1px solid gray;flex-grow: 1;}#sk-container-id-18 div.sk-label:hover label.sk-toggleable__label {background-color: #d4ebff;}#sk-container-id-18 div.sk-serial::before {content: \"\";position: absolute;border-left: 1px solid gray;box-sizing: border-box;top: 0;bottom: 0;left: 50%;z-index: 0;}#sk-container-id-18 div.sk-serial {display: flex;flex-direction: column;align-items: center;background-color: white;padding-right: 0.2em;padding-left: 0.2em;position: relative;}#sk-container-id-18 div.sk-item {position: relative;z-index: 1;}#sk-container-id-18 div.sk-parallel {display: flex;align-items: stretch;justify-content: center;background-color: white;position: relative;}#sk-container-id-18 div.sk-item::before, #sk-container-id-18 div.sk-parallel-item::before {content: \"\";position: absolute;border-left: 1px solid gray;box-sizing: border-box;top: 0;bottom: 0;left: 50%;z-index: -1;}#sk-container-id-18 div.sk-parallel-item {display: flex;flex-direction: column;z-index: 1;position: relative;background-color: white;}#sk-container-id-18 div.sk-parallel-item:first-child::after {align-self: flex-end;width: 50%;}#sk-container-id-18 div.sk-parallel-item:last-child::after {align-self: flex-start;width: 50%;}#sk-container-id-18 div.sk-parallel-item:only-child::after {width: 0;}#sk-container-id-18 div.sk-dashed-wrapped {border: 1px dashed gray;margin: 0 0.4em 0.5em 0.4em;box-sizing: border-box;padding-bottom: 0.4em;background-color: white;}#sk-container-id-18 div.sk-label label {font-family: monospace;font-weight: bold;display: inline-block;line-height: 1.2em;}#sk-container-id-18 div.sk-label-container {text-align: center;}#sk-container-id-18 div.sk-container {/* jupyter's `normalize.less` sets `[hidden] { display: none; }` but bootstrap.min.css set `[hidden] { display: none !important; }` so we also need the `!important` here to be able to override the default hidden behavior on the sphinx rendered scikit-learn.org. See: https://github.com/scikit-learn/scikit-learn/issues/21755 */display: inline-block !important;position: relative;}#sk-container-id-18 div.sk-text-repr-fallback {display: none;}</style><div id=\"sk-container-id-18\" class=\"sk-top-container\"><div class=\"sk-text-repr-fallback\"><pre>LogisticRegression()</pre><b>In a Jupyter environment, please rerun this cell to show the HTML representation or trust the notebook. <br />On GitHub, the HTML representation is unable to render, please try loading this page with nbviewer.org.</b></div><div class=\"sk-container\" hidden><div class=\"sk-item\"><div class=\"sk-estimator sk-toggleable\"><input class=\"sk-toggleable__control sk-hidden--visually\" id=\"sk-estimator-id-18\" type=\"checkbox\" checked><label for=\"sk-estimator-id-18\" class=\"sk-toggleable__label sk-toggleable__label-arrow\">LogisticRegression</label><div class=\"sk-toggleable__content\"><pre>LogisticRegression()</pre></div></div></div></div></div>"
      ],
      "text/plain": [
       "LogisticRegression()"
      ]
     },
     "execution_count": 586,
     "metadata": {},
     "output_type": "execute_result"
    }
   ],
   "source": [
    "log_model = LogisticRegression()\n",
    "log_model.fit(x_train,y_train)"
   ]
  },
  {
   "cell_type": "markdown",
   "id": "f4936fcc",
   "metadata": {},
   "source": [
    "### Evaluation matrix for testing"
   ]
  },
  {
   "cell_type": "code",
   "execution_count": 588,
   "id": "28e26458",
   "metadata": {},
   "outputs": [
    {
     "name": "stdout",
     "output_type": "stream",
     "text": [
      "Confusion Matrix : \n",
      " [[765 293]\n",
      " [220 955]]\n",
      "Accuracy: 0.7702642185400806\n",
      "Classification Report :\n",
      "               precision    recall  f1-score   support\n",
      "\n",
      "           0       0.78      0.72      0.75      1058\n",
      "           1       0.77      0.81      0.79      1175\n",
      "\n",
      "    accuracy                           0.77      2233\n",
      "   macro avg       0.77      0.77      0.77      2233\n",
      "weighted avg       0.77      0.77      0.77      2233\n",
      "\n",
      "precision : 0.7652243589743589\n",
      "Recall : 0.8127659574468085\n",
      "F1 : 0.7882789929839042\n"
     ]
    }
   ],
   "source": [
    "y_pred = log_model.predict(x_test)\n",
    "\n",
    "conf_matrix = confusion_matrix(y_test,y_pred)\n",
    "print('Confusion Matrix : \\n',conf_matrix)\n",
    "\n",
    "accuracy_test = accuracy_score(y_test,y_pred)\n",
    "print('Accuracy:',accuracy_test)\n",
    "\n",
    "classi_report = classification_report(y_test,y_pred)\n",
    "print('Classification Report :\\n',classi_report)\n",
    "\n",
    "precision = precision_score(y_test,y_pred)\n",
    "print('precision :',precision)\n",
    "\n",
    "recall = recall_score(y_test,y_pred)\n",
    "print('Recall :',recall)\n",
    "\n",
    "F1 = f1_score(y_test,y_pred)\n",
    "print('F1 :',F1)"
   ]
  },
  {
   "cell_type": "markdown",
   "id": "a075cb9a",
   "metadata": {},
   "source": [
    "### Confusion Matrix for testing"
   ]
  },
  {
   "cell_type": "code",
   "execution_count": 429,
   "id": "69210228",
   "metadata": {},
   "outputs": [
    {
     "data": {
      "text/plain": [
       "<sklearn.metrics._plot.confusion_matrix.ConfusionMatrixDisplay at 0x2cc8ef73940>"
      ]
     },
     "execution_count": 429,
     "metadata": {},
     "output_type": "execute_result"
    },
    {
     "data": {
      "image/png": "[encoded data removed]",
      "text/plain": [
       "<Figure size 432x288 with 2 Axes>"
      ]
     },
     "metadata": {
      "needs_background": "light"
     },
     "output_type": "display_data"
    }
   ],
   "source": [
    "plot_confusion_matrix(log_model,x_test, y_test)"
   ]
  },
  {
   "cell_type": "markdown",
   "id": "65ec3c55",
   "metadata": {},
   "source": [
    "### Evaluation matrix for training"
   ]
  },
  {
   "cell_type": "code",
   "execution_count": 587,
   "id": "67173e9f",
   "metadata": {},
   "outputs": [
    {
     "name": "stdout",
     "output_type": "stream",
     "text": [
      "Confusion Matrix : \n",
      " [[3037 1194]\n",
      " [ 969 3729]]\n",
      "Accuracy: 0.7577556277298689\n",
      "Classification Report :\n",
      "               precision    recall  f1-score   support\n",
      "\n",
      "           0       0.76      0.72      0.74      4231\n",
      "           1       0.76      0.79      0.78      4698\n",
      "\n",
      "    accuracy                           0.76      8929\n",
      "   macro avg       0.76      0.76      0.76      8929\n",
      "weighted avg       0.76      0.76      0.76      8929\n",
      "\n",
      "precision : 0.7574649603900061\n",
      "Recall : 0.7937420178799489\n",
      "F1 : 0.7751792952915497\n"
     ]
    }
   ],
   "source": [
    "y_pred_train = log_model.predict(x_train)\n",
    "\n",
    "conf_matrix = confusion_matrix(y_train,y_pred_train)\n",
    "print('Confusion Matrix : \\n',conf_matrix)\n",
    "\n",
    "accuracy_train = accuracy_score(y_train,y_pred_train)\n",
    "print('Accuracy:',accuracy_train)\n",
    "\n",
    "classi_report = classification_report(y_train,y_pred_train)\n",
    "print('Classification Report :\\n',classi_report)\n",
    "\n",
    "precision = precision_score(y_train,y_pred_train)\n",
    "print('precision :',precision)\n",
    "\n",
    "recall = recall_score(y_train,y_pred_train)\n",
    "print('Recall :',recall)\n",
    "\n",
    "F1 = f1_score(y_train,y_pred_train)\n",
    "print('F1 :',F1)"
   ]
  },
  {
   "cell_type": "markdown",
   "id": "1c6bba8b",
   "metadata": {},
   "source": [
    "# AUC-ROC CURVE"
   ]
  },
  {
   "cell_type": "code",
   "execution_count": 475,
   "id": "5043de87",
   "metadata": {},
   "outputs": [
    {
     "data": {
      "text/plain": [
       "Text(0.5, 1.0, 'Reciver Operating curve')"
      ]
     },
     "execution_count": 475,
     "metadata": {},
     "output_type": "execute_result"
    },
    {
     "data": {
      "image/png": "[encoded data removed]",
      "text/plain": [
       "<Figure size 432x288 with 1 Axes>"
      ]
     },
     "metadata": {
      "needs_background": "light"
     },
     "output_type": "display_data"
    }
   ],
   "source": [
    "y_pred_prob = log_model.predict_proba(x_train)\n",
    "fpr,tpr,thresh = roc_curve(y_train, y_pred_prob[:,1])\n",
    "\n",
    "plt.plot(fpr,tpr)\n",
    "plt.xlabel(\"False positive Rate(FPR)\")\n",
    "plt.ylabel(\"True Positive Rate(FPR)\")\n",
    "plt.title(\"Reciver Operating curve\")"
   ]
  },
  {
   "cell_type": "markdown",
   "id": "58f28e98",
   "metadata": {},
   "source": [
    "## Conclusion On Logistic Regression\n",
    "\n",
    "### Logistic regression gives best results as 76 % on Training 77% on Testing "
   ]
  },
  {
   "cell_type": "code",
   "execution_count": 589,
   "id": "61abdb3c",
   "metadata": {},
   "outputs": [],
   "source": [
    "final_result_dict['accuracy_train'].append(accuracy_train)\n",
    "final_result_dict['accuracy_test'].append(accuracy_test)\n",
    "final_result_dict['precision'].append(precision)\n",
    "final_result_dict['recall'].append(Recall)\n",
    "final_result_dict['F1'].append(F1)\n",
    "index.append('logistic_reg')\n"
   ]
  },
  {
   "cell_type": "markdown",
   "id": "52894941",
   "metadata": {},
   "source": [
    "### 2. Decision Tree"
   ]
  },
  {
   "cell_type": "code",
   "execution_count": 433,
   "id": "7f82d1fe",
   "metadata": {},
   "outputs": [
    {
     "data": {
      "text/html": [
       "<style>#sk-container-id-6 {color: black;background-color: white;}#sk-container-id-6 pre{padding: 0;}#sk-container-id-6 div.sk-toggleable {background-color: white;}#sk-container-id-6 label.sk-toggleable__label {cursor: pointer;display: block;width: 100%;margin-bottom: 0;padding: 0.3em;box-sizing: border-box;text-align: center;}#sk-container-id-6 label.sk-toggleable__label-arrow:before {content: \"▸\";float: left;margin-right: 0.25em;color: #696969;}#sk-container-id-6 label.sk-toggleable__label-arrow:hover:before {color: black;}#sk-container-id-6 div.sk-estimator:hover label.sk-toggleable__label-arrow:before {color: black;}#sk-container-id-6 div.sk-toggleable__content {max-height: 0;max-width: 0;overflow: hidden;text-align: left;background-color: #f0f8ff;}#sk-container-id-6 div.sk-toggleable__content pre {margin: 0.2em;color: black;border-radius: 0.25em;background-color: #f0f8ff;}#sk-container-id-6 input.sk-toggleable__control:checked~div.sk-toggleable__content {max-height: 200px;max-width: 100%;overflow: auto;}#sk-container-id-6 input.sk-toggleable__control:checked~label.sk-toggleable__label-arrow:before {content: \"▾\";}#sk-container-id-6 div.sk-estimator input.sk-toggleable__control:checked~label.sk-toggleable__label {background-color: #d4ebff;}#sk-container-id-6 div.sk-label input.sk-toggleable__control:checked~label.sk-toggleable__label {background-color: #d4ebff;}#sk-container-id-6 input.sk-hidden--visually {border: 0;clip: rect(1px 1px 1px 1px);clip: rect(1px, 1px, 1px, 1px);height: 1px;margin: -1px;overflow: hidden;padding: 0;position: absolute;width: 1px;}#sk-container-id-6 div.sk-estimator {font-family: monospace;background-color: #f0f8ff;border: 1px dotted black;border-radius: 0.25em;box-sizing: border-box;margin-bottom: 0.5em;}#sk-container-id-6 div.sk-estimator:hover {background-color: #d4ebff;}#sk-container-id-6 div.sk-parallel-item::after {content: \"\";width: 100%;border-bottom: 1px solid gray;flex-grow: 1;}#sk-container-id-6 div.sk-label:hover label.sk-toggleable__label {background-color: #d4ebff;}#sk-container-id-6 div.sk-serial::before {content: \"\";position: absolute;border-left: 1px solid gray;box-sizing: border-box;top: 0;bottom: 0;left: 50%;z-index: 0;}#sk-container-id-6 div.sk-serial {display: flex;flex-direction: column;align-items: center;background-color: white;padding-right: 0.2em;padding-left: 0.2em;position: relative;}#sk-container-id-6 div.sk-item {position: relative;z-index: 1;}#sk-container-id-6 div.sk-parallel {display: flex;align-items: stretch;justify-content: center;background-color: white;position: relative;}#sk-container-id-6 div.sk-item::before, #sk-container-id-6 div.sk-parallel-item::before {content: \"\";position: absolute;border-left: 1px solid gray;box-sizing: border-box;top: 0;bottom: 0;left: 50%;z-index: -1;}#sk-container-id-6 div.sk-parallel-item {display: flex;flex-direction: column;z-index: 1;position: relative;background-color: white;}#sk-container-id-6 div.sk-parallel-item:first-child::after {align-self: flex-end;width: 50%;}#sk-container-id-6 div.sk-parallel-item:last-child::after {align-self: flex-start;width: 50%;}#sk-container-id-6 div.sk-parallel-item:only-child::after {width: 0;}#sk-container-id-6 div.sk-dashed-wrapped {border: 1px dashed gray;margin: 0 0.4em 0.5em 0.4em;box-sizing: border-box;padding-bottom: 0.4em;background-color: white;}#sk-container-id-6 div.sk-label label {font-family: monospace;font-weight: bold;display: inline-block;line-height: 1.2em;}#sk-container-id-6 div.sk-label-container {text-align: center;}#sk-container-id-6 div.sk-container {/* jupyter's `normalize.less` sets `[hidden] { display: none; }` but bootstrap.min.css set `[hidden] { display: none !important; }` so we also need the `!important` here to be able to override the default hidden behavior on the sphinx rendered scikit-learn.org. See: https://github.com/scikit-learn/scikit-learn/issues/21755 */display: inline-block !important;position: relative;}#sk-container-id-6 div.sk-text-repr-fallback {display: none;}</style><div id=\"sk-container-id-6\" class=\"sk-top-container\"><div class=\"sk-text-repr-fallback\"><pre>DecisionTreeClassifier()</pre><b>In a Jupyter environment, please rerun this cell to show the HTML representation or trust the notebook. <br />On GitHub, the HTML representation is unable to render, please try loading this page with nbviewer.org.</b></div><div class=\"sk-container\" hidden><div class=\"sk-item\"><div class=\"sk-estimator sk-toggleable\"><input class=\"sk-toggleable__control sk-hidden--visually\" id=\"sk-estimator-id-6\" type=\"checkbox\" checked><label for=\"sk-estimator-id-6\" class=\"sk-toggleable__label sk-toggleable__label-arrow\">DecisionTreeClassifier</label><div class=\"sk-toggleable__content\"><pre>DecisionTreeClassifier()</pre></div></div></div></div></div>"
      ],
      "text/plain": [
       "DecisionTreeClassifier()"
      ]
     },
     "execution_count": 433,
     "metadata": {},
     "output_type": "execute_result"
    }
   ],
   "source": [
    "dt_clf = DecisionTreeClassifier()\n",
    "dt_clf.fit(x_train,y_train)"
   ]
  },
  {
   "cell_type": "markdown",
   "id": "3a3d5ea4",
   "metadata": {},
   "source": [
    "### Evaluation on Training"
   ]
  },
  {
   "cell_type": "code",
   "execution_count": 434,
   "id": "df2bc024",
   "metadata": {},
   "outputs": [
    {
     "name": "stdout",
     "output_type": "stream",
     "text": [
      "Confusion Matrix : \n",
      " [[4231    0]\n",
      " [   0 4698]]\n",
      "Accuracy: 1.0\n",
      "Classification Report :\n",
      "               precision    recall  f1-score   support\n",
      "\n",
      "           0       1.00      1.00      1.00      4231\n",
      "           1       1.00      1.00      1.00      4698\n",
      "\n",
      "    accuracy                           1.00      8929\n",
      "   macro avg       1.00      1.00      1.00      8929\n",
      "weighted avg       1.00      1.00      1.00      8929\n",
      "\n",
      "precision : 1.0\n",
      "Recall : 1.0\n",
      "F1 : 1.0\n"
     ]
    }
   ],
   "source": [
    "y_pred_train = dt_clf.predict(x_train)\n",
    "\n",
    "conf_matrix = confusion_matrix(y_train,y_pred_train)\n",
    "print('Confusion Matrix : \\n',conf_matrix)\n",
    "\n",
    "accuracy_train = accuracy_score(y_train,y_pred_train)\n",
    "print('Accuracy:',accuracy_train)\n",
    "\n",
    "classi_report = classification_report(y_train,y_pred_train)\n",
    "print('Classification Report :\\n',classi_report)\n",
    "\n",
    "precision = precision_score(y_train,y_pred_train)\n",
    "print('precision :',precision)\n",
    "\n",
    "recall = recall_score(y_train,y_pred_train)\n",
    "print('Recall :',recall)\n",
    "\n",
    "F1 = f1_score(y_train,y_pred_train)\n",
    "print('F1 :',F1)"
   ]
  },
  {
   "cell_type": "markdown",
   "id": "a1a074c6",
   "metadata": {},
   "source": [
    "### Evaluation on Testing"
   ]
  },
  {
   "cell_type": "code",
   "execution_count": 435,
   "id": "c7c4a2df",
   "metadata": {},
   "outputs": [
    {
     "name": "stdout",
     "output_type": "stream",
     "text": [
      "Confusion Matrix : \n",
      " [[811 247]\n",
      " [239 936]]\n",
      "Accuracy: 0.7823555754590238\n",
      "Classification Report :\n",
      "               precision    recall  f1-score   support\n",
      "\n",
      "           0       0.77      0.77      0.77      1058\n",
      "           1       0.79      0.80      0.79      1175\n",
      "\n",
      "    accuracy                           0.78      2233\n",
      "   macro avg       0.78      0.78      0.78      2233\n",
      "weighted avg       0.78      0.78      0.78      2233\n",
      "\n",
      "precision : 0.7912087912087912\n",
      "Recall : 0.796595744680851\n",
      "F1 : 0.7938931297709924\n"
     ]
    }
   ],
   "source": [
    "y_pred = dt_clf.predict(x_test)\n",
    "\n",
    "conf_matrix = confusion_matrix(y_test,y_pred)\n",
    "print('Confusion Matrix : \\n',conf_matrix)\n",
    "\n",
    "accuracy_test = accuracy_score(y_test,y_pred)\n",
    "print('Accuracy:',accuracy_test)\n",
    "\n",
    "classi_report = classification_report(y_test,y_pred)\n",
    "print('Classification Report :\\n',classi_report)\n",
    "\n",
    "precision = precision_score(y_test,y_pred)\n",
    "print('precision :',precision)\n",
    "\n",
    "recall = recall_score(y_test,y_pred)\n",
    "print('Recall :',recall)\n",
    "\n",
    "F1 = f1_score(y_test,y_pred)\n",
    "print('F1 :',F1)"
   ]
  },
  {
   "cell_type": "markdown",
   "id": "09c90d44",
   "metadata": {},
   "source": [
    "As we know Decision Tree always overfit as it grow upto the end so lets try hyperparameter tunning"
   ]
  },
  {
   "cell_type": "markdown",
   "id": "65af135e",
   "metadata": {},
   "source": [
    "### Hyperparameter Tunning"
   ]
  },
  {
   "cell_type": "code",
   "execution_count": 437,
   "id": "75c1abac",
   "metadata": {},
   "outputs": [
    {
     "data": {
      "text/html": [
       "<style>#sk-container-id-7 {color: black;background-color: white;}#sk-container-id-7 pre{padding: 0;}#sk-container-id-7 div.sk-toggleable {background-color: white;}#sk-container-id-7 label.sk-toggleable__label {cursor: pointer;display: block;width: 100%;margin-bottom: 0;padding: 0.3em;box-sizing: border-box;text-align: center;}#sk-container-id-7 label.sk-toggleable__label-arrow:before {content: \"▸\";float: left;margin-right: 0.25em;color: #696969;}#sk-container-id-7 label.sk-toggleable__label-arrow:hover:before {color: black;}#sk-container-id-7 div.sk-estimator:hover label.sk-toggleable__label-arrow:before {color: black;}#sk-container-id-7 div.sk-toggleable__content {max-height: 0;max-width: 0;overflow: hidden;text-align: left;background-color: #f0f8ff;}#sk-container-id-7 div.sk-toggleable__content pre {margin: 0.2em;color: black;border-radius: 0.25em;background-color: #f0f8ff;}#sk-container-id-7 input.sk-toggleable__control:checked~div.sk-toggleable__content {max-height: 200px;max-width: 100%;overflow: auto;}#sk-container-id-7 input.sk-toggleable__control:checked~label.sk-toggleable__label-arrow:before {content: \"▾\";}#sk-container-id-7 div.sk-estimator input.sk-toggleable__control:checked~label.sk-toggleable__label {background-color: #d4ebff;}#sk-container-id-7 div.sk-label input.sk-toggleable__control:checked~label.sk-toggleable__label {background-color: #d4ebff;}#sk-container-id-7 input.sk-hidden--visually {border: 0;clip: rect(1px 1px 1px 1px);clip: rect(1px, 1px, 1px, 1px);height: 1px;margin: -1px;overflow: hidden;padding: 0;position: absolute;width: 1px;}#sk-container-id-7 div.sk-estimator {font-family: monospace;background-color: #f0f8ff;border: 1px dotted black;border-radius: 0.25em;box-sizing: border-box;margin-bottom: 0.5em;}#sk-container-id-7 div.sk-estimator:hover {background-color: #d4ebff;}#sk-container-id-7 div.sk-parallel-item::after {content: \"\";width: 100%;border-bottom: 1px solid gray;flex-grow: 1;}#sk-container-id-7 div.sk-label:hover label.sk-toggleable__label {background-color: #d4ebff;}#sk-container-id-7 div.sk-serial::before {content: \"\";position: absolute;border-left: 1px solid gray;box-sizing: border-box;top: 0;bottom: 0;left: 50%;z-index: 0;}#sk-container-id-7 div.sk-serial {display: flex;flex-direction: column;align-items: center;background-color: white;padding-right: 0.2em;padding-left: 0.2em;position: relative;}#sk-container-id-7 div.sk-item {position: relative;z-index: 1;}#sk-container-id-7 div.sk-parallel {display: flex;align-items: stretch;justify-content: center;background-color: white;position: relative;}#sk-container-id-7 div.sk-item::before, #sk-container-id-7 div.sk-parallel-item::before {content: \"\";position: absolute;border-left: 1px solid gray;box-sizing: border-box;top: 0;bottom: 0;left: 50%;z-index: -1;}#sk-container-id-7 div.sk-parallel-item {display: flex;flex-direction: column;z-index: 1;position: relative;background-color: white;}#sk-container-id-7 div.sk-parallel-item:first-child::after {align-self: flex-end;width: 50%;}#sk-container-id-7 div.sk-parallel-item:last-child::after {align-self: flex-start;width: 50%;}#sk-container-id-7 div.sk-parallel-item:only-child::after {width: 0;}#sk-container-id-7 div.sk-dashed-wrapped {border: 1px dashed gray;margin: 0 0.4em 0.5em 0.4em;box-sizing: border-box;padding-bottom: 0.4em;background-color: white;}#sk-container-id-7 div.sk-label label {font-family: monospace;font-weight: bold;display: inline-block;line-height: 1.2em;}#sk-container-id-7 div.sk-label-container {text-align: center;}#sk-container-id-7 div.sk-container {/* jupyter's `normalize.less` sets `[hidden] { display: none; }` but bootstrap.min.css set `[hidden] { display: none !important; }` so we also need the `!important` here to be able to override the default hidden behavior on the sphinx rendered scikit-learn.org. See: https://github.com/scikit-learn/scikit-learn/issues/21755 */display: inline-block !important;position: relative;}#sk-container-id-7 div.sk-text-repr-fallback {display: none;}</style><div id=\"sk-container-id-7\" class=\"sk-top-container\"><div class=\"sk-text-repr-fallback\"><pre>DecisionTreeClassifier(criterion=&#x27;entropy&#x27;, max_depth=7, min_samples_leaf=11,\n",
       "                       min_samples_split=3)</pre><b>In a Jupyter environment, please rerun this cell to show the HTML representation or trust the notebook. <br />On GitHub, the HTML representation is unable to render, please try loading this page with nbviewer.org.</b></div><div class=\"sk-container\" hidden><div class=\"sk-item\"><div class=\"sk-estimator sk-toggleable\"><input class=\"sk-toggleable__control sk-hidden--visually\" id=\"sk-estimator-id-7\" type=\"checkbox\" checked><label for=\"sk-estimator-id-7\" class=\"sk-toggleable__label sk-toggleable__label-arrow\">DecisionTreeClassifier</label><div class=\"sk-toggleable__content\"><pre>DecisionTreeClassifier(criterion=&#x27;entropy&#x27;, max_depth=7, min_samples_leaf=11,\n",
       "                       min_samples_split=3)</pre></div></div></div></div></div>"
      ],
      "text/plain": [
       "DecisionTreeClassifier(criterion='entropy', max_depth=7, min_samples_leaf=11,\n",
       "                       min_samples_split=3)"
      ]
     },
     "execution_count": 437,
     "metadata": {},
     "output_type": "execute_result"
    }
   ],
   "source": [
    "dt_clf_hyp  =DecisionTreeClassifier()\n",
    "\n",
    "hyperparameters = {'criterion':['gini','entropy'],\n",
    "                     'max_depth':np.arange(5,8),\n",
    "                     'min_samples_split' : np.arange(3,20),\n",
    "                     'min_samples_leaf' : np.arange(3,15),}\n",
    "\n",
    "gscv_dt_hyp = GridSearchCV(dt_clf_hyp,hyperparameters,cv=5)\n",
    "gscv_dt_hyp.fit(x_train,y_train)\n",
    "gscv_dt_hyp.best_estimator_"
   ]
  },
  {
   "cell_type": "code",
   "execution_count": 439,
   "id": "5da3b21a",
   "metadata": {},
   "outputs": [
    {
     "data": {
      "text/html": [
       "<style>#sk-container-id-8 {color: black;background-color: white;}#sk-container-id-8 pre{padding: 0;}#sk-container-id-8 div.sk-toggleable {background-color: white;}#sk-container-id-8 label.sk-toggleable__label {cursor: pointer;display: block;width: 100%;margin-bottom: 0;padding: 0.3em;box-sizing: border-box;text-align: center;}#sk-container-id-8 label.sk-toggleable__label-arrow:before {content: \"▸\";float: left;margin-right: 0.25em;color: #696969;}#sk-container-id-8 label.sk-toggleable__label-arrow:hover:before {color: black;}#sk-container-id-8 div.sk-estimator:hover label.sk-toggleable__label-arrow:before {color: black;}#sk-container-id-8 div.sk-toggleable__content {max-height: 0;max-width: 0;overflow: hidden;text-align: left;background-color: #f0f8ff;}#sk-container-id-8 div.sk-toggleable__content pre {margin: 0.2em;color: black;border-radius: 0.25em;background-color: #f0f8ff;}#sk-container-id-8 input.sk-toggleable__control:checked~div.sk-toggleable__content {max-height: 200px;max-width: 100%;overflow: auto;}#sk-container-id-8 input.sk-toggleable__control:checked~label.sk-toggleable__label-arrow:before {content: \"▾\";}#sk-container-id-8 div.sk-estimator input.sk-toggleable__control:checked~label.sk-toggleable__label {background-color: #d4ebff;}#sk-container-id-8 div.sk-label input.sk-toggleable__control:checked~label.sk-toggleable__label {background-color: #d4ebff;}#sk-container-id-8 input.sk-hidden--visually {border: 0;clip: rect(1px 1px 1px 1px);clip: rect(1px, 1px, 1px, 1px);height: 1px;margin: -1px;overflow: hidden;padding: 0;position: absolute;width: 1px;}#sk-container-id-8 div.sk-estimator {font-family: monospace;background-color: #f0f8ff;border: 1px dotted black;border-radius: 0.25em;box-sizing: border-box;margin-bottom: 0.5em;}#sk-container-id-8 div.sk-estimator:hover {background-color: #d4ebff;}#sk-container-id-8 div.sk-parallel-item::after {content: \"\";width: 100%;border-bottom: 1px solid gray;flex-grow: 1;}#sk-container-id-8 div.sk-label:hover label.sk-toggleable__label {background-color: #d4ebff;}#sk-container-id-8 div.sk-serial::before {content: \"\";position: absolute;border-left: 1px solid gray;box-sizing: border-box;top: 0;bottom: 0;left: 50%;z-index: 0;}#sk-container-id-8 div.sk-serial {display: flex;flex-direction: column;align-items: center;background-color: white;padding-right: 0.2em;padding-left: 0.2em;position: relative;}#sk-container-id-8 div.sk-item {position: relative;z-index: 1;}#sk-container-id-8 div.sk-parallel {display: flex;align-items: stretch;justify-content: center;background-color: white;position: relative;}#sk-container-id-8 div.sk-item::before, #sk-container-id-8 div.sk-parallel-item::before {content: \"\";position: absolute;border-left: 1px solid gray;box-sizing: border-box;top: 0;bottom: 0;left: 50%;z-index: -1;}#sk-container-id-8 div.sk-parallel-item {display: flex;flex-direction: column;z-index: 1;position: relative;background-color: white;}#sk-container-id-8 div.sk-parallel-item:first-child::after {align-self: flex-end;width: 50%;}#sk-container-id-8 div.sk-parallel-item:last-child::after {align-self: flex-start;width: 50%;}#sk-container-id-8 div.sk-parallel-item:only-child::after {width: 0;}#sk-container-id-8 div.sk-dashed-wrapped {border: 1px dashed gray;margin: 0 0.4em 0.5em 0.4em;box-sizing: border-box;padding-bottom: 0.4em;background-color: white;}#sk-container-id-8 div.sk-label label {font-family: monospace;font-weight: bold;display: inline-block;line-height: 1.2em;}#sk-container-id-8 div.sk-label-container {text-align: center;}#sk-container-id-8 div.sk-container {/* jupyter's `normalize.less` sets `[hidden] { display: none; }` but bootstrap.min.css set `[hidden] { display: none !important; }` so we also need the `!important` here to be able to override the default hidden behavior on the sphinx rendered scikit-learn.org. See: https://github.com/scikit-learn/scikit-learn/issues/21755 */display: inline-block !important;position: relative;}#sk-container-id-8 div.sk-text-repr-fallback {display: none;}</style><div id=\"sk-container-id-8\" class=\"sk-top-container\"><div class=\"sk-text-repr-fallback\"><pre>DecisionTreeClassifier(criterion=&#x27;entropy&#x27;, max_depth=7, min_samples_leaf=11,\n",
       "                       min_samples_split=3)</pre><b>In a Jupyter environment, please rerun this cell to show the HTML representation or trust the notebook. <br />On GitHub, the HTML representation is unable to render, please try loading this page with nbviewer.org.</b></div><div class=\"sk-container\" hidden><div class=\"sk-item\"><div class=\"sk-estimator sk-toggleable\"><input class=\"sk-toggleable__control sk-hidden--visually\" id=\"sk-estimator-id-8\" type=\"checkbox\" checked><label for=\"sk-estimator-id-8\" class=\"sk-toggleable__label sk-toggleable__label-arrow\">DecisionTreeClassifier</label><div class=\"sk-toggleable__content\"><pre>DecisionTreeClassifier(criterion=&#x27;entropy&#x27;, max_depth=7, min_samples_leaf=11,\n",
       "                       min_samples_split=3)</pre></div></div></div></div></div>"
      ],
      "text/plain": [
       "DecisionTreeClassifier(criterion='entropy', max_depth=7, min_samples_leaf=11,\n",
       "                       min_samples_split=3)"
      ]
     },
     "execution_count": 439,
     "metadata": {},
     "output_type": "execute_result"
    }
   ],
   "source": [
    "dt_clf_hyp  =DecisionTreeClassifier(criterion='entropy', max_depth=7, min_samples_leaf=11,\n",
    "                       min_samples_split=3)\n",
    "dt_clf_hyp.fit(x_train,y_train)"
   ]
  },
  {
   "cell_type": "markdown",
   "id": "4e2e4293",
   "metadata": {},
   "source": [
    "### Evaluation Metric of Training"
   ]
  },
  {
   "cell_type": "code",
   "execution_count": 440,
   "id": "0ef9b460",
   "metadata": {},
   "outputs": [
    {
     "name": "stdout",
     "output_type": "stream",
     "text": [
      "Confusion Matrix : \n",
      " [[3590  641]\n",
      " [ 872 3826]]\n",
      "Accuracy: 0.8305521334975922\n",
      "Classification Report :\n",
      "               precision    recall  f1-score   support\n",
      "\n",
      "           0       0.80      0.85      0.83      4231\n",
      "           1       0.86      0.81      0.83      4698\n",
      "\n",
      "    accuracy                           0.83      8929\n",
      "   macro avg       0.83      0.83      0.83      8929\n",
      "weighted avg       0.83      0.83      0.83      8929\n",
      "\n",
      "precision : 0.8565032460264159\n",
      "Recall : 0.8143891017454236\n",
      "F1 : 0.8349154391707582\n"
     ]
    }
   ],
   "source": [
    "y_pred_train = dt_clf_hyp.predict(x_train)\n",
    "\n",
    "conf_matrix = confusion_matrix(y_train,y_pred_train)\n",
    "print('Confusion Matrix : \\n',conf_matrix)\n",
    "\n",
    "accuracy_train = accuracy_score(y_train,y_pred_train)\n",
    "print('Accuracy:',accuracy_train)\n",
    "\n",
    "classi_report = classification_report(y_train,y_pred_train)\n",
    "print('Classification Report :\\n',classi_report)\n",
    "\n",
    "precision = precision_score(y_train,y_pred_train)\n",
    "print('precision :',precision)\n",
    "\n",
    "recall = recall_score(y_train,y_pred_train)\n",
    "print('Recall :',recall)\n",
    "\n",
    "F1 = f1_score(y_train,y_pred_train)\n",
    "print('F1 :',F1)"
   ]
  },
  {
   "cell_type": "markdown",
   "id": "357544d6",
   "metadata": {},
   "source": [
    "### Evaluation Metric of Testing"
   ]
  },
  {
   "cell_type": "code",
   "execution_count": 441,
   "id": "48bcc6ef",
   "metadata": {},
   "outputs": [
    {
     "name": "stdout",
     "output_type": "stream",
     "text": [
      "Confusion Matrix : \n",
      " [[878 180]\n",
      " [220 955]]\n",
      "Accuracy: 0.8208687863860278\n",
      "Classification Report :\n",
      "               precision    recall  f1-score   support\n",
      "\n",
      "           0       0.80      0.83      0.81      1058\n",
      "           1       0.84      0.81      0.83      1175\n",
      "\n",
      "    accuracy                           0.82      2233\n",
      "   macro avg       0.82      0.82      0.82      2233\n",
      "weighted avg       0.82      0.82      0.82      2233\n",
      "\n",
      "precision : 0.8414096916299559\n",
      "Recall : 0.8127659574468085\n",
      "F1 : 0.8268398268398268\n"
     ]
    }
   ],
   "source": [
    "y_pred = dt_clf_hyp.predict(x_test)\n",
    "\n",
    "conf_matrix = confusion_matrix(y_test,y_pred)\n",
    "print('Confusion Matrix : \\n',conf_matrix)\n",
    "\n",
    "accuracy_test = accuracy_score(y_test,y_pred)\n",
    "print('Accuracy:',accuracy_test)\n",
    "\n",
    "classi_report = classification_report(y_test,y_pred)\n",
    "print('Classification Report :\\n',classi_report)\n",
    "\n",
    "precision = precision_score(y_test,y_pred)\n",
    "print('precision :',precision)\n",
    "\n",
    "recall = recall_score(y_test,y_pred)\n",
    "print('Recall :',recall)\n",
    "\n",
    "F1 = f1_score(y_test,y_pred)\n",
    "print('F1 :',F1)"
   ]
  },
  {
   "cell_type": "markdown",
   "id": "d7a65b81",
   "metadata": {},
   "source": [
    "Model is not Overfitting so after hyperparameter tunning.. may be we get the good result after prunning so lets try prunning on decision tree"
   ]
  },
  {
   "cell_type": "markdown",
   "id": "ed66f357",
   "metadata": {},
   "source": [
    "### Pruning on Decision Tree"
   ]
  },
  {
   "cell_type": "code",
   "execution_count": 444,
   "id": "2492f254",
   "metadata": {},
   "outputs": [],
   "source": [
    "dt_clf_ccp = DecisionTreeClassifier()\n",
    "result = dt_clf_ccp.cost_complexity_pruning_path(x_train,y_train)\n",
    "ccp_alpha_list = result['ccp_alphas']\n",
    "# ccp_alpha_list"
   ]
  },
  {
   "cell_type": "code",
   "execution_count": 446,
   "id": "a6b58167",
   "metadata": {},
   "outputs": [
    {
     "data": {
      "text/plain": [
       "[<matplotlib.lines.Line2D at 0x2ccf1047070>]"
      ]
     },
     "execution_count": 446,
     "metadata": {},
     "output_type": "execute_result"
    },
    {
     "data": {
      "image/png": "[encoded data removed]",
      "text/plain": [
       "<Figure size 432x288 with 1 Axes>"
      ]
     },
     "metadata": {
      "needs_background": "light"
     },
     "output_type": "display_data"
    }
   ],
   "source": [
    "train_accuracy_list = []\n",
    "test_accuracy_list = []\n",
    "for ccp_alpha in ccp_alpha_list:\n",
    "    dt_clf_ccp = DecisionTreeClassifier(random_state=0,ccp_alpha=ccp_alpha)\n",
    "    dt_clf_ccp.fit(x_train, y_train)\n",
    "    \n",
    "    train_accuracy_list.append(dt_clf_ccp.score(x_train, y_train))\n",
    "    test_accuracy_list.append(dt_clf_ccp.score(x_test, y_test))\n",
    "    \n",
    "plt.plot(ccp_alpha_list,train_accuracy_list)\n",
    "plt.plot(ccp_alpha_list,test_accuracy_list)"
   ]
  },
  {
   "cell_type": "code",
   "execution_count": 447,
   "id": "135e7ab8",
   "metadata": {},
   "outputs": [
    {
     "data": {
      "text/plain": [
       "(array([491, 492], dtype=int64),)"
      ]
     },
     "execution_count": 447,
     "metadata": {},
     "output_type": "execute_result"
    }
   ],
   "source": [
    "np.where(test_accuracy_list == max(test_accuracy_list))"
   ]
  },
  {
   "cell_type": "code",
   "execution_count": 590,
   "id": "bf0090a5",
   "metadata": {},
   "outputs": [
    {
     "data": {
      "text/html": [
       "<style>#sk-container-id-19 {color: black;background-color: white;}#sk-container-id-19 pre{padding: 0;}#sk-container-id-19 div.sk-toggleable {background-color: white;}#sk-container-id-19 label.sk-toggleable__label {cursor: pointer;display: block;width: 100%;margin-bottom: 0;padding: 0.3em;box-sizing: border-box;text-align: center;}#sk-container-id-19 label.sk-toggleable__label-arrow:before {content: \"▸\";float: left;margin-right: 0.25em;color: #696969;}#sk-container-id-19 label.sk-toggleable__label-arrow:hover:before {color: black;}#sk-container-id-19 div.sk-estimator:hover label.sk-toggleable__label-arrow:before {color: black;}#sk-container-id-19 div.sk-toggleable__content {max-height: 0;max-width: 0;overflow: hidden;text-align: left;background-color: #f0f8ff;}#sk-container-id-19 div.sk-toggleable__content pre {margin: 0.2em;color: black;border-radius: 0.25em;background-color: #f0f8ff;}#sk-container-id-19 input.sk-toggleable__control:checked~div.sk-toggleable__content {max-height: 200px;max-width: 100%;overflow: auto;}#sk-container-id-19 input.sk-toggleable__control:checked~label.sk-toggleable__label-arrow:before {content: \"▾\";}#sk-container-id-19 div.sk-estimator input.sk-toggleable__control:checked~label.sk-toggleable__label {background-color: #d4ebff;}#sk-container-id-19 div.sk-label input.sk-toggleable__control:checked~label.sk-toggleable__label {background-color: #d4ebff;}#sk-container-id-19 input.sk-hidden--visually {border: 0;clip: rect(1px 1px 1px 1px);clip: rect(1px, 1px, 1px, 1px);height: 1px;margin: -1px;overflow: hidden;padding: 0;position: absolute;width: 1px;}#sk-container-id-19 div.sk-estimator {font-family: monospace;background-color: #f0f8ff;border: 1px dotted black;border-radius: 0.25em;box-sizing: border-box;margin-bottom: 0.5em;}#sk-container-id-19 div.sk-estimator:hover {background-color: #d4ebff;}#sk-container-id-19 div.sk-parallel-item::after {content: \"\";width: 100%;border-bottom: 1px solid gray;flex-grow: 1;}#sk-container-id-19 div.sk-label:hover label.sk-toggleable__label {background-color: #d4ebff;}#sk-container-id-19 div.sk-serial::before {content: \"\";position: absolute;border-left: 1px solid gray;box-sizing: border-box;top: 0;bottom: 0;left: 50%;z-index: 0;}#sk-container-id-19 div.sk-serial {display: flex;flex-direction: column;align-items: center;background-color: white;padding-right: 0.2em;padding-left: 0.2em;position: relative;}#sk-container-id-19 div.sk-item {position: relative;z-index: 1;}#sk-container-id-19 div.sk-parallel {display: flex;align-items: stretch;justify-content: center;background-color: white;position: relative;}#sk-container-id-19 div.sk-item::before, #sk-container-id-19 div.sk-parallel-item::before {content: \"\";position: absolute;border-left: 1px solid gray;box-sizing: border-box;top: 0;bottom: 0;left: 50%;z-index: -1;}#sk-container-id-19 div.sk-parallel-item {display: flex;flex-direction: column;z-index: 1;position: relative;background-color: white;}#sk-container-id-19 div.sk-parallel-item:first-child::after {align-self: flex-end;width: 50%;}#sk-container-id-19 div.sk-parallel-item:last-child::after {align-self: flex-start;width: 50%;}#sk-container-id-19 div.sk-parallel-item:only-child::after {width: 0;}#sk-container-id-19 div.sk-dashed-wrapped {border: 1px dashed gray;margin: 0 0.4em 0.5em 0.4em;box-sizing: border-box;padding-bottom: 0.4em;background-color: white;}#sk-container-id-19 div.sk-label label {font-family: monospace;font-weight: bold;display: inline-block;line-height: 1.2em;}#sk-container-id-19 div.sk-label-container {text-align: center;}#sk-container-id-19 div.sk-container {/* jupyter's `normalize.less` sets `[hidden] { display: none; }` but bootstrap.min.css set `[hidden] { display: none !important; }` so we also need the `!important` here to be able to override the default hidden behavior on the sphinx rendered scikit-learn.org. See: https://github.com/scikit-learn/scikit-learn/issues/21755 */display: inline-block !important;position: relative;}#sk-container-id-19 div.sk-text-repr-fallback {display: none;}</style><div id=\"sk-container-id-19\" class=\"sk-top-container\"><div class=\"sk-text-repr-fallback\"><pre>DecisionTreeClassifier(ccp_alpha=0.000385055643203252)</pre><b>In a Jupyter environment, please rerun this cell to show the HTML representation or trust the notebook. <br />On GitHub, the HTML representation is unable to render, please try loading this page with nbviewer.org.</b></div><div class=\"sk-container\" hidden><div class=\"sk-item\"><div class=\"sk-estimator sk-toggleable\"><input class=\"sk-toggleable__control sk-hidden--visually\" id=\"sk-estimator-id-19\" type=\"checkbox\" checked><label for=\"sk-estimator-id-19\" class=\"sk-toggleable__label sk-toggleable__label-arrow\">DecisionTreeClassifier</label><div class=\"sk-toggleable__content\"><pre>DecisionTreeClassifier(ccp_alpha=0.000385055643203252)</pre></div></div></div></div></div>"
      ],
      "text/plain": [
       "DecisionTreeClassifier(ccp_alpha=0.000385055643203252)"
      ]
     },
     "execution_count": 590,
     "metadata": {},
     "output_type": "execute_result"
    }
   ],
   "source": [
    "dt_clf_ccp = DecisionTreeClassifier(ccp_alpha=ccp_alpha_list[491])\n",
    "dt_clf_ccp.fit(x_train,y_train)"
   ]
  },
  {
   "cell_type": "markdown",
   "id": "ad697405",
   "metadata": {},
   "source": [
    "### Evaluation Metric on Training"
   ]
  },
  {
   "cell_type": "code",
   "execution_count": 591,
   "id": "b475f7d3",
   "metadata": {},
   "outputs": [
    {
     "name": "stdout",
     "output_type": "stream",
     "text": [
      "Confusion Matrix : \n",
      " [[3822  409]\n",
      " [ 752 3946]]\n",
      "Accuracy: 0.8699742412364206\n",
      "Classification Report :\n",
      "               precision    recall  f1-score   support\n",
      "\n",
      "           0       0.84      0.90      0.87      4231\n",
      "           1       0.91      0.84      0.87      4698\n",
      "\n",
      "    accuracy                           0.87      8929\n",
      "   macro avg       0.87      0.87      0.87      8929\n",
      "weighted avg       0.87      0.87      0.87      8929\n",
      "\n",
      "precision : 0.9060849598163031\n",
      "Recall : 0.8399318859088974\n",
      "F1 : 0.8717552192643323\n"
     ]
    }
   ],
   "source": [
    "y_pred_train = dt_clf_ccp.predict(x_train)\n",
    "\n",
    "conf_matrix = confusion_matrix(y_train,y_pred_train)\n",
    "print('Confusion Matrix : \\n',conf_matrix)\n",
    "\n",
    "accuracy_train = accuracy_score(y_train,y_pred_train)\n",
    "print('Accuracy:',accuracy_train)\n",
    "\n",
    "classi_report = classification_report(y_train,y_pred_train)\n",
    "print('Classification Report :\\n',classi_report)\n",
    "\n",
    "precision = precision_score(y_train,y_pred_train)\n",
    "print('precision :',precision)\n",
    "\n",
    "recall = recall_score(y_train,y_pred_train)\n",
    "print('Recall :',recall)\n",
    "\n",
    "F1 = f1_score(y_train,y_pred_train)\n",
    "print('F1 :',F1)"
   ]
  },
  {
   "cell_type": "markdown",
   "id": "18c80045",
   "metadata": {},
   "source": [
    "### Evaluation Metric on Test"
   ]
  },
  {
   "cell_type": "code",
   "execution_count": 592,
   "id": "aaf72dcc",
   "metadata": {},
   "outputs": [
    {
     "name": "stdout",
     "output_type": "stream",
     "text": [
      "Confusion Matrix : \n",
      " [[929 129]\n",
      " [198 977]]\n",
      "Accuracy: 0.8535602328705777\n",
      "Classification Report :\n",
      "               precision    recall  f1-score   support\n",
      "\n",
      "           0       0.82      0.88      0.85      1058\n",
      "           1       0.88      0.83      0.86      1175\n",
      "\n",
      "    accuracy                           0.85      2233\n",
      "   macro avg       0.85      0.85      0.85      2233\n",
      "weighted avg       0.86      0.85      0.85      2233\n",
      "\n",
      "precision : 0.8833634719710669\n",
      "Recall : 0.8314893617021276\n",
      "F1 : 0.8566418237615081\n"
     ]
    }
   ],
   "source": [
    "y_pred = dt_clf_ccp.predict(x_test)\n",
    "\n",
    "conf_matrix = confusion_matrix(y_test,y_pred)\n",
    "print('Confusion Matrix : \\n',conf_matrix)\n",
    "\n",
    "accuracy_test = accuracy_score(y_test,y_pred)\n",
    "print('Accuracy:',accuracy_test)\n",
    "\n",
    "classi_report = classification_report(y_test,y_pred)\n",
    "print('Classification Report :\\n',classi_report)\n",
    "\n",
    "precision = precision_score(y_test,y_pred)\n",
    "print('precision :',precision)\n",
    "\n",
    "recall = recall_score(y_test,y_pred)\n",
    "print('Recall :',recall)\n",
    "\n",
    "F1 = f1_score(y_test,y_pred)\n",
    "print('F1 :',F1)"
   ]
  },
  {
   "cell_type": "markdown",
   "id": "4a03c38c",
   "metadata": {},
   "source": [
    "## Conclusion on Decision Tree:-\n",
    "\n",
    "\n",
    "### Decision Tree Gives Best Result  after Prunning Which is  87 % on training and 85 % on Testing"
   ]
  },
  {
   "cell_type": "code",
   "execution_count": 593,
   "id": "94218a9f",
   "metadata": {},
   "outputs": [],
   "source": [
    "final_result_dict['accuracy_train'].append(accuracy_train)\n",
    "final_result_dict['accuracy_test'].append(accuracy_test)\n",
    "final_result_dict['precision'].append(precision)\n",
    "final_result_dict['recall'].append(Recall)\n",
    "final_result_dict['F1'].append(F1)\n",
    "index.append('Decision_tree_Prunning')"
   ]
  },
  {
   "cell_type": "markdown",
   "id": "c2bedd74",
   "metadata": {},
   "source": [
    "### 3. Random Forest"
   ]
  },
  {
   "cell_type": "code",
   "execution_count": 452,
   "id": "92aea0ce",
   "metadata": {},
   "outputs": [
    {
     "data": {
      "text/html": [
       "<style>#sk-container-id-10 {color: black;background-color: white;}#sk-container-id-10 pre{padding: 0;}#sk-container-id-10 div.sk-toggleable {background-color: white;}#sk-container-id-10 label.sk-toggleable__label {cursor: pointer;display: block;width: 100%;margin-bottom: 0;padding: 0.3em;box-sizing: border-box;text-align: center;}#sk-container-id-10 label.sk-toggleable__label-arrow:before {content: \"▸\";float: left;margin-right: 0.25em;color: #696969;}#sk-container-id-10 label.sk-toggleable__label-arrow:hover:before {color: black;}#sk-container-id-10 div.sk-estimator:hover label.sk-toggleable__label-arrow:before {color: black;}#sk-container-id-10 div.sk-toggleable__content {max-height: 0;max-width: 0;overflow: hidden;text-align: left;background-color: #f0f8ff;}#sk-container-id-10 div.sk-toggleable__content pre {margin: 0.2em;color: black;border-radius: 0.25em;background-color: #f0f8ff;}#sk-container-id-10 input.sk-toggleable__control:checked~div.sk-toggleable__content {max-height: 200px;max-width: 100%;overflow: auto;}#sk-container-id-10 input.sk-toggleable__control:checked~label.sk-toggleable__label-arrow:before {content: \"▾\";}#sk-container-id-10 div.sk-estimator input.sk-toggleable__control:checked~label.sk-toggleable__label {background-color: #d4ebff;}#sk-container-id-10 div.sk-label input.sk-toggleable__control:checked~label.sk-toggleable__label {background-color: #d4ebff;}#sk-container-id-10 input.sk-hidden--visually {border: 0;clip: rect(1px 1px 1px 1px);clip: rect(1px, 1px, 1px, 1px);height: 1px;margin: -1px;overflow: hidden;padding: 0;position: absolute;width: 1px;}#sk-container-id-10 div.sk-estimator {font-family: monospace;background-color: #f0f8ff;border: 1px dotted black;border-radius: 0.25em;box-sizing: border-box;margin-bottom: 0.5em;}#sk-container-id-10 div.sk-estimator:hover {background-color: #d4ebff;}#sk-container-id-10 div.sk-parallel-item::after {content: \"\";width: 100%;border-bottom: 1px solid gray;flex-grow: 1;}#sk-container-id-10 div.sk-label:hover label.sk-toggleable__label {background-color: #d4ebff;}#sk-container-id-10 div.sk-serial::before {content: \"\";position: absolute;border-left: 1px solid gray;box-sizing: border-box;top: 0;bottom: 0;left: 50%;z-index: 0;}#sk-container-id-10 div.sk-serial {display: flex;flex-direction: column;align-items: center;background-color: white;padding-right: 0.2em;padding-left: 0.2em;position: relative;}#sk-container-id-10 div.sk-item {position: relative;z-index: 1;}#sk-container-id-10 div.sk-parallel {display: flex;align-items: stretch;justify-content: center;background-color: white;position: relative;}#sk-container-id-10 div.sk-item::before, #sk-container-id-10 div.sk-parallel-item::before {content: \"\";position: absolute;border-left: 1px solid gray;box-sizing: border-box;top: 0;bottom: 0;left: 50%;z-index: -1;}#sk-container-id-10 div.sk-parallel-item {display: flex;flex-direction: column;z-index: 1;position: relative;background-color: white;}#sk-container-id-10 div.sk-parallel-item:first-child::after {align-self: flex-end;width: 50%;}#sk-container-id-10 div.sk-parallel-item:last-child::after {align-self: flex-start;width: 50%;}#sk-container-id-10 div.sk-parallel-item:only-child::after {width: 0;}#sk-container-id-10 div.sk-dashed-wrapped {border: 1px dashed gray;margin: 0 0.4em 0.5em 0.4em;box-sizing: border-box;padding-bottom: 0.4em;background-color: white;}#sk-container-id-10 div.sk-label label {font-family: monospace;font-weight: bold;display: inline-block;line-height: 1.2em;}#sk-container-id-10 div.sk-label-container {text-align: center;}#sk-container-id-10 div.sk-container {/* jupyter's `normalize.less` sets `[hidden] { display: none; }` but bootstrap.min.css set `[hidden] { display: none !important; }` so we also need the `!important` here to be able to override the default hidden behavior on the sphinx rendered scikit-learn.org. See: https://github.com/scikit-learn/scikit-learn/issues/21755 */display: inline-block !important;position: relative;}#sk-container-id-10 div.sk-text-repr-fallback {display: none;}</style><div id=\"sk-container-id-10\" class=\"sk-top-container\"><div class=\"sk-text-repr-fallback\"><pre>RandomForestClassifier()</pre><b>In a Jupyter environment, please rerun this cell to show the HTML representation or trust the notebook. <br />On GitHub, the HTML representation is unable to render, please try loading this page with nbviewer.org.</b></div><div class=\"sk-container\" hidden><div class=\"sk-item\"><div class=\"sk-estimator sk-toggleable\"><input class=\"sk-toggleable__control sk-hidden--visually\" id=\"sk-estimator-id-10\" type=\"checkbox\" checked><label for=\"sk-estimator-id-10\" class=\"sk-toggleable__label sk-toggleable__label-arrow\">RandomForestClassifier</label><div class=\"sk-toggleable__content\"><pre>RandomForestClassifier()</pre></div></div></div></div></div>"
      ],
      "text/plain": [
       "RandomForestClassifier()"
      ]
     },
     "execution_count": 452,
     "metadata": {},
     "output_type": "execute_result"
    }
   ],
   "source": [
    "rf_clf = RandomForestClassifier()\n",
    "rf_clf.fit(x_train,y_train)"
   ]
  },
  {
   "cell_type": "markdown",
   "id": "1ea5f57f",
   "metadata": {},
   "source": [
    "### Evaluation metric on Training"
   ]
  },
  {
   "cell_type": "code",
   "execution_count": 453,
   "id": "331eb392",
   "metadata": {},
   "outputs": [
    {
     "name": "stdout",
     "output_type": "stream",
     "text": [
      "Confusion Matrix : \n",
      " [[4231    0]\n",
      " [   0 4698]]\n",
      "Accuracy: 1.0\n",
      "Classification Report :\n",
      "               precision    recall  f1-score   support\n",
      "\n",
      "           0       1.00      1.00      1.00      4231\n",
      "           1       1.00      1.00      1.00      4698\n",
      "\n",
      "    accuracy                           1.00      8929\n",
      "   macro avg       1.00      1.00      1.00      8929\n",
      "weighted avg       1.00      1.00      1.00      8929\n",
      "\n",
      "precision : 1.0\n",
      "Recall : 1.0\n",
      "F1 : 1.0\n"
     ]
    }
   ],
   "source": [
    "y_pred_train = rf_clf.predict(x_train)\n",
    "\n",
    "conf_matrix = confusion_matrix(y_train,y_pred_train)\n",
    "print('Confusion Matrix : \\n',conf_matrix)\n",
    "\n",
    "accuracy_train = accuracy_score(y_train,y_pred_train)\n",
    "print('Accuracy:',accuracy_train)\n",
    "\n",
    "classi_report = classification_report(y_train,y_pred_train)\n",
    "print('Classification Report :\\n',classi_report)\n",
    "\n",
    "precision = precision_score(y_train,y_pred_train)\n",
    "print('precision :',precision)\n",
    "\n",
    "recall = recall_score(y_train,y_pred_train)\n",
    "print('Recall :',recall)\n",
    "\n",
    "F1 = f1_score(y_train,y_pred_train)\n",
    "print('F1 :',F1)"
   ]
  },
  {
   "cell_type": "markdown",
   "id": "88e8810e",
   "metadata": {},
   "source": [
    "### Evaluation metric on Testing"
   ]
  },
  {
   "cell_type": "code",
   "execution_count": 454,
   "id": "f6662860",
   "metadata": {},
   "outputs": [
    {
     "name": "stdout",
     "output_type": "stream",
     "text": [
      "Confusion Matrix : \n",
      " [[930 128]\n",
      " [190 985]]\n",
      "Accuracy: 0.8575906851768921\n",
      "Classification Report :\n",
      "               precision    recall  f1-score   support\n",
      "\n",
      "           0       0.83      0.88      0.85      1058\n",
      "           1       0.88      0.84      0.86      1175\n",
      "\n",
      "    accuracy                           0.86      2233\n",
      "   macro avg       0.86      0.86      0.86      2233\n",
      "weighted avg       0.86      0.86      0.86      2233\n",
      "\n",
      "precision : 0.8849955076370171\n",
      "Recall : 0.8382978723404255\n",
      "F1 : 0.861013986013986\n"
     ]
    }
   ],
   "source": [
    "y_pred = rf_clf.predict(x_test)\n",
    "\n",
    "conf_matrix = confusion_matrix(y_test,y_pred)\n",
    "print('Confusion Matrix : \\n',conf_matrix)\n",
    "\n",
    "accuracy_test = accuracy_score(y_test,y_pred)\n",
    "print('Accuracy:',accuracy_test)\n",
    "\n",
    "classi_report = classification_report(y_test,y_pred)\n",
    "print('Classification Report :\\n',classi_report)\n",
    "\n",
    "precision = precision_score(y_test,y_pred)\n",
    "print('precision :',precision)\n",
    "\n",
    "recall = recall_score(y_test,y_pred)\n",
    "print('Recall :',recall)\n",
    "\n",
    "F1 = f1_score(y_test,y_pred)\n",
    "print('F1 :',F1)"
   ]
  },
  {
   "cell_type": "markdown",
   "id": "bbfeb7bf",
   "metadata": {},
   "source": [
    "### Hyperparameter Tunning"
   ]
  },
  {
   "cell_type": "code",
   "execution_count": 457,
   "id": "76143354",
   "metadata": {},
   "outputs": [
    {
     "data": {
      "text/html": [
       "<style>#sk-container-id-12 {color: black;background-color: white;}#sk-container-id-12 pre{padding: 0;}#sk-container-id-12 div.sk-toggleable {background-color: white;}#sk-container-id-12 label.sk-toggleable__label {cursor: pointer;display: block;width: 100%;margin-bottom: 0;padding: 0.3em;box-sizing: border-box;text-align: center;}#sk-container-id-12 label.sk-toggleable__label-arrow:before {content: \"▸\";float: left;margin-right: 0.25em;color: #696969;}#sk-container-id-12 label.sk-toggleable__label-arrow:hover:before {color: black;}#sk-container-id-12 div.sk-estimator:hover label.sk-toggleable__label-arrow:before {color: black;}#sk-container-id-12 div.sk-toggleable__content {max-height: 0;max-width: 0;overflow: hidden;text-align: left;background-color: #f0f8ff;}#sk-container-id-12 div.sk-toggleable__content pre {margin: 0.2em;color: black;border-radius: 0.25em;background-color: #f0f8ff;}#sk-container-id-12 input.sk-toggleable__control:checked~div.sk-toggleable__content {max-height: 200px;max-width: 100%;overflow: auto;}#sk-container-id-12 input.sk-toggleable__control:checked~label.sk-toggleable__label-arrow:before {content: \"▾\";}#sk-container-id-12 div.sk-estimator input.sk-toggleable__control:checked~label.sk-toggleable__label {background-color: #d4ebff;}#sk-container-id-12 div.sk-label input.sk-toggleable__control:checked~label.sk-toggleable__label {background-color: #d4ebff;}#sk-container-id-12 input.sk-hidden--visually {border: 0;clip: rect(1px 1px 1px 1px);clip: rect(1px, 1px, 1px, 1px);height: 1px;margin: -1px;overflow: hidden;padding: 0;position: absolute;width: 1px;}#sk-container-id-12 div.sk-estimator {font-family: monospace;background-color: #f0f8ff;border: 1px dotted black;border-radius: 0.25em;box-sizing: border-box;margin-bottom: 0.5em;}#sk-container-id-12 div.sk-estimator:hover {background-color: #d4ebff;}#sk-container-id-12 div.sk-parallel-item::after {content: \"\";width: 100%;border-bottom: 1px solid gray;flex-grow: 1;}#sk-container-id-12 div.sk-label:hover label.sk-toggleable__label {background-color: #d4ebff;}#sk-container-id-12 div.sk-serial::before {content: \"\";position: absolute;border-left: 1px solid gray;box-sizing: border-box;top: 0;bottom: 0;left: 50%;z-index: 0;}#sk-container-id-12 div.sk-serial {display: flex;flex-direction: column;align-items: center;background-color: white;padding-right: 0.2em;padding-left: 0.2em;position: relative;}#sk-container-id-12 div.sk-item {position: relative;z-index: 1;}#sk-container-id-12 div.sk-parallel {display: flex;align-items: stretch;justify-content: center;background-color: white;position: relative;}#sk-container-id-12 div.sk-item::before, #sk-container-id-12 div.sk-parallel-item::before {content: \"\";position: absolute;border-left: 1px solid gray;box-sizing: border-box;top: 0;bottom: 0;left: 50%;z-index: -1;}#sk-container-id-12 div.sk-parallel-item {display: flex;flex-direction: column;z-index: 1;position: relative;background-color: white;}#sk-container-id-12 div.sk-parallel-item:first-child::after {align-self: flex-end;width: 50%;}#sk-container-id-12 div.sk-parallel-item:last-child::after {align-self: flex-start;width: 50%;}#sk-container-id-12 div.sk-parallel-item:only-child::after {width: 0;}#sk-container-id-12 div.sk-dashed-wrapped {border: 1px dashed gray;margin: 0 0.4em 0.5em 0.4em;box-sizing: border-box;padding-bottom: 0.4em;background-color: white;}#sk-container-id-12 div.sk-label label {font-family: monospace;font-weight: bold;display: inline-block;line-height: 1.2em;}#sk-container-id-12 div.sk-label-container {text-align: center;}#sk-container-id-12 div.sk-container {/* jupyter's `normalize.less` sets `[hidden] { display: none; }` but bootstrap.min.css set `[hidden] { display: none !important; }` so we also need the `!important` here to be able to override the default hidden behavior on the sphinx rendered scikit-learn.org. See: https://github.com/scikit-learn/scikit-learn/issues/21755 */display: inline-block !important;position: relative;}#sk-container-id-12 div.sk-text-repr-fallback {display: none;}</style><div id=\"sk-container-id-12\" class=\"sk-top-container\"><div class=\"sk-text-repr-fallback\"><pre>RandomForestClassifier(criterion=&#x27;entropy&#x27;, max_depth=7, min_samples_leaf=9,\n",
       "                       min_samples_split=9, n_estimators=76, random_state=0)</pre><b>In a Jupyter environment, please rerun this cell to show the HTML representation or trust the notebook. <br />On GitHub, the HTML representation is unable to render, please try loading this page with nbviewer.org.</b></div><div class=\"sk-container\" hidden><div class=\"sk-item\"><div class=\"sk-estimator sk-toggleable\"><input class=\"sk-toggleable__control sk-hidden--visually\" id=\"sk-estimator-id-12\" type=\"checkbox\" checked><label for=\"sk-estimator-id-12\" class=\"sk-toggleable__label sk-toggleable__label-arrow\">RandomForestClassifier</label><div class=\"sk-toggleable__content\"><pre>RandomForestClassifier(criterion=&#x27;entropy&#x27;, max_depth=7, min_samples_leaf=9,\n",
       "                       min_samples_split=9, n_estimators=76, random_state=0)</pre></div></div></div></div></div>"
      ],
      "text/plain": [
       "RandomForestClassifier(criterion='entropy', max_depth=7, min_samples_leaf=9,\n",
       "                       min_samples_split=9, n_estimators=76, random_state=0)"
      ]
     },
     "execution_count": 457,
     "metadata": {},
     "output_type": "execute_result"
    }
   ],
   "source": [
    "rf_clf_hyp = RandomForestClassifier()\n",
    "\n",
    "\n",
    "hyperparameters = {\n",
    "                     \"n_estimators\" :np.arange(10,200),\n",
    "                     \"criterion\" : ['gini','entropy'],\n",
    "                     \"max_depth\" : np.arange(3, 8),\n",
    "                     \"min_samples_split\" : np.arange(4,20),\n",
    "                     \"min_samples_leaf\" : np.arange(3,10),\n",
    "                     \"random_state\" : [0]\n",
    "                     }\n",
    "rscv_rf_hyp = RandomizedSearchCV(rf_clf_hyp,hyperparameters,cv = 7)\n",
    "rscv_rf_hyp.fit(x_train, y_train)\n",
    "rscv_rf_hyp.best_estimator_"
   ]
  },
  {
   "cell_type": "code",
   "execution_count": 594,
   "id": "02b2bd14",
   "metadata": {},
   "outputs": [
    {
     "data": {
      "text/html": [
       "<style>#sk-container-id-20 {color: black;background-color: white;}#sk-container-id-20 pre{padding: 0;}#sk-container-id-20 div.sk-toggleable {background-color: white;}#sk-container-id-20 label.sk-toggleable__label {cursor: pointer;display: block;width: 100%;margin-bottom: 0;padding: 0.3em;box-sizing: border-box;text-align: center;}#sk-container-id-20 label.sk-toggleable__label-arrow:before {content: \"▸\";float: left;margin-right: 0.25em;color: #696969;}#sk-container-id-20 label.sk-toggleable__label-arrow:hover:before {color: black;}#sk-container-id-20 div.sk-estimator:hover label.sk-toggleable__label-arrow:before {color: black;}#sk-container-id-20 div.sk-toggleable__content {max-height: 0;max-width: 0;overflow: hidden;text-align: left;background-color: #f0f8ff;}#sk-container-id-20 div.sk-toggleable__content pre {margin: 0.2em;color: black;border-radius: 0.25em;background-color: #f0f8ff;}#sk-container-id-20 input.sk-toggleable__control:checked~div.sk-toggleable__content {max-height: 200px;max-width: 100%;overflow: auto;}#sk-container-id-20 input.sk-toggleable__control:checked~label.sk-toggleable__label-arrow:before {content: \"▾\";}#sk-container-id-20 div.sk-estimator input.sk-toggleable__control:checked~label.sk-toggleable__label {background-color: #d4ebff;}#sk-container-id-20 div.sk-label input.sk-toggleable__control:checked~label.sk-toggleable__label {background-color: #d4ebff;}#sk-container-id-20 input.sk-hidden--visually {border: 0;clip: rect(1px 1px 1px 1px);clip: rect(1px, 1px, 1px, 1px);height: 1px;margin: -1px;overflow: hidden;padding: 0;position: absolute;width: 1px;}#sk-container-id-20 div.sk-estimator {font-family: monospace;background-color: #f0f8ff;border: 1px dotted black;border-radius: 0.25em;box-sizing: border-box;margin-bottom: 0.5em;}#sk-container-id-20 div.sk-estimator:hover {background-color: #d4ebff;}#sk-container-id-20 div.sk-parallel-item::after {content: \"\";width: 100%;border-bottom: 1px solid gray;flex-grow: 1;}#sk-container-id-20 div.sk-label:hover label.sk-toggleable__label {background-color: #d4ebff;}#sk-container-id-20 div.sk-serial::before {content: \"\";position: absolute;border-left: 1px solid gray;box-sizing: border-box;top: 0;bottom: 0;left: 50%;z-index: 0;}#sk-container-id-20 div.sk-serial {display: flex;flex-direction: column;align-items: center;background-color: white;padding-right: 0.2em;padding-left: 0.2em;position: relative;}#sk-container-id-20 div.sk-item {position: relative;z-index: 1;}#sk-container-id-20 div.sk-parallel {display: flex;align-items: stretch;justify-content: center;background-color: white;position: relative;}#sk-container-id-20 div.sk-item::before, #sk-container-id-20 div.sk-parallel-item::before {content: \"\";position: absolute;border-left: 1px solid gray;box-sizing: border-box;top: 0;bottom: 0;left: 50%;z-index: -1;}#sk-container-id-20 div.sk-parallel-item {display: flex;flex-direction: column;z-index: 1;position: relative;background-color: white;}#sk-container-id-20 div.sk-parallel-item:first-child::after {align-self: flex-end;width: 50%;}#sk-container-id-20 div.sk-parallel-item:last-child::after {align-self: flex-start;width: 50%;}#sk-container-id-20 div.sk-parallel-item:only-child::after {width: 0;}#sk-container-id-20 div.sk-dashed-wrapped {border: 1px dashed gray;margin: 0 0.4em 0.5em 0.4em;box-sizing: border-box;padding-bottom: 0.4em;background-color: white;}#sk-container-id-20 div.sk-label label {font-family: monospace;font-weight: bold;display: inline-block;line-height: 1.2em;}#sk-container-id-20 div.sk-label-container {text-align: center;}#sk-container-id-20 div.sk-container {/* jupyter's `normalize.less` sets `[hidden] { display: none; }` but bootstrap.min.css set `[hidden] { display: none !important; }` so we also need the `!important` here to be able to override the default hidden behavior on the sphinx rendered scikit-learn.org. See: https://github.com/scikit-learn/scikit-learn/issues/21755 */display: inline-block !important;position: relative;}#sk-container-id-20 div.sk-text-repr-fallback {display: none;}</style><div id=\"sk-container-id-20\" class=\"sk-top-container\"><div class=\"sk-text-repr-fallback\"><pre>RandomForestClassifier(criterion=&#x27;entropy&#x27;, max_depth=7, min_samples_leaf=9,\n",
       "                       min_samples_split=9, n_estimators=76, random_state=0)</pre><b>In a Jupyter environment, please rerun this cell to show the HTML representation or trust the notebook. <br />On GitHub, the HTML representation is unable to render, please try loading this page with nbviewer.org.</b></div><div class=\"sk-container\" hidden><div class=\"sk-item\"><div class=\"sk-estimator sk-toggleable\"><input class=\"sk-toggleable__control sk-hidden--visually\" id=\"sk-estimator-id-20\" type=\"checkbox\" checked><label for=\"sk-estimator-id-20\" class=\"sk-toggleable__label sk-toggleable__label-arrow\">RandomForestClassifier</label><div class=\"sk-toggleable__content\"><pre>RandomForestClassifier(criterion=&#x27;entropy&#x27;, max_depth=7, min_samples_leaf=9,\n",
       "                       min_samples_split=9, n_estimators=76, random_state=0)</pre></div></div></div></div></div>"
      ],
      "text/plain": [
       "RandomForestClassifier(criterion='entropy', max_depth=7, min_samples_leaf=9,\n",
       "                       min_samples_split=9, n_estimators=76, random_state=0)"
      ]
     },
     "execution_count": 594,
     "metadata": {},
     "output_type": "execute_result"
    }
   ],
   "source": [
    "rf_clf_hyp = RandomForestClassifier(criterion='entropy', max_depth=7, min_samples_leaf=9,\n",
    "                       min_samples_split=9, n_estimators=76, random_state=0)\n",
    "rf_clf_hyp.fit(x_train,y_train)"
   ]
  },
  {
   "cell_type": "markdown",
   "id": "3712e24f",
   "metadata": {},
   "source": [
    "### Evaluation  Metric on Training"
   ]
  },
  {
   "cell_type": "code",
   "execution_count": 595,
   "id": "9a673fb6",
   "metadata": {},
   "outputs": [
    {
     "name": "stdout",
     "output_type": "stream",
     "text": [
      "Confusion Matrix : \n",
      " [[3696  535]\n",
      " [ 813 3885]]\n",
      "Accuracy: 0.849031246500168\n",
      "Classification Report :\n",
      "               precision    recall  f1-score   support\n",
      "\n",
      "           0       0.82      0.87      0.85      4231\n",
      "           1       0.88      0.83      0.85      4698\n",
      "\n",
      "    accuracy                           0.85      8929\n",
      "   macro avg       0.85      0.85      0.85      8929\n",
      "weighted avg       0.85      0.85      0.85      8929\n",
      "\n",
      "precision : 0.8789592760180995\n",
      "Recall : 0.8269476372924649\n",
      "F1 : 0.8521605615266507\n"
     ]
    }
   ],
   "source": [
    "y_pred_train = rf_clf_hyp.predict(x_train)\n",
    "\n",
    "conf_matrix = confusion_matrix(y_train,y_pred_train)\n",
    "print('Confusion Matrix : \\n',conf_matrix)\n",
    "\n",
    "accuracy_train = accuracy_score(y_train,y_pred_train)\n",
    "print('Accuracy:',accuracy_train)\n",
    "\n",
    "classi_report = classification_report(y_train,y_pred_train)\n",
    "print('Classification Report :\\n',classi_report)\n",
    "\n",
    "precision = precision_score(y_train,y_pred_train)\n",
    "print('precision :',precision)\n",
    "\n",
    "recall = recall_score(y_train,y_pred_train)\n",
    "print('Recall :',recall)\n",
    "\n",
    "F1 = f1_score(y_train,y_pred_train)\n",
    "print('F1 :',F1)"
   ]
  },
  {
   "cell_type": "markdown",
   "id": "dc9906c8",
   "metadata": {},
   "source": [
    "### Evaluation  Metric on Testing"
   ]
  },
  {
   "cell_type": "code",
   "execution_count": 596,
   "id": "a3772d8b",
   "metadata": {},
   "outputs": [
    {
     "name": "stdout",
     "output_type": "stream",
     "text": [
      "Confusion Matrix : \n",
      " [[908 150]\n",
      " [204 971]]\n",
      "Accuracy: 0.8414688759516346\n",
      "Classification Report :\n",
      "               precision    recall  f1-score   support\n",
      "\n",
      "           0       0.82      0.86      0.84      1058\n",
      "           1       0.87      0.83      0.85      1175\n",
      "\n",
      "    accuracy                           0.84      2233\n",
      "   macro avg       0.84      0.84      0.84      2233\n",
      "weighted avg       0.84      0.84      0.84      2233\n",
      "\n",
      "precision : 0.8661909009812667\n",
      "Recall : 0.8263829787234043\n",
      "F1 : 0.8458188153310104\n"
     ]
    }
   ],
   "source": [
    "y_pred = rf_clf_hyp.predict(x_test)\n",
    "\n",
    "conf_matrix = confusion_matrix(y_test,y_pred)\n",
    "print('Confusion Matrix : \\n',conf_matrix)\n",
    "\n",
    "accuracy_test = accuracy_score(y_test,y_pred)\n",
    "print('Accuracy:',accuracy_test)\n",
    "\n",
    "classi_report = classification_report(y_test,y_pred)\n",
    "print('Classification Report :\\n',classi_report)\n",
    "\n",
    "precision = precision_score(y_test,y_pred)\n",
    "print('precision :',precision)\n",
    "\n",
    "recall = recall_score(y_test,y_pred)\n",
    "print('Recall :',recall)\n",
    "\n",
    "F1 = f1_score(y_test,y_pred)\n",
    "print('F1 :',F1)"
   ]
  },
  {
   "cell_type": "markdown",
   "id": "4e53a6ab",
   "metadata": {},
   "source": [
    "## Conclusion on Random Forest:-\n",
    "\n",
    "### Random Forest gives best results after Hyperparameter Tunning 85% on Training and 84% on Testing     "
   ]
  },
  {
   "cell_type": "code",
   "execution_count": 597,
   "id": "ddfa93eb",
   "metadata": {},
   "outputs": [],
   "source": [
    "final_result_dict['accuracy_train'].append(accuracy_train)\n",
    "final_result_dict['accuracy_test'].append(accuracy_test)\n",
    "final_result_dict['precision'].append(precision)\n",
    "final_result_dict['recall'].append(Recall)\n",
    "final_result_dict['F1'].append(F1)\n",
    "index.append('Random_Forest_Prunning')"
   ]
  },
  {
   "cell_type": "markdown",
   "id": "05dca41a",
   "metadata": {},
   "source": [
    "### 4. Ada Boost"
   ]
  },
  {
   "cell_type": "code",
   "execution_count": 463,
   "id": "7848ac7f",
   "metadata": {},
   "outputs": [
    {
     "data": {
      "text/html": [
       "<style>#sk-container-id-14 {color: black;background-color: white;}#sk-container-id-14 pre{padding: 0;}#sk-container-id-14 div.sk-toggleable {background-color: white;}#sk-container-id-14 label.sk-toggleable__label {cursor: pointer;display: block;width: 100%;margin-bottom: 0;padding: 0.3em;box-sizing: border-box;text-align: center;}#sk-container-id-14 label.sk-toggleable__label-arrow:before {content: \"▸\";float: left;margin-right: 0.25em;color: #696969;}#sk-container-id-14 label.sk-toggleable__label-arrow:hover:before {color: black;}#sk-container-id-14 div.sk-estimator:hover label.sk-toggleable__label-arrow:before {color: black;}#sk-container-id-14 div.sk-toggleable__content {max-height: 0;max-width: 0;overflow: hidden;text-align: left;background-color: #f0f8ff;}#sk-container-id-14 div.sk-toggleable__content pre {margin: 0.2em;color: black;border-radius: 0.25em;background-color: #f0f8ff;}#sk-container-id-14 input.sk-toggleable__control:checked~div.sk-toggleable__content {max-height: 200px;max-width: 100%;overflow: auto;}#sk-container-id-14 input.sk-toggleable__control:checked~label.sk-toggleable__label-arrow:before {content: \"▾\";}#sk-container-id-14 div.sk-estimator input.sk-toggleable__control:checked~label.sk-toggleable__label {background-color: #d4ebff;}#sk-container-id-14 div.sk-label input.sk-toggleable__control:checked~label.sk-toggleable__label {background-color: #d4ebff;}#sk-container-id-14 input.sk-hidden--visually {border: 0;clip: rect(1px 1px 1px 1px);clip: rect(1px, 1px, 1px, 1px);height: 1px;margin: -1px;overflow: hidden;padding: 0;position: absolute;width: 1px;}#sk-container-id-14 div.sk-estimator {font-family: monospace;background-color: #f0f8ff;border: 1px dotted black;border-radius: 0.25em;box-sizing: border-box;margin-bottom: 0.5em;}#sk-container-id-14 div.sk-estimator:hover {background-color: #d4ebff;}#sk-container-id-14 div.sk-parallel-item::after {content: \"\";width: 100%;border-bottom: 1px solid gray;flex-grow: 1;}#sk-container-id-14 div.sk-label:hover label.sk-toggleable__label {background-color: #d4ebff;}#sk-container-id-14 div.sk-serial::before {content: \"\";position: absolute;border-left: 1px solid gray;box-sizing: border-box;top: 0;bottom: 0;left: 50%;z-index: 0;}#sk-container-id-14 div.sk-serial {display: flex;flex-direction: column;align-items: center;background-color: white;padding-right: 0.2em;padding-left: 0.2em;position: relative;}#sk-container-id-14 div.sk-item {position: relative;z-index: 1;}#sk-container-id-14 div.sk-parallel {display: flex;align-items: stretch;justify-content: center;background-color: white;position: relative;}#sk-container-id-14 div.sk-item::before, #sk-container-id-14 div.sk-parallel-item::before {content: \"\";position: absolute;border-left: 1px solid gray;box-sizing: border-box;top: 0;bottom: 0;left: 50%;z-index: -1;}#sk-container-id-14 div.sk-parallel-item {display: flex;flex-direction: column;z-index: 1;position: relative;background-color: white;}#sk-container-id-14 div.sk-parallel-item:first-child::after {align-self: flex-end;width: 50%;}#sk-container-id-14 div.sk-parallel-item:last-child::after {align-self: flex-start;width: 50%;}#sk-container-id-14 div.sk-parallel-item:only-child::after {width: 0;}#sk-container-id-14 div.sk-dashed-wrapped {border: 1px dashed gray;margin: 0 0.4em 0.5em 0.4em;box-sizing: border-box;padding-bottom: 0.4em;background-color: white;}#sk-container-id-14 div.sk-label label {font-family: monospace;font-weight: bold;display: inline-block;line-height: 1.2em;}#sk-container-id-14 div.sk-label-container {text-align: center;}#sk-container-id-14 div.sk-container {/* jupyter's `normalize.less` sets `[hidden] { display: none; }` but bootstrap.min.css set `[hidden] { display: none !important; }` so we also need the `!important` here to be able to override the default hidden behavior on the sphinx rendered scikit-learn.org. See: https://github.com/scikit-learn/scikit-learn/issues/21755 */display: inline-block !important;position: relative;}#sk-container-id-14 div.sk-text-repr-fallback {display: none;}</style><div id=\"sk-container-id-14\" class=\"sk-top-container\"><div class=\"sk-text-repr-fallback\"><pre>AdaBoostClassifier()</pre><b>In a Jupyter environment, please rerun this cell to show the HTML representation or trust the notebook. <br />On GitHub, the HTML representation is unable to render, please try loading this page with nbviewer.org.</b></div><div class=\"sk-container\" hidden><div class=\"sk-item\"><div class=\"sk-estimator sk-toggleable\"><input class=\"sk-toggleable__control sk-hidden--visually\" id=\"sk-estimator-id-14\" type=\"checkbox\" checked><label for=\"sk-estimator-id-14\" class=\"sk-toggleable__label sk-toggleable__label-arrow\">AdaBoostClassifier</label><div class=\"sk-toggleable__content\"><pre>AdaBoostClassifier()</pre></div></div></div></div></div>"
      ],
      "text/plain": [
       "AdaBoostClassifier()"
      ]
     },
     "execution_count": 463,
     "metadata": {},
     "output_type": "execute_result"
    }
   ],
   "source": [
    "ada_boost_clf = AdaBoostClassifier()\n",
    "ada_boost_clf.fit(x_train,y_train)"
   ]
  },
  {
   "cell_type": "markdown",
   "id": "11846b61",
   "metadata": {},
   "source": [
    "### Evaluation on Training"
   ]
  },
  {
   "cell_type": "code",
   "execution_count": 464,
   "id": "79ceedd0",
   "metadata": {},
   "outputs": [
    {
     "name": "stdout",
     "output_type": "stream",
     "text": [
      "Confusion Matrix : \n",
      " [[3440  791]\n",
      " [ 729 3969]]\n",
      "Accuracy: 0.8297681711277859\n",
      "Classification Report :\n",
      "               precision    recall  f1-score   support\n",
      "\n",
      "           0       0.83      0.81      0.82      4231\n",
      "           1       0.83      0.84      0.84      4698\n",
      "\n",
      "    accuracy                           0.83      8929\n",
      "   macro avg       0.83      0.83      0.83      8929\n",
      "weighted avg       0.83      0.83      0.83      8929\n",
      "\n",
      "precision : 0.8338235294117647\n",
      "Recall : 0.8448275862068966\n",
      "F1 : 0.8392894903785156\n"
     ]
    }
   ],
   "source": [
    "y_pred_train = ada_boost_clf.predict(x_train)\n",
    "\n",
    "conf_matrix = confusion_matrix(y_train,y_pred_train)\n",
    "print('Confusion Matrix : \\n',conf_matrix)\n",
    "\n",
    "accuracy_train = accuracy_score(y_train,y_pred_train)\n",
    "print('Accuracy:',accuracy_train)\n",
    "\n",
    "classi_report = classification_report(y_train,y_pred_train)\n",
    "print('Classification Report :\\n',classi_report)\n",
    "\n",
    "precision = precision_score(y_train,y_pred_train)\n",
    "print('precision :',precision)\n",
    "\n",
    "recall = recall_score(y_train,y_pred_train)\n",
    "print('Recall :',recall)\n",
    "\n",
    "F1 = f1_score(y_train,y_pred_train)\n",
    "print('F1 :',F1)"
   ]
  },
  {
   "cell_type": "markdown",
   "id": "052d6fa1",
   "metadata": {},
   "source": [
    "### Evaluation on Testing"
   ]
  },
  {
   "cell_type": "code",
   "execution_count": 465,
   "id": "658f289b",
   "metadata": {},
   "outputs": [
    {
     "name": "stdout",
     "output_type": "stream",
     "text": [
      "Confusion Matrix : \n",
      " [[849 209]\n",
      " [182 993]]\n",
      "Accuracy: 0.8248992386923422\n",
      "Classification Report :\n",
      "               precision    recall  f1-score   support\n",
      "\n",
      "           0       0.82      0.80      0.81      1058\n",
      "           1       0.83      0.85      0.84      1175\n",
      "\n",
      "    accuracy                           0.82      2233\n",
      "   macro avg       0.82      0.82      0.82      2233\n",
      "weighted avg       0.82      0.82      0.82      2233\n",
      "\n",
      "precision : 0.8261231281198004\n",
      "Recall : 0.8451063829787234\n",
      "F1 : 0.8355069415229281\n"
     ]
    }
   ],
   "source": [
    "y_pred = ada_boost_clf.predict(x_test)\n",
    "\n",
    "conf_matrix = confusion_matrix(y_test,y_pred)\n",
    "print('Confusion Matrix : \\n',conf_matrix)\n",
    "\n",
    "accuracy_test = accuracy_score(y_test,y_pred)\n",
    "print('Accuracy:',accuracy_test)\n",
    "\n",
    "classi_report = classification_report(y_test,y_pred)\n",
    "print('Classification Report :\\n',classi_report)\n",
    "\n",
    "precision = precision_score(y_test,y_pred)\n",
    "print('precision :',precision)\n",
    "\n",
    "recall = recall_score(y_test,y_pred)\n",
    "print('Recall :',recall)\n",
    "\n",
    "F1 = f1_score(y_test,y_pred)\n",
    "print('F1 :',F1)"
   ]
  },
  {
   "cell_type": "markdown",
   "id": "7ef1c8c4",
   "metadata": {},
   "source": [
    "### Hyperparameter Tunning"
   ]
  },
  {
   "cell_type": "code",
   "execution_count": 467,
   "id": "16ad0416",
   "metadata": {},
   "outputs": [
    {
     "data": {
      "text/html": [
       "<style>#sk-container-id-15 {color: black;background-color: white;}#sk-container-id-15 pre{padding: 0;}#sk-container-id-15 div.sk-toggleable {background-color: white;}#sk-container-id-15 label.sk-toggleable__label {cursor: pointer;display: block;width: 100%;margin-bottom: 0;padding: 0.3em;box-sizing: border-box;text-align: center;}#sk-container-id-15 label.sk-toggleable__label-arrow:before {content: \"▸\";float: left;margin-right: 0.25em;color: #696969;}#sk-container-id-15 label.sk-toggleable__label-arrow:hover:before {color: black;}#sk-container-id-15 div.sk-estimator:hover label.sk-toggleable__label-arrow:before {color: black;}#sk-container-id-15 div.sk-toggleable__content {max-height: 0;max-width: 0;overflow: hidden;text-align: left;background-color: #f0f8ff;}#sk-container-id-15 div.sk-toggleable__content pre {margin: 0.2em;color: black;border-radius: 0.25em;background-color: #f0f8ff;}#sk-container-id-15 input.sk-toggleable__control:checked~div.sk-toggleable__content {max-height: 200px;max-width: 100%;overflow: auto;}#sk-container-id-15 input.sk-toggleable__control:checked~label.sk-toggleable__label-arrow:before {content: \"▾\";}#sk-container-id-15 div.sk-estimator input.sk-toggleable__control:checked~label.sk-toggleable__label {background-color: #d4ebff;}#sk-container-id-15 div.sk-label input.sk-toggleable__control:checked~label.sk-toggleable__label {background-color: #d4ebff;}#sk-container-id-15 input.sk-hidden--visually {border: 0;clip: rect(1px 1px 1px 1px);clip: rect(1px, 1px, 1px, 1px);height: 1px;margin: -1px;overflow: hidden;padding: 0;position: absolute;width: 1px;}#sk-container-id-15 div.sk-estimator {font-family: monospace;background-color: #f0f8ff;border: 1px dotted black;border-radius: 0.25em;box-sizing: border-box;margin-bottom: 0.5em;}#sk-container-id-15 div.sk-estimator:hover {background-color: #d4ebff;}#sk-container-id-15 div.sk-parallel-item::after {content: \"\";width: 100%;border-bottom: 1px solid gray;flex-grow: 1;}#sk-container-id-15 div.sk-label:hover label.sk-toggleable__label {background-color: #d4ebff;}#sk-container-id-15 div.sk-serial::before {content: \"\";position: absolute;border-left: 1px solid gray;box-sizing: border-box;top: 0;bottom: 0;left: 50%;z-index: 0;}#sk-container-id-15 div.sk-serial {display: flex;flex-direction: column;align-items: center;background-color: white;padding-right: 0.2em;padding-left: 0.2em;position: relative;}#sk-container-id-15 div.sk-item {position: relative;z-index: 1;}#sk-container-id-15 div.sk-parallel {display: flex;align-items: stretch;justify-content: center;background-color: white;position: relative;}#sk-container-id-15 div.sk-item::before, #sk-container-id-15 div.sk-parallel-item::before {content: \"\";position: absolute;border-left: 1px solid gray;box-sizing: border-box;top: 0;bottom: 0;left: 50%;z-index: -1;}#sk-container-id-15 div.sk-parallel-item {display: flex;flex-direction: column;z-index: 1;position: relative;background-color: white;}#sk-container-id-15 div.sk-parallel-item:first-child::after {align-self: flex-end;width: 50%;}#sk-container-id-15 div.sk-parallel-item:last-child::after {align-self: flex-start;width: 50%;}#sk-container-id-15 div.sk-parallel-item:only-child::after {width: 0;}#sk-container-id-15 div.sk-dashed-wrapped {border: 1px dashed gray;margin: 0 0.4em 0.5em 0.4em;box-sizing: border-box;padding-bottom: 0.4em;background-color: white;}#sk-container-id-15 div.sk-label label {font-family: monospace;font-weight: bold;display: inline-block;line-height: 1.2em;}#sk-container-id-15 div.sk-label-container {text-align: center;}#sk-container-id-15 div.sk-container {/* jupyter's `normalize.less` sets `[hidden] { display: none; }` but bootstrap.min.css set `[hidden] { display: none !important; }` so we also need the `!important` here to be able to override the default hidden behavior on the sphinx rendered scikit-learn.org. See: https://github.com/scikit-learn/scikit-learn/issues/21755 */display: inline-block !important;position: relative;}#sk-container-id-15 div.sk-text-repr-fallback {display: none;}</style><div id=\"sk-container-id-15\" class=\"sk-top-container\"><div class=\"sk-text-repr-fallback\"><pre>AdaBoostClassifier(learning_rate=0.71, n_estimators=60, random_state=0)</pre><b>In a Jupyter environment, please rerun this cell to show the HTML representation or trust the notebook. <br />On GitHub, the HTML representation is unable to render, please try loading this page with nbviewer.org.</b></div><div class=\"sk-container\" hidden><div class=\"sk-item\"><div class=\"sk-estimator sk-toggleable\"><input class=\"sk-toggleable__control sk-hidden--visually\" id=\"sk-estimator-id-15\" type=\"checkbox\" checked><label for=\"sk-estimator-id-15\" class=\"sk-toggleable__label sk-toggleable__label-arrow\">AdaBoostClassifier</label><div class=\"sk-toggleable__content\"><pre>AdaBoostClassifier(learning_rate=0.71, n_estimators=60, random_state=0)</pre></div></div></div></div></div>"
      ],
      "text/plain": [
       "AdaBoostClassifier(learning_rate=0.71, n_estimators=60, random_state=0)"
      ]
     },
     "execution_count": 467,
     "metadata": {},
     "output_type": "execute_result"
    }
   ],
   "source": [
    "ada_clf_hyp = AdaBoostClassifier(random_state= 0)\n",
    "hyperparameters = {'n_estimators' : np.arange(10,100),\n",
    "                    'learning_rate': np.arange(0,1,0.01),\n",
    "                    }\n",
    "rscv_clf_ada = RandomizedSearchCV(ada_clf_hyp,hyperparameters,cv = 5)\n",
    "rscv_clf_ada.fit(x_train,y_train)\n",
    "rscv_clf_ada.best_estimator_"
   ]
  },
  {
   "cell_type": "code",
   "execution_count": 598,
   "id": "ebde78fb",
   "metadata": {},
   "outputs": [
    {
     "data": {
      "text/html": [
       "<style>#sk-container-id-21 {color: black;background-color: white;}#sk-container-id-21 pre{padding: 0;}#sk-container-id-21 div.sk-toggleable {background-color: white;}#sk-container-id-21 label.sk-toggleable__label {cursor: pointer;display: block;width: 100%;margin-bottom: 0;padding: 0.3em;box-sizing: border-box;text-align: center;}#sk-container-id-21 label.sk-toggleable__label-arrow:before {content: \"▸\";float: left;margin-right: 0.25em;color: #696969;}#sk-container-id-21 label.sk-toggleable__label-arrow:hover:before {color: black;}#sk-container-id-21 div.sk-estimator:hover label.sk-toggleable__label-arrow:before {color: black;}#sk-container-id-21 div.sk-toggleable__content {max-height: 0;max-width: 0;overflow: hidden;text-align: left;background-color: #f0f8ff;}#sk-container-id-21 div.sk-toggleable__content pre {margin: 0.2em;color: black;border-radius: 0.25em;background-color: #f0f8ff;}#sk-container-id-21 input.sk-toggleable__control:checked~div.sk-toggleable__content {max-height: 200px;max-width: 100%;overflow: auto;}#sk-container-id-21 input.sk-toggleable__control:checked~label.sk-toggleable__label-arrow:before {content: \"▾\";}#sk-container-id-21 div.sk-estimator input.sk-toggleable__control:checked~label.sk-toggleable__label {background-color: #d4ebff;}#sk-container-id-21 div.sk-label input.sk-toggleable__control:checked~label.sk-toggleable__label {background-color: #d4ebff;}#sk-container-id-21 input.sk-hidden--visually {border: 0;clip: rect(1px 1px 1px 1px);clip: rect(1px, 1px, 1px, 1px);height: 1px;margin: -1px;overflow: hidden;padding: 0;position: absolute;width: 1px;}#sk-container-id-21 div.sk-estimator {font-family: monospace;background-color: #f0f8ff;border: 1px dotted black;border-radius: 0.25em;box-sizing: border-box;margin-bottom: 0.5em;}#sk-container-id-21 div.sk-estimator:hover {background-color: #d4ebff;}#sk-container-id-21 div.sk-parallel-item::after {content: \"\";width: 100%;border-bottom: 1px solid gray;flex-grow: 1;}#sk-container-id-21 div.sk-label:hover label.sk-toggleable__label {background-color: #d4ebff;}#sk-container-id-21 div.sk-serial::before {content: \"\";position: absolute;border-left: 1px solid gray;box-sizing: border-box;top: 0;bottom: 0;left: 50%;z-index: 0;}#sk-container-id-21 div.sk-serial {display: flex;flex-direction: column;align-items: center;background-color: white;padding-right: 0.2em;padding-left: 0.2em;position: relative;}#sk-container-id-21 div.sk-item {position: relative;z-index: 1;}#sk-container-id-21 div.sk-parallel {display: flex;align-items: stretch;justify-content: center;background-color: white;position: relative;}#sk-container-id-21 div.sk-item::before, #sk-container-id-21 div.sk-parallel-item::before {content: \"\";position: absolute;border-left: 1px solid gray;box-sizing: border-box;top: 0;bottom: 0;left: 50%;z-index: -1;}#sk-container-id-21 div.sk-parallel-item {display: flex;flex-direction: column;z-index: 1;position: relative;background-color: white;}#sk-container-id-21 div.sk-parallel-item:first-child::after {align-self: flex-end;width: 50%;}#sk-container-id-21 div.sk-parallel-item:last-child::after {align-self: flex-start;width: 50%;}#sk-container-id-21 div.sk-parallel-item:only-child::after {width: 0;}#sk-container-id-21 div.sk-dashed-wrapped {border: 1px dashed gray;margin: 0 0.4em 0.5em 0.4em;box-sizing: border-box;padding-bottom: 0.4em;background-color: white;}#sk-container-id-21 div.sk-label label {font-family: monospace;font-weight: bold;display: inline-block;line-height: 1.2em;}#sk-container-id-21 div.sk-label-container {text-align: center;}#sk-container-id-21 div.sk-container {/* jupyter's `normalize.less` sets `[hidden] { display: none; }` but bootstrap.min.css set `[hidden] { display: none !important; }` so we also need the `!important` here to be able to override the default hidden behavior on the sphinx rendered scikit-learn.org. See: https://github.com/scikit-learn/scikit-learn/issues/21755 */display: inline-block !important;position: relative;}#sk-container-id-21 div.sk-text-repr-fallback {display: none;}</style><div id=\"sk-container-id-21\" class=\"sk-top-container\"><div class=\"sk-text-repr-fallback\"><pre>AdaBoostClassifier(learning_rate=0.71, n_estimators=60, random_state=0)</pre><b>In a Jupyter environment, please rerun this cell to show the HTML representation or trust the notebook. <br />On GitHub, the HTML representation is unable to render, please try loading this page with nbviewer.org.</b></div><div class=\"sk-container\" hidden><div class=\"sk-item\"><div class=\"sk-estimator sk-toggleable\"><input class=\"sk-toggleable__control sk-hidden--visually\" id=\"sk-estimator-id-21\" type=\"checkbox\" checked><label for=\"sk-estimator-id-21\" class=\"sk-toggleable__label sk-toggleable__label-arrow\">AdaBoostClassifier</label><div class=\"sk-toggleable__content\"><pre>AdaBoostClassifier(learning_rate=0.71, n_estimators=60, random_state=0)</pre></div></div></div></div></div>"
      ],
      "text/plain": [
       "AdaBoostClassifier(learning_rate=0.71, n_estimators=60, random_state=0)"
      ]
     },
     "execution_count": 598,
     "metadata": {},
     "output_type": "execute_result"
    }
   ],
   "source": [
    "ada_clf_hyp = AdaBoostClassifier(learning_rate=0.71, n_estimators=60, random_state=0)\n",
    "ada_clf_hyp.fit(x_train,y_train)"
   ]
  },
  {
   "cell_type": "markdown",
   "id": "83ead255",
   "metadata": {},
   "source": [
    "### Evaluation Metric of Training"
   ]
  },
  {
   "cell_type": "code",
   "execution_count": 599,
   "id": "635a7cb6",
   "metadata": {},
   "outputs": [
    {
     "name": "stdout",
     "output_type": "stream",
     "text": [
      "Confusion Matrix : \n",
      " [[3418  813]\n",
      " [ 776 3922]]\n",
      "Accuracy: 0.8220405420539814\n",
      "Classification Report :\n",
      "               precision    recall  f1-score   support\n",
      "\n",
      "           0       0.81      0.81      0.81      4231\n",
      "           1       0.83      0.83      0.83      4698\n",
      "\n",
      "    accuracy                           0.82      8929\n",
      "   macro avg       0.82      0.82      0.82      8929\n",
      "weighted avg       0.82      0.82      0.82      8929\n",
      "\n",
      "precision : 0.8282998944033791\n",
      "Recall : 0.8348233290762026\n",
      "F1 : 0.8315488179794339\n"
     ]
    }
   ],
   "source": [
    "y_pred_train = ada_clf_hyp.predict(x_train)\n",
    "\n",
    "conf_matrix = confusion_matrix(y_train,y_pred_train)\n",
    "print('Confusion Matrix : \\n',conf_matrix)\n",
    "\n",
    "accuracy_train = accuracy_score(y_train,y_pred_train)\n",
    "print('Accuracy:',accuracy_train)\n",
    "\n",
    "classi_report = classification_report(y_train,y_pred_train)\n",
    "print('Classification Report :\\n',classi_report)\n",
    "\n",
    "precision = precision_score(y_train,y_pred_train)\n",
    "print('precision :',precision)\n",
    "\n",
    "recall = recall_score(y_train,y_pred_train)\n",
    "print('Recall :',recall)\n",
    "\n",
    "F1 = f1_score(y_train,y_pred_train)\n",
    "print('F1 :',F1)"
   ]
  },
  {
   "cell_type": "markdown",
   "id": "f2989f4a",
   "metadata": {},
   "source": [
    "### Evaluation Metric of Testing"
   ]
  },
  {
   "cell_type": "code",
   "execution_count": 600,
   "id": "94e310d0",
   "metadata": {},
   "outputs": [
    {
     "name": "stdout",
     "output_type": "stream",
     "text": [
      "Confusion Matrix : \n",
      " [[867 191]\n",
      " [182 993]]\n",
      "Accuracy: 0.8329601433049709\n",
      "Classification Report :\n",
      "               precision    recall  f1-score   support\n",
      "\n",
      "           0       0.83      0.82      0.82      1058\n",
      "           1       0.84      0.85      0.84      1175\n",
      "\n",
      "    accuracy                           0.83      2233\n",
      "   macro avg       0.83      0.83      0.83      2233\n",
      "weighted avg       0.83      0.83      0.83      2233\n",
      "\n",
      "precision : 0.8386824324324325\n",
      "Recall : 0.8451063829787234\n",
      "F1 : 0.8418821534548538\n"
     ]
    }
   ],
   "source": [
    "y_pred = ada_clf_hyp.predict(x_test)\n",
    "\n",
    "conf_matrix = confusion_matrix(y_test,y_pred)\n",
    "print('Confusion Matrix : \\n',conf_matrix)\n",
    "\n",
    "accuracy_test = accuracy_score(y_test,y_pred)\n",
    "print('Accuracy:',accuracy_test)\n",
    "\n",
    "classi_report = classification_report(y_test,y_pred)\n",
    "print('Classification Report :\\n',classi_report)\n",
    "\n",
    "precision = precision_score(y_test,y_pred)\n",
    "print('precision :',precision)\n",
    "\n",
    "recall = recall_score(y_test,y_pred)\n",
    "print('Recall :',recall)\n",
    "\n",
    "F1 = f1_score(y_test,y_pred)\n",
    "print('F1 :',F1)"
   ]
  },
  {
   "cell_type": "code",
   "execution_count": 601,
   "id": "f2afef7c",
   "metadata": {},
   "outputs": [],
   "source": [
    "final_result_dict['accuracy_train'].append(accuracy_train)\n",
    "final_result_dict['accuracy_test'].append(accuracy_test)\n",
    "final_result_dict['precision'].append(precision)\n",
    "final_result_dict['recall'].append(Recall)\n",
    "final_result_dict['F1'].append(F1)\n",
    "index.append('Ada_Boost_Hyperparameter')"
   ]
  },
  {
   "cell_type": "markdown",
   "id": "1530e1d8",
   "metadata": {},
   "source": [
    "## Conclusion on ada Boost:-\n",
    "    \n",
    "### Adaboost gives best result on Hyperparameter Tunning which is  82% on Training and 83% in testing    "
   ]
  },
  {
   "cell_type": "code",
   "execution_count": 603,
   "id": "0500c7cf",
   "metadata": {},
   "outputs": [
    {
     "data": {
      "text/html": [
       "<div>\n",
       "<style scoped>\n",
       "    .dataframe tbody tr th:only-of-type {\n",
       "        vertical-align: middle;\n",
       "    }\n",
       "\n",
       "    .dataframe tbody tr th {\n",
       "        vertical-align: top;\n",
       "    }\n",
       "\n",
       "    .dataframe thead th {\n",
       "        text-align: right;\n",
       "    }\n",
       "</style>\n",
       "<table border=\"1\" class=\"dataframe\">\n",
       "  <thead>\n",
       "    <tr style=\"text-align: right;\">\n",
       "      <th></th>\n",
       "      <th>accuracy_train</th>\n",
       "      <th>accuracy_test</th>\n",
       "      <th>precision</th>\n",
       "      <th>recall</th>\n",
       "      <th>F1</th>\n",
       "    </tr>\n",
       "  </thead>\n",
       "  <tbody>\n",
       "    <tr>\n",
       "      <th>logistic_reg</th>\n",
       "      <td>0.757756</td>\n",
       "      <td>0.770264</td>\n",
       "      <td>0.765224</td>\n",
       "      <td>0.793742</td>\n",
       "      <td>0.788279</td>\n",
       "    </tr>\n",
       "    <tr>\n",
       "      <th>Decision_tree_Prunning</th>\n",
       "      <td>0.869974</td>\n",
       "      <td>0.853560</td>\n",
       "      <td>0.883363</td>\n",
       "      <td>0.793742</td>\n",
       "      <td>0.856642</td>\n",
       "    </tr>\n",
       "    <tr>\n",
       "      <th>Random_Forest_Prunning</th>\n",
       "      <td>0.849031</td>\n",
       "      <td>0.841469</td>\n",
       "      <td>0.866191</td>\n",
       "      <td>0.793742</td>\n",
       "      <td>0.845819</td>\n",
       "    </tr>\n",
       "    <tr>\n",
       "      <th>Ada_Boost_Hyperparameter</th>\n",
       "      <td>0.822041</td>\n",
       "      <td>0.832960</td>\n",
       "      <td>0.838682</td>\n",
       "      <td>0.793742</td>\n",
       "      <td>0.841882</td>\n",
       "    </tr>\n",
       "  </tbody>\n",
       "</table>\n",
       "</div>"
      ],
      "text/plain": [
       "                          accuracy_train  accuracy_test  precision    recall  \\\n",
       "logistic_reg                    0.757756       0.770264   0.765224  0.793742   \n",
       "Decision_tree_Prunning          0.869974       0.853560   0.883363  0.793742   \n",
       "Random_Forest_Prunning          0.849031       0.841469   0.866191  0.793742   \n",
       "Ada_Boost_Hyperparameter        0.822041       0.832960   0.838682  0.793742   \n",
       "\n",
       "                                F1  \n",
       "logistic_reg              0.788279  \n",
       "Decision_tree_Prunning    0.856642  \n",
       "Random_Forest_Prunning    0.845819  \n",
       "Ada_Boost_Hyperparameter  0.841882  "
      ]
     },
     "execution_count": 603,
     "metadata": {},
     "output_type": "execute_result"
    }
   ],
   "source": [
    "df_conclusion = pd.DataFrame(final_result_dict,index= index)\n",
    "df_conclusion"
   ]
  },
  {
   "cell_type": "code",
   "execution_count": 604,
   "id": "faf92e91",
   "metadata": {},
   "outputs": [
    {
     "data": {
      "text/plain": [
       "<Figure size 3600x3600 with 0 Axes>"
      ]
     },
     "metadata": {},
     "output_type": "display_data"
    },
    {
     "data": {
      "image/png": "[encoded data removed]",
      "text/plain": [
       "<Figure size 432x288 with 1 Axes>"
      ]
     },
     "metadata": {
      "needs_background": "light"
     },
     "output_type": "display_data"
    }
   ],
   "source": [
    "plt.figure(figsize=(50,50))\n",
    "ax = df_conclusion.plot.bar(rot = 50)"
   ]
  },
  {
   "cell_type": "markdown",
   "id": "8076c7c1",
   "metadata": {},
   "source": [
    "## Conclusion:-"
   ]
  },
  {
   "cell_type": "markdown",
   "id": "7826402b",
   "metadata": {},
   "source": [
    "### We will go with  Decision Tree Model As it is giving highest accuracy  as 85%"
   ]
  },
  {
   "cell_type": "markdown",
   "id": "3ac9c605",
   "metadata": {},
   "source": [
    "# Testing on Single row"
   ]
  },
  {
   "cell_type": "code",
   "execution_count": 612,
   "id": "4addbf39",
   "metadata": {},
   "outputs": [],
   "source": [
    "Project_data = {'columns': list(x.columns),\n",
    "               'month' : {'may': 5, 'jul': 7, 'aug': 8, 'jun': 6, \n",
    "                                 'nov': 11, 'apr': 4, 'feb': 2, 'jan': 1, 'oct': 10, \n",
    "                                 'sep': 9, 'mar': 3, 'dec': 12},\n",
    "               'default':{'no':1,'yes':0},\n",
    "               'housing':{'no':1,'yes':0},\n",
    "                'loan':{'no':1,'yes':0},\n",
    "                'deposit':{'no':1,'yes':0}}"
   ]
  },
  {
   "cell_type": "code",
   "execution_count": 614,
   "id": "90853184",
   "metadata": {},
   "outputs": [],
   "source": [
    "le_encoder =  [le_job,le_marital,le_education,le_contact]"
   ]
  },
  {
   "cell_type": "code",
   "execution_count": 615,
   "id": "d61ba774",
   "metadata": {},
   "outputs": [
    {
     "data": {
      "text/html": [
       "<div>\n",
       "<style scoped>\n",
       "    .dataframe tbody tr th:only-of-type {\n",
       "        vertical-align: middle;\n",
       "    }\n",
       "\n",
       "    .dataframe tbody tr th {\n",
       "        vertical-align: top;\n",
       "    }\n",
       "\n",
       "    .dataframe thead th {\n",
       "        text-align: right;\n",
       "    }\n",
       "</style>\n",
       "<table border=\"1\" class=\"dataframe\">\n",
       "  <thead>\n",
       "    <tr style=\"text-align: right;\">\n",
       "      <th></th>\n",
       "      <th>age</th>\n",
       "      <th>job</th>\n",
       "      <th>marital</th>\n",
       "      <th>education</th>\n",
       "      <th>default</th>\n",
       "      <th>balance</th>\n",
       "      <th>housing</th>\n",
       "      <th>loan</th>\n",
       "      <th>contact</th>\n",
       "      <th>day</th>\n",
       "      <th>month</th>\n",
       "      <th>duration</th>\n",
       "      <th>campaign</th>\n",
       "      <th>pdays</th>\n",
       "      <th>previous</th>\n",
       "      <th>poutcome</th>\n",
       "    </tr>\n",
       "  </thead>\n",
       "  <tbody>\n",
       "    <tr>\n",
       "      <th>0</th>\n",
       "      <td>59</td>\n",
       "      <td>0</td>\n",
       "      <td>1</td>\n",
       "      <td>1</td>\n",
       "      <td>1</td>\n",
       "      <td>2343</td>\n",
       "      <td>0</td>\n",
       "      <td>1</td>\n",
       "      <td>2</td>\n",
       "      <td>5</td>\n",
       "      <td>5</td>\n",
       "      <td>1042</td>\n",
       "      <td>1</td>\n",
       "      <td>-1</td>\n",
       "      <td>0</td>\n",
       "      <td>3</td>\n",
       "    </tr>\n",
       "  </tbody>\n",
       "</table>\n",
       "</div>"
      ],
      "text/plain": [
       "   age  job  marital  education  default  balance  housing  loan  contact  \\\n",
       "0   59    0        1          1        1     2343        0     1        2   \n",
       "\n",
       "   day  month  duration  campaign  pdays  previous  poutcome  \n",
       "0    5      5      1042         1     -1         0         3  "
      ]
     },
     "execution_count": 615,
     "metadata": {},
     "output_type": "execute_result"
    }
   ],
   "source": [
    "x.head(1)"
   ]
  },
  {
   "cell_type": "code",
   "execution_count": 635,
   "id": "f9249767",
   "metadata": {},
   "outputs": [],
   "source": [
    "age = 59\n",
    "job = 'technician'\n",
    "marital = 'single'\n",
    "education = 'secondary'\n",
    "default = 'yes'\n",
    "balance = 2343\n",
    "housing = 'no'\n",
    "loan = 'yes'\n",
    "contact = 'cellular'\n",
    "day = 5\n",
    "month = 'apr'\n",
    "duration = 1042\n",
    "campaign = 1\n",
    "pdays = -1\n",
    "previous = 0\n",
    "poutcome = 3"
   ]
  },
  {
   "cell_type": "code",
   "execution_count": 636,
   "id": "9a1d1db1",
   "metadata": {},
   "outputs": [],
   "source": [
    "test_array = np.zeros(len(x.columns))\n",
    "\n",
    "default_new = Project_data['default'][default]\n",
    "housing_new = Project_data['housing'][housing]\n",
    "loan_new = Project_data['loan'][loan]\n",
    "month_new = Project_data['month'][month]\n",
    "\n",
    "test_array[0] = age\n",
    "test_array[1] = le_job.transform([job])[0]\n",
    "test_array[2] = le_marital.transform([marital])[0]\n",
    "test_array[3] = le_education.transform([education])[0]\n",
    "test_array[4] = default_new\n",
    "test_array[5] = balance\n",
    "test_array[6] = housing_new\n",
    "test_array[7] = loan_new\n",
    "test_array[8] = le_contact.transform([contact])[0]\n",
    "test_array[9] = day\n",
    "test_array[10] = month_new\n",
    "test_array[11] = duration\n",
    "test_array[12] = campaign\n",
    "test_array[13] = pdays\n",
    "test_array[14] = previous\n",
    "test_array[15] = poutcome"
   ]
  },
  {
   "cell_type": "code",
   "execution_count": 637,
   "id": "281f2ca1",
   "metadata": {},
   "outputs": [
    {
     "data": {
      "text/plain": [
       "array([ 5.900e+01,  9.000e+00,  2.000e+00,  1.000e+00,  0.000e+00,\n",
       "        2.343e+03,  1.000e+00,  0.000e+00,  0.000e+00,  5.000e+00,\n",
       "        4.000e+00,  1.042e+03,  1.000e+00, -1.000e+00,  0.000e+00,\n",
       "        3.000e+00])"
      ]
     },
     "execution_count": 637,
     "metadata": {},
     "output_type": "execute_result"
    }
   ],
   "source": [
    "test_array"
   ]
  },
  {
   "cell_type": "code",
   "execution_count": 639,
   "id": "c6a5929e",
   "metadata": {},
   "outputs": [
    {
     "data": {
      "text/plain": [
       "0"
      ]
     },
     "execution_count": 639,
     "metadata": {},
     "output_type": "execute_result"
    }
   ],
   "source": [
    "dt_clf_ccp.predict([test_array])[0]"
   ]
  },
  {
   "cell_type": "code",
   "execution_count": null,
   "id": "a3aa66fe",
   "metadata": {},
   "outputs": [],
   "source": []
  },
  {
   "cell_type": "code",
   "execution_count": null,
   "id": "b4e329ed",
   "metadata": {},
   "outputs": [],
   "source": []
  },
  {
   "cell_type": "code",
   "execution_count": null,
   "id": "efe923e7",
   "metadata": {},
   "outputs": [],
   "source": []
  },
  {
   "cell_type": "code",
   "execution_count": null,
   "id": "8ba0f575",
   "metadata": {},
   "outputs": [],
   "source": []
  },
  {
   "cell_type": "code",
   "execution_count": null,
   "id": "f1990970",
   "metadata": {},
   "outputs": [],
   "source": []
  },
  {
   "cell_type": "code",
   "execution_count": null,
   "id": "4be104a8",
   "metadata": {},
   "outputs": [],
   "source": []
  },
  {
   "cell_type": "code",
   "execution_count": null,
   "id": "fa1a445b",
   "metadata": {},
   "outputs": [],
   "source": []
  },
  {
   "cell_type": "code",
   "execution_count": null,
   "id": "2e354c51",
   "metadata": {},
   "outputs": [],
   "source": []
  },
  {
   "cell_type": "code",
   "execution_count": null,
   "id": "0c743dcf",
   "metadata": {},
   "outputs": [],
   "source": []
  },
  {
   "cell_type": "code",
   "execution_count": null,
   "id": "abed0786",
   "metadata": {},
   "outputs": [],
   "source": []
  },
  {
   "cell_type": "code",
   "execution_count": null,
   "id": "72fa9c3c",
   "metadata": {},
   "outputs": [],
   "source": []
  }
 ],
 "metadata": {
  "kernelspec": {
   "display_name": "Python 3 (ipykernel)",
   "language": "python",
   "name": "python3"
  },
  "language_info": {
   "codemirror_mode": {
    "name": "ipython",
    "version": 3
   },
   "file_extension": ".py",
   "mimetype": "text/x-python",
   "name": "python",
   "nbconvert_exporter": "python",
   "pygments_lexer": "ipython3",
   "version": "3.10.4"
  }
 },
 "nbformat": 4,
 "nbformat_minor": 5
}
